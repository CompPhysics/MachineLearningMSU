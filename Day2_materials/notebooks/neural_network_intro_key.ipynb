{
 "cells": [
  {
   "cell_type": "markdown",
   "metadata": {},
   "source": [
    "# Applying Fully Connected Neural Networks\n",
    "\n",
    "In this activity you will learn how to apply dense neural networks in Keras. \n",
    "\n",
    "The dataset that will be studied is a collection of simulated particle events from Pythia. Specifically, you will construct a dense neural network which will learn how to calculate the invariant mass of a particle from its energy and momentum.\n",
    "\n",
    "First, import numpy, tensorflow, and pylab and load the data.\n"
   ]
  },
  {
   "cell_type": "code",
   "execution_count": 21,
   "metadata": {},
   "outputs": [],
   "source": [
    "import numpy as np\n",
    "import tensorflow as tf\n",
    "import pylab as plt\n",
    "\n",
    "# Prevent TensorFlow from showing us deprecation warnings\n",
    "tf.logging.set_verbosity(tf.logging.ERROR)\n",
    "\n",
    "# MPK comp hack. You should not need this.\n",
    "import os\n",
    "os.environ['KMP_DUPLICATE_LIB_OK']='True'"
   ]
  },
  {
   "cell_type": "code",
   "execution_count": 22,
   "metadata": {},
   "outputs": [
    {
     "name": "stdout",
     "output_type": "stream",
     "text": [
      "(35916, 80)\n",
      "[[-0.492933  -0.469448  -2.22871   ... -1.76367    2.01211    1.       ]\n",
      " [-0.0211283  0.513518   0.0569839 ... -0.542793   1.1322     1.       ]\n",
      " [-0.238883   0.0107631 -1.43853   ... -3.65355    3.77525    1.       ]\n",
      " ...\n",
      " [-0.494778  -0.19824    1.59491   ... -3.39528    3.60725    1.       ]\n",
      " [-0.550329   0.533369   0.111079  ... -0.179829   1.05863    1.       ]\n",
      " [-0.444629   0.980696   0.676546  ... -2.62229    2.8243     1.       ]]\n"
     ]
    }
   ],
   "source": [
    "# import data\n",
    "data = np.load(\"../data/homogenous-16-particle-events-energy.npy\")\n",
    "print(data.shape)\n",
    "print(data)"
   ]
  },
  {
   "cell_type": "markdown",
   "metadata": {},
   "source": [
    "The datset is a 2D array where each row represents one event of data from an electron-proton collision. This dataset is comprised ONLY of events where there were exactly 16 particles produced from an electron-proton collision. Each particle has an x-momentum,  y-momentum, z-momentum, energy, and charge: $(p_x,p_y,p_z,E,q)$. Each event is therefore represented by 80 numbers. Using numpy's reshape method we can make each row represent one particle.  "
   ]
  },
  {
   "cell_type": "code",
   "execution_count": 23,
   "metadata": {},
   "outputs": [
    {
     "name": "stdout",
     "output_type": "stream",
     "text": [
      "(35916, 16, 5)\n",
      "(574656, 5)\n"
     ]
    }
   ],
   "source": [
    "data = np.reshape(data,(len(data),16,5))\n",
    "print(data.shape)\n",
    "data = np.reshape(data, (len(data)*16,5))\n",
    "print(data.shape)"
   ]
  },
  {
   "cell_type": "markdown",
   "metadata": {},
   "source": [
    "These are our training data inputs, but we also must provide the targets, which are the invariant masses of each particle. This is a straightforward computation that does not require neural networks, but provides an easy-to-understand problem.\n",
    "\n",
    "We choose units where $c = 1$:\n",
    "$$m^2=E^2-||\\textbf{p}||^2$$\n",
    "where $m, E$, and $\\textbf{p}$ are all in GeV."
   ]
  },
  {
   "cell_type": "code",
   "execution_count": 24,
   "metadata": {},
   "outputs": [
    {
     "name": "stdout",
     "output_type": "stream",
     "text": [
      "[0.13953852 0.13957194 0.13949486 ... 0.1395683  0.13957045 0.93825666]\n"
     ]
    }
   ],
   "source": [
    "p2 = data[:,0]**2 + data[:,1]**2 + data[:,2]**2\n",
    "target = np.sqrt(np.maximum(data[:,3]**2 - p2,0))\n",
    "print(target)"
   ]
  },
  {
   "cell_type": "markdown",
   "metadata": {},
   "source": [
    "There are several hundred thousand datapoints in this dataset which is overkill for this simple example. Create a test dataset with just 1000 examples."
   ]
  },
  {
   "cell_type": "code",
   "execution_count": 25,
   "metadata": {},
   "outputs": [],
   "source": [
    "smallTarget=target[:1000]\n",
    "smallEnergy=data[:1000]"
   ]
  },
  {
   "cell_type": "markdown",
   "metadata": {},
   "source": [
    "Next, make a histogram of the target data to make sure that we are seeing masses of real particles. As this data has limited precision, this will not resolve electrons very well, but protons, pions, and massless particles should be clearly visible."
   ]
  },
  {
   "cell_type": "code",
   "execution_count": 26,
   "metadata": {},
   "outputs": [
    {
     "data": {
      "image/png": "[encoded data removed]",
      "text/plain": [
       "<Figure size 432x288 with 1 Axes>"
      ]
     },
     "metadata": {
      "needs_background": "light"
     },
     "output_type": "display_data"
    }
   ],
   "source": [
    "plt.hist(target,bins=100)\n",
    "plt.show()"
   ]
  },
  {
   "cell_type": "markdown",
   "metadata": {},
   "source": [
    "Now we can build and train the first neural network. Start with a simple one hidden layer network with 5 neurons, and ReLU activation. Train for 30 epochs with a batch size of 256, an Adam optimizer with a learning rate of 0.1, using mean squared error loss. \n",
    "\n",
    "Additionally, use a validation split of 0.8 when fitting to check for overtraining. Information on how to implement these features can be found here:\n",
    "<https://www.tensorflow.org/api_docs/python/tf/keras>.\n",
    "Check out Sequential underneath models and Dense under layers.\n"
   ]
  },
  {
   "cell_type": "code",
   "execution_count": 27,
   "metadata": {},
   "outputs": [
    {
     "name": "stdout",
     "output_type": "stream",
     "text": [
      "Train on 199 samples, validate on 801 samples\n",
      "Epoch 1/30\n",
      "199/199 [==============================] - 1s 6ms/sample - loss: 1.2938 - val_loss: 0.1511\n",
      "Epoch 2/30\n",
      "199/199 [==============================] - 0s 50us/sample - loss: 0.1491 - val_loss: 0.1528\n",
      "Epoch 3/30\n",
      "199/199 [==============================] - 0s 64us/sample - loss: 0.1266 - val_loss: 0.2339\n",
      "Epoch 4/30\n",
      "199/199 [==============================] - 0s 75us/sample - loss: 0.1773 - val_loss: 0.1948\n",
      "Epoch 5/30\n",
      "199/199 [==============================] - 0s 62us/sample - loss: 0.1525 - val_loss: 0.1306\n",
      "Epoch 6/30\n",
      "199/199 [==============================] - 0s 86us/sample - loss: 0.1100 - val_loss: 0.0919\n",
      "Epoch 7/30\n",
      "199/199 [==============================] - 0s 101us/sample - loss: 0.0798 - val_loss: 0.0738\n",
      "Epoch 8/30\n",
      "199/199 [==============================] - 0s 96us/sample - loss: 0.0640 - val_loss: 0.0630\n",
      "Epoch 9/30\n",
      "199/199 [==============================] - 0s 62us/sample - loss: 0.0535 - val_loss: 0.0558\n",
      "Epoch 10/30\n",
      "199/199 [==============================] - 0s 88us/sample - loss: 0.0472 - val_loss: 0.0523\n",
      "Epoch 11/30\n",
      "199/199 [==============================] - 0s 100us/sample - loss: 0.0448 - val_loss: 0.0517\n",
      "Epoch 12/30\n",
      "199/199 [==============================] - 0s 59us/sample - loss: 0.0452 - val_loss: 0.0528\n",
      "Epoch 13/30\n",
      "199/199 [==============================] - 0s 60us/sample - loss: 0.0472 - val_loss: 0.0543\n",
      "Epoch 14/30\n",
      "199/199 [==============================] - 0s 70us/sample - loss: 0.0494 - val_loss: 0.0552\n",
      "Epoch 15/30\n",
      "199/199 [==============================] - 0s 66us/sample - loss: 0.0510 - val_loss: 0.0552\n",
      "Epoch 16/30\n",
      "199/199 [==============================] - 0s 68us/sample - loss: 0.0514 - val_loss: 0.0542\n",
      "Epoch 17/30\n",
      "199/199 [==============================] - 0s 64us/sample - loss: 0.0507 - val_loss: 0.0522\n",
      "Epoch 18/30\n",
      "199/199 [==============================] - 0s 62us/sample - loss: 0.0489 - val_loss: 0.0498\n",
      "Epoch 19/30\n",
      "199/199 [==============================] - 0s 69us/sample - loss: 0.0467 - val_loss: 0.0475\n",
      "Epoch 20/30\n",
      "199/199 [==============================] - 0s 61us/sample - loss: 0.0444 - val_loss: 0.0456\n",
      "Epoch 21/30\n",
      "199/199 [==============================] - 0s 83us/sample - loss: 0.0425 - val_loss: 0.0444\n",
      "Epoch 22/30\n",
      "199/199 [==============================] - 0s 78us/sample - loss: 0.0413 - val_loss: 0.0440\n",
      "Epoch 23/30\n",
      "199/199 [==============================] - 0s 70us/sample - loss: 0.0408 - val_loss: 0.0441\n",
      "Epoch 24/30\n",
      "199/199 [==============================] - 0s 60us/sample - loss: 0.0408 - val_loss: 0.0445\n",
      "Epoch 25/30\n",
      "199/199 [==============================] - 0s 85us/sample - loss: 0.0411 - val_loss: 0.0449\n",
      "Epoch 26/30\n",
      "199/199 [==============================] - 0s 70us/sample - loss: 0.0413 - val_loss: 0.0450\n",
      "Epoch 27/30\n",
      "199/199 [==============================] - 0s 72us/sample - loss: 0.0412 - val_loss: 0.0446\n",
      "Epoch 28/30\n",
      "199/199 [==============================] - 0s 70us/sample - loss: 0.0406 - val_loss: 0.0437\n",
      "Epoch 29/30\n",
      "199/199 [==============================] - 0s 69us/sample - loss: 0.0394 - val_loss: 0.0423\n",
      "Epoch 30/30\n",
      "199/199 [==============================] - 0s 121us/sample - loss: 0.0378 - val_loss: 0.0407\n"
     ]
    }
   ],
   "source": [
    "model=tf.keras.Sequential() #Define the model object\n",
    "model.add(tf.keras.layers.Dense(5,input_shape=(5,),activation=\"relu\")) #Add the hidden layer\n",
    "model.add(tf.keras.layers.Dense(1,input_shape=(5,))) #Add the output layer\n",
    "model.compile(tf.keras.optimizers.Adam(lr=0.1),loss=tf.keras.losses.MeanSquaredError()) #Adam optimizer and mean squared error loss\n",
    "results = model.fit(smallEnergy,smallTarget,epochs=30, batch_size=256, validation_split=0.8)"
   ]
  },
  {
   "cell_type": "code",
   "execution_count": 28,
   "metadata": {},
   "outputs": [
    {
     "name": "stdout",
     "output_type": "stream",
     "text": [
      "[0.00000000e+00 0.00000000e+00 3.50411301e-04 0.00000000e+00\n",
      " 0.00000000e+00 0.00000000e+00 1.37491406e-01 1.39568299e-01\n",
      " 1.39570451e-01 9.38256655e-01]\n",
      "[[0.04430274]\n",
      " [0.04430274]\n",
      " [0.04430274]\n",
      " [0.04430274]\n",
      " [0.04430274]\n",
      " [0.04430274]\n",
      " [0.04430274]\n",
      " [0.19727278]\n",
      " [0.1932731 ]\n",
      " [0.25026765]]\n"
     ]
    },
    {
     "data": {
      "image/png": "[encoded data removed]",
      "text/plain": [
       "<Figure size 432x288 with 1 Axes>"
      ]
     },
     "metadata": {
      "needs_background": "light"
     },
     "output_type": "display_data"
    }
   ],
   "source": [
    "history = results.history\n",
    "print(target[-10:])\n",
    "y = model.predict(data[-10:])\n",
    "print(y)\n",
    "plt.plot(history[\"loss\"], label=\"training loss\")\n",
    "plt.plot(history[\"val_loss\"], label=\"validation loss\")\n",
    "plt.xlabel(\"Epoch\")\n",
    "plt.ylabel(\"Loss\")\n",
    "plt.legend()\n",
    "plt.show()"
   ]
  },
  {
   "cell_type": "markdown",
   "metadata": {},
   "source": [
    "The model is learning, but we can do better. Try increasing the number of hidden neurons to 20."
   ]
  },
  {
   "cell_type": "code",
   "execution_count": null,
   "metadata": {},
   "outputs": [],
   "source": [
    "model=tf.keras.Sequential() #Define the model object\n",
    "model.add(tf.keras.layers.Dense(20,input_shape=(5,),activation=\"relu\")) #Add the hidden layer\n",
    "model.add(tf.keras.layers.Dense(1,input_shape=(20,))) #Add the output layer\n",
    "model.compile(tf.keras.optimizers.Adam(lr=0.01),loss=tf.keras.losses.MeanSquaredError()) #Adam optimizer and mean squared error loss\n",
    "model.fit(smallEnergy,smallTarget,epochs=30, batch_size=256, validation_split=0.8)"
   ]
  },
  {
   "cell_type": "markdown",
   "metadata": {},
   "source": [
    "That did not do much better, try decreasing the batch size to 16."
   ]
  },
  {
   "cell_type": "code",
   "execution_count": null,
   "metadata": {},
   "outputs": [],
   "source": [
    "model=tf.keras.Sequential() #Define the model object\n",
    "model.add(tf.keras.layers.Dense(20,input_shape=(5,),activation=\"relu\")) #Add the hidden layer\n",
    "model.add(tf.keras.layers.Dense(1,input_shape=(20,))) #Add the output layer\n",
    "model.compile(tf.keras.optimizers.Adam(lr=0.1),loss=tf.keras.losses.MeanSquaredError()) #Adam optimizer and mean squared error loss\n",
    "model.fit(smallEnergy,smallTarget,epochs=30, batch_size=16, validation_split=0.8)\n",
    "print(target[-10:])\n",
    "y = model.predict(data[-10:])\n",
    "print(y)"
   ]
  },
  {
   "cell_type": "markdown",
   "metadata": {},
   "source": [
    "This is starting to do better but has room for improvemnt. Perhpas the learning rate is to high and the network can't fine tune. Try decreasing the learning rate to 0.001."
   ]
  },
  {
   "cell_type": "code",
   "execution_count": null,
   "metadata": {},
   "outputs": [],
   "source": [
    "model=tf.keras.Sequential() #Define the model object\n",
    "model.add(tf.keras.layers.Dense(20,input_shape=(5,),activation=\"relu\")) #Add the hidden layer\n",
    "model.add(tf.keras.layers.Dense(1,input_shape=(20,))) #Add the output layer\n",
    "model.compile(tf.keras.optimizers.Adam(lr=0.001),loss=tf.keras.losses.MeanSquaredError()) #Adam optimizer and mean squared error loss\n",
    "model.fit(smallEnergy,smallTarget,epochs=30, batch_size=16, validation_split=0.8)"
   ]
  },
  {
   "cell_type": "markdown",
   "metadata": {},
   "source": [
    "This is not really that mutch better, but now there is evidence of overtraining, as the training loss is so much lower than the validation loss. A common fix to this is adding dropout layers. Try adding a dropout layer with dropout rate of 0.5."
   ]
  },
  {
   "cell_type": "code",
   "execution_count": null,
   "metadata": {},
   "outputs": [],
   "source": [
    "model=tf.keras.Sequential() #Define the model object\n",
    "model.add(tf.keras.layers.Dense(20,input_shape=(5,),activation=\"relu\")) #Add the hidden layer\n",
    "model.add(tf.keras.layers.Dropout(0.5))\n",
    "model.add(tf.keras.layers.Dense(1,input_shape=(20,))) #Add the output layer\n",
    "model.compile(tf.keras.optimizers.Adam(lr=0.001),loss=tf.keras.losses.MeanSquaredError()) #Adam optimizer and mean squared error loss\n",
    "model.fit(smallEnergy,smallTarget,epochs=30, batch_size=16, validation_split=0.8)"
   ]
  },
  {
   "cell_type": "markdown",
   "metadata": {},
   "source": [
    "This clearly stoped the overtraining problem, but it still isn't training well. Now, try training on the full dataset with a more reasonable validation split of 0.2. Use the a single hidden layer with 20 neurons, a learning rate of 0.001, and a batch size of 256. Just run it for 10 epochs."
   ]
  },
  {
   "cell_type": "code",
   "execution_count": null,
   "metadata": {},
   "outputs": [],
   "source": [
    "model=tf.keras.Sequential() #Define the model object\n",
    "model.add(tf.keras.layers.Dense(20,input_shape=(5,),activation=\"relu\")) #Add the hidden layer\n",
    "model.add(tf.keras.layers.Dense(1,input_shape=(20,))) #Add the output layer\n",
    "model.compile(tf.keras.optimizers.Adam(lr=0.001),loss=tf.keras.losses.MeanSquaredError()) #Adam optimizer and mean squared error loss\n",
    "model.fit(data,target,epochs=10, batch_size=256, validation_split=0.2)"
   ]
  },
  {
   "cell_type": "markdown",
   "metadata": {},
   "source": [
    "This resulted in significant improvement and shows how important having a large enough dataset it. Moving on to the choice in activation functions, ReLU is not the only available choice, although it is currently the most popular for deep networks. \n",
    "\n",
    "Train a network using a sigmoid and/or tanh activation function."
   ]
  },
  {
   "cell_type": "code",
   "execution_count": null,
   "metadata": {},
   "outputs": [],
   "source": [
    "model=tf.keras.Sequential() #Define the model object\n",
    "model.add(tf.keras.layers.Dense(20,input_shape=(5,),activation=\"sigmoid\")) #Add the hidden layer\n",
    "model.add(tf.keras.layers.Dense(1,input_shape=(20,))) #Add the output layer\n",
    "model.compile(tf.keras.optimizers.Adam(lr=0.001),loss=tf.keras.losses.MeanSquaredError()) #Adam optimizer and mean squared error loss\n",
    "model.fit(data,target,epochs=10, batch_size=256, validation_split=0.2)\n",
    "\n",
    "model=tf.keras.Sequential() #Define the model object\n",
    "model.add(tf.keras.layers.Dense(20,input_shape=(5,),activation=\"tanh\")) #Add the hidden layer\n",
    "model.add(tf.keras.layers.Dense(1,input_shape=(20,))) #Add the output layer\n",
    "model.compile(tf.keras.optimizers.Adam(lr=0.001),loss=tf.keras.losses.MeanSquaredError()) #Adam optimizer and mean squared error loss\n",
    "model.fit(data,target,epochs=10, batch_size=256, validation_split=0.2)"
   ]
  },
  {
   "cell_type": "markdown",
   "metadata": {},
   "source": [
    "Next, try adding 2 new hidden layers to the network. Use the relu activation function."
   ]
  },
  {
   "cell_type": "code",
   "execution_count": null,
   "metadata": {},
   "outputs": [],
   "source": [
    "model=tf.keras.Sequential() #Define the model object\n",
    "model.add(tf.keras.layers.Dense(20,input_shape=(5,),activation=\"relu\")) #Add the hidden layer\n",
    "model.add(tf.keras.layers.Dense(20,input_shape=(20,),activation=\"relu\")) #Add the hidden layer\n",
    "model.add(tf.keras.layers.Dense(20,input_shape=(20,),activation=\"relu\")) #Add the hidden layer\n",
    "model.add(tf.keras.layers.Dense(1,input_shape=(20,))) #Add the output layer\n",
    "model.compile(tf.keras.optimizers.Adam(lr=0.001),loss=tf.keras.losses.MeanSquaredError()) #Adam optimizer and mean squared error loss\n",
    "model.fit(data,target,epochs=10, batch_size=256, validation_split=0.2)"
   ]
  },
  {
   "cell_type": "markdown",
   "metadata": {},
   "source": [
    "Clearly, adding more layers helps improve the quality of the network. There is a limit to now effective this is though. Try having 5 hidden layers."
   ]
  },
  {
   "cell_type": "code",
   "execution_count": null,
   "metadata": {},
   "outputs": [],
   "source": [
    "model=tf.keras.Sequential() #Define the model object\n",
    "model.add(tf.keras.layers.Dense(20,input_shape=(5,),activation=\"relu\")) #Add the hidden layer\n",
    "model.add(tf.keras.layers.Dense(20,input_shape=(20,),activation=\"relu\")) #Add the hidden layer\n",
    "model.add(tf.keras.layers.Dense(20,input_shape=(20,),activation=\"relu\")) #Add the hidden layer\n",
    "model.add(tf.keras.layers.Dense(20,input_shape=(20,),activation=\"relu\")) #Add the hidden layer\n",
    "model.add(tf.keras.layers.Dense(20,input_shape=(20,),activation=\"relu\")) #Add the hidden layer\n",
    "model.add(tf.keras.layers.Dense(1,input_shape=(20,))) #Add the output layer\n",
    "model.compile(tf.keras.optimizers.Adam(lr=0.001),loss=tf.keras.losses.MeanSquaredError()) #Adam optimizer and mean squared error loss\n",
    "model.fit(energy,target,epochs=10, batch_size=256, validation_split=0.2)"
   ]
  },
  {
   "cell_type": "markdown",
   "metadata": {},
   "source": [
    "Now, see what happens when you increase the number of neurons per layer from 20 to 50 in the 3 hidden layer model. Consider how they perform compared to Relu now. "
   ]
  },
  {
   "cell_type": "code",
   "execution_count": null,
   "metadata": {},
   "outputs": [],
   "source": [
    "model=tf.keras.Sequential() #Define the model object\n",
    "model.add(tf.keras.layers.Dense(50,input_shape=(5,),activation=\"relu\")) #Add the hidden layer\n",
    "model.add(tf.keras.layers.Dense(50,input_shape=(50,),activation=\"relu\")) #Add the hidden layer\n",
    "model.add(tf.keras.layers.Dense(50,input_shape=(50,),activation=\"relu\")) #Add the hidden layer\n",
    "model.add(tf.keras.layers.Dense(1,input_shape=(50,))) #Add the output layer\n",
    "model.compile(tf.keras.optimizers.Adam(lr=0.001),loss=tf.keras.losses.MeanSquaredError()) #Adam optimizer and mean squared error loss\n",
    "model.fit(energy,target,epochs=10, batch_size=256, validation_split=0.2)"
   ]
  },
  {
   "cell_type": "markdown",
   "metadata": {},
   "source": [
    "Try using the sigmoid and the tanh activation functions again and compare them to relu."
   ]
  },
  {
   "cell_type": "code",
   "execution_count": null,
   "metadata": {},
   "outputs": [],
   "source": [
    "model=tf.keras.Sequential() #Define the model object\n",
    "model.add(tf.keras.layers.Dense(50,input_shape=(5,),activation=\"sigmoid\")) #Add the hidden layer\n",
    "model.add(tf.keras.layers.Dense(50,input_shape=(50,),activation=\"sigmoid\")) #Add the hidden layer\n",
    "model.add(tf.keras.layers.Dense(50,input_shape=(50,),activation=\"sigmoid\")) #Add the hidden layer\n",
    "model.add(tf.keras.layers.Dense(1,input_shape=(50,))) #Add the output layer\n",
    "model.compile(tf.keras.optimizers.Adam(lr=0.001),loss=tf.keras.losses.MeanSquaredError()) #Adam optimizer and mean squared error loss\n",
    "model.fit(energy,target,epochs=10, batch_size=256, validation_split=0.2)\n",
    "\n",
    "model=tf.keras.Sequential() #Define the model object\n",
    "model.add(tf.keras.layers.Dense(50,input_shape=(5,),activation=\"tanh\")) #Add the hidden layer\n",
    "model.add(tf.keras.layers.Dense(50,input_shape=(50,),activation=\"tanh\")) #Add the hidden layer\n",
    "model.add(tf.keras.layers.Dense(50,input_shape=(50,),activation=\"tanh\")) #Add the hidden layer\n",
    "model.add(tf.keras.layers.Dense(1,input_shape=(50,))) #Add the output layer\n",
    "model.compile(tf.keras.optimizers.Adam(lr=0.001),loss=tf.keras.losses.MeanSquaredError()) #Adam optimizer and mean squared error loss\n",
    "model.fit(energy,target,epochs=10, batch_size=256, validation_split=0.2)"
   ]
  },
  {
   "cell_type": "markdown",
   "metadata": {},
   "source": [
    "This difference in performace, especially with the sigmoid function, is known as the vanishing gradient problem. If the value for any one the neurons gets too far away from 0, the gradient for sigmoid and tanh gets really close to 0. This means that for deeper networks it is much more difficult to update the first layers as their gradient is so small. Now, remove the fifth column from the input data, the charge, and see what happens when training. Why do you thing including charge has such a large impact?"
   ]
  },
  {
   "cell_type": "code",
   "execution_count": 15,
   "metadata": {},
   "outputs": [
    {
     "name": "stdout",
     "output_type": "stream",
     "text": [
      "[[-0.492933  -0.469448  -2.22871    2.33452  ]\n",
      " [-0.380699   0.859243   0.125686   0.958388 ]\n",
      " [-0.234261   0.933082   1.29211    1.61695  ]\n",
      " ...\n",
      " [-0.248859  -0.3504    -0.667259   0.805869 ]\n",
      " [-0.0388911 -0.0695658  0.337187   0.373533 ]\n",
      " [-0.28336    0.373694  -2.62229    2.8243   ]]\n",
      "Train on 459724 samples, validate on 114932 samples\n",
      "Epoch 1/10\n",
      "459724/459724 [==============================] - 12s 26us/sample - loss: 0.0117 - val_loss: 0.0039\n",
      "Epoch 2/10\n",
      "459724/459724 [==============================] - 10s 23us/sample - loss: 0.0036 - val_loss: 0.0029\n",
      "Epoch 3/10\n",
      "459724/459724 [==============================] - 11s 24us/sample - loss: 0.0029 - val_loss: 0.0025\n",
      "Epoch 4/10\n",
      "459724/459724 [==============================] - 11s 23us/sample - loss: 0.0027 - val_loss: 0.0025\n",
      "Epoch 5/10\n",
      "459724/459724 [==============================] - 11s 25us/sample - loss: 0.0026 - val_loss: 0.0024\n",
      "Epoch 6/10\n",
      "459724/459724 [==============================] - 11s 23us/sample - loss: 0.0025 - val_loss: 0.0026\n",
      "Epoch 7/10\n",
      "459724/459724 [==============================] - 11s 23us/sample - loss: 0.0023 - val_loss: 0.0026\n",
      "Epoch 8/10\n",
      "459724/459724 [==============================] - 11s 24us/sample - loss: 0.0022 - val_loss: 0.0021\n",
      "Epoch 9/10\n",
      "459724/459724 [==============================] - 11s 24us/sample - loss: 0.0022 - val_loss: 0.0021\n",
      "Epoch 10/10\n",
      "459724/459724 [==============================] - 11s 23us/sample - loss: 0.0021 - val_loss: 0.0018\n"
     ]
    },
    {
     "data": {
      "text/plain": [
       "<tensorflow.python.keras.callbacks.History at 0xb3bdbb518>"
      ]
     },
     "execution_count": 15,
     "metadata": {},
     "output_type": "execute_result"
    }
   ],
   "source": [
    "data = data[:,:4]\n",
    "print(data)\n",
    "model=tf.keras.Sequential() #Define the model object\n",
    "model.add(tf.keras.layers.Dense(50,input_shape=(4,),activation=\"relu\")) #Add the hidden layer\n",
    "model.add(tf.keras.layers.Dense(50,activation=\"relu\")) #Add the hidden layer\n",
    "model.add(tf.keras.layers.Dense(50,activation=\"relu\")) #Add the hidden layer\n",
    "model.add(tf.keras.layers.Dense(1)) #Add the output layer\n",
    "model.compile(tf.keras.optimizers.Adam(lr=0.001),loss=tf.keras.losses.MeanSquaredError()) #Adam optimizer and mean squared error loss\n",
    "model.fit(data,target,epochs=10, batch_size=256, validation_split=0.2)"
   ]
  },
  {
   "cell_type": "markdown",
   "metadata": {},
   "source": [
    "Finally, there are other options for the loss function. Try experimenting with mean squared error. Other optimizers that can be used are sgd, rmsprop, adagrad, adadelta, adamax, and nadam. <https://www.tensorflow.org/api_docs/python/tf/keras/optimizers>\n",
    "\n",
    "<https://www.tensorflow.org/api_docs/python/tf/keras/losses>"
   ]
  },
  {
   "cell_type": "code",
   "execution_count": 16,
   "metadata": {},
   "outputs": [
    {
     "data": {
      "text/plain": [
       "(array([5.4000e+01, 6.2000e+02, 3.4440e+03, 1.3922e+04, 1.4119e+04,\n",
       "        6.2740e+03, 3.9510e+03, 3.4010e+03, 3.5520e+03, 5.7640e+03,\n",
       "        8.8030e+03, 6.8770e+03, 4.7250e+03, 3.7760e+03, 3.4170e+03,\n",
       "        3.0420e+03, 2.9260e+03, 2.5520e+03, 1.4790e+03, 7.3500e+02,\n",
       "        2.1600e+02, 3.4000e+01, 3.0000e+01, 1.3000e+01, 7.0000e+00,\n",
       "        7.0000e+00, 3.0000e+00, 0.0000e+00, 3.0000e+00, 1.0000e+00,\n",
       "        0.0000e+00, 2.0000e+00, 2.0000e+00, 2.0000e+00, 0.0000e+00,\n",
       "        2.0000e+00, 2.0000e+00, 2.0000e+00, 2.0000e+00, 2.0000e+00,\n",
       "        0.0000e+00, 0.0000e+00, 2.0000e+00, 1.0000e+00, 0.0000e+00,\n",
       "        1.0000e+00, 0.0000e+00, 0.0000e+00, 0.0000e+00, 1.0000e+00,\n",
       "        0.0000e+00, 0.0000e+00, 0.0000e+00, 0.0000e+00, 0.0000e+00,\n",
       "        0.0000e+00, 1.0000e+00, 1.0000e+00, 1.0000e+00, 0.0000e+00,\n",
       "        1.0000e+00, 1.0000e+00, 0.0000e+00, 0.0000e+00, 3.0000e+00,\n",
       "        1.0000e+00, 0.0000e+00, 1.0000e+00, 0.0000e+00, 3.0000e+00,\n",
       "        1.0000e+00, 0.0000e+00, 1.0000e+00, 5.0000e+00, 2.0000e+00,\n",
       "        2.0000e+00, 0.0000e+00, 1.0000e+00, 5.0000e+00, 2.0000e+00,\n",
       "        6.0000e+00, 4.0000e+00, 5.0000e+00, 1.2000e+01, 1.3000e+01,\n",
       "        2.3000e+01, 3.7000e+01, 4.6000e+01, 7.4000e+01, 1.3600e+02,\n",
       "        2.3500e+02, 5.4400e+02, 1.5910e+03, 1.9900e+03, 1.0080e+03,\n",
       "        3.4400e+02, 9.2000e+01, 2.6000e+01, 1.0000e+01, 4.0000e+00]),\n",
       " array([-0.02847947, -0.01821983, -0.0079602 ,  0.00229944,  0.01255908,\n",
       "         0.02281872,  0.03307836,  0.04333799,  0.05359763,  0.06385727,\n",
       "         0.07411691,  0.08437654,  0.09463619,  0.10489582,  0.11515546,\n",
       "         0.1254151 ,  0.13567473,  0.14593437,  0.15619402,  0.16645364,\n",
       "         0.17671329,  0.18697293,  0.19723256,  0.2074922 ,  0.21775185,\n",
       "         0.22801147,  0.23827112,  0.24853076,  0.2587904 ,  0.26905003,\n",
       "         0.27930966,  0.28956932,  0.29982895,  0.31008857,  0.32034823,\n",
       "         0.33060786,  0.3408675 ,  0.35112715,  0.36138678,  0.3716464 ,\n",
       "         0.38190603,  0.3921657 ,  0.40242532,  0.41268495,  0.4229446 ,\n",
       "         0.43320423,  0.44346386,  0.45372352,  0.46398315,  0.47424278,\n",
       "         0.48450243,  0.49476206,  0.5050217 ,  0.5152813 ,  0.525541  ,\n",
       "         0.53580064,  0.54606026,  0.5563199 ,  0.5665795 ,  0.57683915,\n",
       "         0.58709884,  0.59735847,  0.6076181 ,  0.6178777 ,  0.62813735,\n",
       "         0.638397  ,  0.6486566 ,  0.6589163 ,  0.6691759 ,  0.67943555,\n",
       "         0.6896952 ,  0.6999548 ,  0.71021444,  0.7204741 ,  0.73073375,\n",
       "         0.7409934 ,  0.751253  ,  0.76151264,  0.77177227,  0.78203195,\n",
       "         0.7922916 ,  0.8025512 ,  0.81281084,  0.82307047,  0.8333301 ,\n",
       "         0.8435898 ,  0.8538494 ,  0.86410904,  0.87436867,  0.8846283 ,\n",
       "         0.8948879 ,  0.9051476 ,  0.91540724,  0.92566687,  0.9359265 ,\n",
       "         0.9461861 ,  0.95644575,  0.96670544,  0.97696507,  0.9872247 ,\n",
       "         0.9974843 ], dtype=float32),\n",
       " <a list of 100 Patch objects>)"
      ]
     },
     "execution_count": 16,
     "metadata": {},
     "output_type": "execute_result"
    },
    {
     "data": {
      "image/png": "[encoded data removed]",
      "text/plain": [
       "<Figure size 432x288 with 1 Axes>"
      ]
     },
     "metadata": {
      "needs_background": "light"
     },
     "output_type": "display_data"
    }
   ],
   "source": [
    "y = model.predict(data[-100000:])\n",
    "plt.hist(y,bins=100)"
   ]
  },
  {
   "cell_type": "code",
   "execution_count": null,
   "metadata": {},
   "outputs": [],
   "source": []
  }
 ],
 "metadata": {
  "kernelspec": {
   "display_name": "Python 3",
   "language": "python",
   "name": "python3"
  },
  "language_info": {
   "codemirror_mode": {
    "name": "ipython",
    "version": 3
   },
   "file_extension": ".py",
   "mimetype": "text/x-python",
   "name": "python",
   "nbconvert_exporter": "python",
   "pygments_lexer": "ipython3",
   "version": "3.7.1"
  }
 },
 "nbformat": 4,
 "nbformat_minor": 2
}

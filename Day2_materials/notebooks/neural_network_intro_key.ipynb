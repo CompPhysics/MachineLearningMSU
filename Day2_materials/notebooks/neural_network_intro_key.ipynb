{
 "cells": [
  {
   "cell_type": "markdown",
   "metadata": {},
   "source": [
    "# Applying Fully Connected Neural Networks\n",
    "\n",
    "In this activity you will learn how to apply dense neural networks in Keras. \n",
    "\n",
    "The dataset that will be studied is a collection of simulated particle events from Pythia. Specifically, you will construct a dense neural network which will learn how to calculate the invariant mass of a particle from its energy and momentum.\n",
    "\n",
    "First, import numpy, tensorflow, and pylab and load the data.\n"
   ]
  },
  {
   "cell_type": "code",
   "execution_count": 9,
   "metadata": {},
   "outputs": [],
   "source": [
    "import numpy as np\n",
    "import tensorflow as tf\n",
    "import pylab as plt\n",
    "\n",
    "# Prevent TensorFlow from showing us deprecation warnings\n",
    "tf.logging.set_verbosity(tf.logging.ERROR)\n",
    "\n",
    "# MPK comp hack. You should not need this.\n",
    "import os\n",
    "os.environ['KMP_DUPLICATE_LIB_OK']='True'"
   ]
  },
  {
   "cell_type": "code",
   "execution_count": 10,
   "metadata": {},
   "outputs": [
    {
     "name": "stdout",
     "output_type": "stream",
     "text": [
      "(35916, 80)\n",
      "[[-0.492933  -0.469448  -2.22871   ... -1.76367    2.01211    1.       ]\n",
      " [-0.0211283  0.513518   0.0569839 ... -0.542793   1.1322     1.       ]\n",
      " [-0.238883   0.0107631 -1.43853   ... -3.65355    3.77525    1.       ]\n",
      " ...\n",
      " [-0.494778  -0.19824    1.59491   ... -3.39528    3.60725    1.       ]\n",
      " [-0.550329   0.533369   0.111079  ... -0.179829   1.05863    1.       ]\n",
      " [-0.444629   0.980696   0.676546  ... -2.62229    2.8243     1.       ]]\n"
     ]
    }
   ],
   "source": [
    "# import data\n",
    "data = np.load(\"../data/homogenous-16-particle-events-energy.npy\")\n",
    "print(data.shape)\n",
    "print(data)"
   ]
  },
  {
   "cell_type": "markdown",
   "metadata": {},
   "source": [
    "The datset is a 2D array where each row represents one event of data from an electron-proton collision. This dataset is comprised ONLY of events where there were exactly 16 particles produced from an electron-proton collision. Each particle has an x-momentum,  y-momentum, z-momentum, energy, and charge: $(p_x,p_y,p_z,E,q)$. Each event is therefore represented by 80 numbers. Using numpy's reshape method we can make each row represent one particle.  "
   ]
  },
  {
   "cell_type": "code",
   "execution_count": 11,
   "metadata": {},
   "outputs": [
    {
     "name": "stdout",
     "output_type": "stream",
     "text": [
      "(35916, 16, 5)\n",
      "(574656, 5)\n"
     ]
    }
   ],
   "source": [
    "data = np.reshape(data,(len(data),16,5))\n",
    "print(data.shape)\n",
    "data = np.reshape(data, (len(data)*16,5))\n",
    "print(data.shape)"
   ]
  },
  {
   "cell_type": "markdown",
   "metadata": {},
   "source": [
    "These are our training data inputs, but we also must provide the targets, which are the invariant masses of each particle. This is a straightforward computation that does not require neural networks, but provides an easy-to-understand problem.\n",
    "\n",
    "We choose units where $c = 1$:\n",
    "$$m^2=E^2-||\\textbf{p}||^2$$\n",
    "where $m, E$, and $\\textbf{p}$ are all in GeV."
   ]
  },
  {
   "cell_type": "code",
   "execution_count": 12,
   "metadata": {},
   "outputs": [
    {
     "name": "stdout",
     "output_type": "stream",
     "text": [
      "[0.13953852 0.13957194 0.13949486 ... 0.1395683  0.13957045 0.93825666]\n"
     ]
    }
   ],
   "source": [
    "p2 = data[:,0]**2 + data[:,1]**2 + data[:,2]**2\n",
    "target = np.sqrt(np.maximum(data[:,3]**2 - p2,0))\n",
    "print(target)"
   ]
  },
  {
   "cell_type": "markdown",
   "metadata": {},
   "source": [
    "There are several hundred thousand datapoints in this dataset which is overkill for this simple example. Create a test dataset with just 1000 examples."
   ]
  },
  {
   "cell_type": "code",
   "execution_count": 13,
   "metadata": {},
   "outputs": [],
   "source": [
    "smallTarget=target[:1000]\n",
    "smallEnergy=data[:1000]"
   ]
  },
  {
   "cell_type": "markdown",
   "metadata": {},
   "source": [
    "Next, make a histogram of the target data to make sure that we are seeing masses of real particles. As this data has limited precision, this will not resolve electrons very well, but protons, pions, and massless particles should be clearly visible."
   ]
  },
  {
   "cell_type": "code",
   "execution_count": 14,
   "metadata": {},
   "outputs": [
    {
     "data": {
      "image/png": "[encoded data removed]",
      "text/plain": [
       "<Figure size 432x288 with 1 Axes>"
      ]
     },
     "metadata": {
      "needs_background": "light"
     },
     "output_type": "display_data"
    }
   ],
   "source": [
    "plt.hist(target,bins=100)\n",
    "plt.show()"
   ]
  },
  {
   "cell_type": "markdown",
   "metadata": {},
   "source": [
    "Now we can build and train the first neural network. Start with a simple one hidden layer network with 5 neurons, and ReLU activation. Train for 30 epochs with a batch size of 256, an Adam optimizer with a learning rate of 0.1, using mean squared error loss. \n",
    "\n",
    "Additionally, use a validation split of 0.8 when fitting to check for overtraining. Information on how to implement these features can be found here:\n",
    "<https://www.tensorflow.org/api_docs/python/tf/keras>.\n",
    "Check out Sequential underneath models and Dense under layers.\n"
   ]
  },
  {
   "cell_type": "code",
   "execution_count": 17,
   "metadata": {},
   "outputs": [
    {
     "name": "stdout",
     "output_type": "stream",
     "text": [
      "Train on 199 samples, validate on 801 samples\n",
      "Epoch 1/30\n",
      "199/199 [==============================] - 1s 7ms/sample - loss: 3.5901 - val_loss: 1.8612\n",
      "Epoch 2/30\n",
      "199/199 [==============================] - 0s 51us/sample - loss: 0.6502 - val_loss: 0.9592\n",
      "Epoch 3/30\n",
      "199/199 [==============================] - 0s 45us/sample - loss: 1.7622 - val_loss: 0.7723\n",
      "Epoch 4/30\n",
      "199/199 [==============================] - 0s 53us/sample - loss: 1.4559 - val_loss: 0.4908\n",
      "Epoch 5/30\n",
      "199/199 [==============================] - 0s 68us/sample - loss: 0.6754 - val_loss: 0.5904\n",
      "Epoch 6/30\n",
      "199/199 [==============================] - 0s 74us/sample - loss: 0.4295 - val_loss: 0.9090\n",
      "Epoch 7/30\n",
      "199/199 [==============================] - 0s 73us/sample - loss: 0.5861 - val_loss: 1.0316\n",
      "Epoch 8/30\n",
      "199/199 [==============================] - 0s 94us/sample - loss: 0.6762 - val_loss: 0.8345\n",
      "Epoch 9/30\n",
      "199/199 [==============================] - 0s 78us/sample - loss: 0.5291 - val_loss: 0.4909\n",
      "Epoch 10/30\n",
      "199/199 [==============================] - 0s 77us/sample - loss: 0.2798 - val_loss: 0.2158\n",
      "Epoch 11/30\n",
      "199/199 [==============================] - 0s 58us/sample - loss: 0.1132 - val_loss: 0.1100\n",
      "Epoch 12/30\n",
      "199/199 [==============================] - 0s 74us/sample - loss: 0.1045 - val_loss: 0.1392\n",
      "Epoch 13/30\n",
      "199/199 [==============================] - 0s 68us/sample - loss: 0.1985 - val_loss: 0.2026\n",
      "Epoch 14/30\n",
      "199/199 [==============================] - 0s 64us/sample - loss: 0.2867 - val_loss: 0.2213\n",
      "Epoch 15/30\n",
      "199/199 [==============================] - 0s 70us/sample - loss: 0.2988 - val_loss: 0.1813\n",
      "Epoch 16/30\n",
      "199/199 [==============================] - 0s 52us/sample - loss: 0.2370 - val_loss: 0.1167\n",
      "Epoch 17/30\n",
      "199/199 [==============================] - 0s 77us/sample - loss: 0.1495 - val_loss: 0.0686\n",
      "Epoch 18/30\n",
      "199/199 [==============================] - 0s 76us/sample - loss: 0.0855 - val_loss: 0.0563\n",
      "Epoch 19/30\n",
      "199/199 [==============================] - 0s 77us/sample - loss: 0.0657 - val_loss: 0.0717\n",
      "Epoch 20/30\n",
      "199/199 [==============================] - 0s 71us/sample - loss: 0.0807 - val_loss: 0.0923\n",
      "Epoch 21/30\n",
      "199/199 [==============================] - 0s 64us/sample - loss: 0.1052 - val_loss: 0.0989\n",
      "Epoch 22/30\n",
      "199/199 [==============================] - 0s 62us/sample - loss: 0.1166 - val_loss: 0.0860\n",
      "Epoch 23/30\n",
      "199/199 [==============================] - 0s 58us/sample - loss: 0.1066 - val_loss: 0.0621\n",
      "Epoch 24/30\n",
      "199/199 [==============================] - 0s 66us/sample - loss: 0.0819 - val_loss: 0.0422\n",
      "Epoch 25/30\n",
      "199/199 [==============================] - 0s 56us/sample - loss: 0.0560 - val_loss: 0.0370\n",
      "Epoch 26/30\n",
      "199/199 [==============================] - 0s 71us/sample - loss: 0.0399 - val_loss: 0.0489\n",
      "Epoch 27/30\n",
      "199/199 [==============================] - 0s 55us/sample - loss: 0.0380 - val_loss: 0.0722\n",
      "Epoch 28/30\n",
      "199/199 [==============================] - 0s 63us/sample - loss: 0.0473 - val_loss: 0.0963\n",
      "Epoch 29/30\n",
      "199/199 [==============================] - 0s 63us/sample - loss: 0.0604 - val_loss: 0.1111\n",
      "Epoch 30/30\n",
      "199/199 [==============================] - 0s 115us/sample - loss: 0.0696 - val_loss: 0.1115\n"
     ]
    }
   ],
   "source": [
    "model=tf.keras.Sequential() #Define the model object\n",
    "model.add(tf.keras.layers.Dense(5,input_shape=(5,),activation=\"relu\")) #Add the hidden layer\n",
    "model.add(tf.keras.layers.Dense(1,input_shape=(5,))) #Add the output layer\n",
    "model.compile(tf.keras.optimizers.Adam(lr=0.1),loss=tf.keras.losses.MeanSquaredError()) #Adam optimizer and mean squared error loss\n",
    "results = model.fit(smallEnergy,smallTarget,epochs=30, batch_size=256, validation_split=0.8)"
   ]
  },
  {
   "cell_type": "code",
   "execution_count": 18,
   "metadata": {},
   "outputs": [
    {
     "data": {
      "image/png": "[encoded data removed]",
      "text/plain": [
       "<Figure size 432x288 with 1 Axes>"
      ]
     },
     "metadata": {
      "needs_background": "light"
     },
     "output_type": "display_data"
    }
   ],
   "source": [
    "history = results.history\n",
    "plt.plot(history[\"loss\"], label=\"training loss\")\n",
    "plt.plot(history[\"val_loss\"], label=\"validation loss\")\n",
    "plt.xlabel(\"Epoch\")\n",
    "plt.ylabel(\"Loss\")\n",
    "plt.legend()\n",
    "plt.show()"
   ]
  },
  {
   "cell_type": "markdown",
   "metadata": {},
   "source": [
    "The model is learning, but we can do better. Try increasing the number of hidden neurons to 20."
   ]
  },
  {
   "cell_type": "code",
   "execution_count": 20,
   "metadata": {},
   "outputs": [
    {
     "name": "stdout",
     "output_type": "stream",
     "text": [
      "Train on 199 samples, validate on 801 samples\n",
      "Epoch 1/30\n",
      "199/199 [==============================] - 1s 7ms/sample - loss: 0.2546 - val_loss: 8.7992\n",
      "Epoch 2/30\n",
      "199/199 [==============================] - 0s 52us/sample - loss: 10.7211 - val_loss: 0.6946\n",
      "Epoch 3/30\n",
      "199/199 [==============================] - 0s 63us/sample - loss: 0.7591 - val_loss: 5.7080\n",
      "Epoch 4/30\n",
      "199/199 [==============================] - 0s 73us/sample - loss: 4.4387 - val_loss: 2.7964\n",
      "Epoch 5/30\n",
      "199/199 [==============================] - 0s 71us/sample - loss: 2.5687 - val_loss: 0.4491\n",
      "Epoch 6/30\n",
      "199/199 [==============================] - 0s 74us/sample - loss: 0.6202 - val_loss: 0.3187\n",
      "Epoch 7/30\n",
      "199/199 [==============================] - 0s 78us/sample - loss: 0.3344 - val_loss: 0.9218\n",
      "Epoch 8/30\n",
      "199/199 [==============================] - 0s 73us/sample - loss: 0.8555 - val_loss: 0.9810\n",
      "Epoch 9/30\n",
      "199/199 [==============================] - 0s 74us/sample - loss: 0.9415 - val_loss: 0.6793\n",
      "Epoch 10/30\n",
      "199/199 [==============================] - 0s 78us/sample - loss: 0.6812 - val_loss: 0.3861\n",
      "Epoch 11/30\n",
      "199/199 [==============================] - 0s 81us/sample - loss: 0.4271 - val_loss: 0.2368\n",
      "Epoch 12/30\n",
      "199/199 [==============================] - 0s 80us/sample - loss: 0.3037 - val_loss: 0.1938\n",
      "Epoch 13/30\n",
      "199/199 [==============================] - 0s 75us/sample - loss: 0.2655 - val_loss: 0.1850\n",
      "Epoch 14/30\n",
      "199/199 [==============================] - 0s 82us/sample - loss: 0.2502 - val_loss: 0.1779\n",
      "Epoch 15/30\n",
      "199/199 [==============================] - 0s 69us/sample - loss: 0.2250 - val_loss: 0.1661\n",
      "Epoch 16/30\n",
      "199/199 [==============================] - 0s 62us/sample - loss: 0.1900 - val_loss: 0.1536\n",
      "Epoch 17/30\n",
      "199/199 [==============================] - 0s 70us/sample - loss: 0.1534 - val_loss: 0.1441\n",
      "Epoch 18/30\n",
      "199/199 [==============================] - 0s 53us/sample - loss: 0.1227 - val_loss: 0.1383\n",
      "Epoch 19/30\n",
      "199/199 [==============================] - 0s 64us/sample - loss: 0.1009 - val_loss: 0.1343\n",
      "Epoch 20/30\n",
      "199/199 [==============================] - 0s 54us/sample - loss: 0.0872 - val_loss: 0.1312\n",
      "Epoch 21/30\n",
      "199/199 [==============================] - 0s 65us/sample - loss: 0.0794 - val_loss: 0.1277\n",
      "Epoch 22/30\n",
      "199/199 [==============================] - 0s 61us/sample - loss: 0.0754 - val_loss: 0.1233\n",
      "Epoch 23/30\n",
      "199/199 [==============================] - 0s 71us/sample - loss: 0.0734 - val_loss: 0.1174\n",
      "Epoch 24/30\n",
      "199/199 [==============================] - 0s 76us/sample - loss: 0.0718 - val_loss: 0.1098\n",
      "Epoch 25/30\n",
      "199/199 [==============================] - 0s 75us/sample - loss: 0.0700 - val_loss: 0.1011\n",
      "Epoch 26/30\n",
      "199/199 [==============================] - 0s 67us/sample - loss: 0.0674 - val_loss: 0.0922\n",
      "Epoch 27/30\n",
      "199/199 [==============================] - 0s 82us/sample - loss: 0.0640 - val_loss: 0.0838\n",
      "Epoch 28/30\n",
      "199/199 [==============================] - 0s 66us/sample - loss: 0.0603 - val_loss: 0.0766\n",
      "Epoch 29/30\n",
      "199/199 [==============================] - 0s 69us/sample - loss: 0.0568 - val_loss: 0.0710\n",
      "Epoch 30/30\n",
      "199/199 [==============================] - 0s 66us/sample - loss: 0.0538 - val_loss: 0.0666\n"
     ]
    },
    {
     "data": {
      "text/plain": [
       "<tensorflow.python.keras.callbacks.History at 0xb3bbf0f98>"
      ]
     },
     "execution_count": 20,
     "metadata": {},
     "output_type": "execute_result"
    }
   ],
   "source": [
    "model=tf.keras.Sequential() #Define the model object\n",
    "model.add(tf.keras.layers.Dense(20,input_shape=(5,),activation=\"relu\")) #Add the hidden layer\n",
    "model.add(tf.keras.layers.Dense(1,input_shape=(20,))) #Add the output layer\n",
    "model.compile(tf.keras.optimizers.Adam(lr=0.1),loss=tf.keras.losses.MeanSquaredError()) #Adam optimizer and mean squared error loss\n",
    "model.fit(smallEnergy,smallTarget,epochs=30, batch_size=256, validation_split=0.8)"
   ]
  },
  {
   "cell_type": "markdown",
   "metadata": {},
   "source": [
    "That did not do much better, try decreasing the batch size to 16."
   ]
  },
  {
   "cell_type": "code",
   "execution_count": 23,
   "metadata": {},
   "outputs": [
    {
     "name": "stdout",
     "output_type": "stream",
     "text": [
      "Train on 199 samples, validate on 801 samples\n",
      "Epoch 1/30\n",
      "199/199 [==============================] - 1s 7ms/sample - loss: 2.8815 - val_loss: 0.5087\n",
      "Epoch 2/30\n",
      "199/199 [==============================] - 0s 481us/sample - loss: 0.4168 - val_loss: 0.1370\n",
      "Epoch 3/30\n",
      "199/199 [==============================] - 0s 499us/sample - loss: 0.1452 - val_loss: 0.0837\n",
      "Epoch 4/30\n",
      "199/199 [==============================] - 0s 526us/sample - loss: 0.0658 - val_loss: 0.0869\n",
      "Epoch 5/30\n",
      "199/199 [==============================] - 0s 501us/sample - loss: 0.0514 - val_loss: 0.0539\n",
      "Epoch 6/30\n",
      "199/199 [==============================] - 0s 495us/sample - loss: 0.0446 - val_loss: 0.0504\n",
      "Epoch 7/30\n",
      "199/199 [==============================] - 0s 508us/sample - loss: 0.0386 - val_loss: 0.0400\n",
      "Epoch 8/30\n",
      "199/199 [==============================] - 0s 512us/sample - loss: 0.0331 - val_loss: 0.0391\n",
      "Epoch 9/30\n",
      "199/199 [==============================] - 0s 502us/sample - loss: 0.0309 - val_loss: 0.0401\n",
      "Epoch 10/30\n",
      "199/199 [==============================] - 0s 495us/sample - loss: 0.0285 - val_loss: 0.0421\n",
      "Epoch 11/30\n",
      "199/199 [==============================] - 0s 493us/sample - loss: 0.0268 - val_loss: 0.0326\n",
      "Epoch 12/30\n",
      "199/199 [==============================] - 0s 510us/sample - loss: 0.0239 - val_loss: 0.0355\n",
      "Epoch 13/30\n",
      "199/199 [==============================] - 0s 507us/sample - loss: 0.0227 - val_loss: 0.0312\n",
      "Epoch 14/30\n",
      "199/199 [==============================] - 0s 480us/sample - loss: 0.0208 - val_loss: 0.0307\n",
      "Epoch 15/30\n",
      "199/199 [==============================] - 0s 474us/sample - loss: 0.0204 - val_loss: 0.0282\n",
      "Epoch 16/30\n",
      "199/199 [==============================] - 0s 460us/sample - loss: 0.0172 - val_loss: 0.0242\n",
      "Epoch 17/30\n",
      "199/199 [==============================] - 0s 459us/sample - loss: 0.0158 - val_loss: 0.0279\n",
      "Epoch 18/30\n",
      "199/199 [==============================] - 0s 473us/sample - loss: 0.0134 - val_loss: 0.0311\n",
      "Epoch 19/30\n",
      "199/199 [==============================] - 0s 468us/sample - loss: 0.0121 - val_loss: 0.0239\n",
      "Epoch 20/30\n",
      "199/199 [==============================] - 0s 465us/sample - loss: 0.0123 - val_loss: 0.0225\n",
      "Epoch 21/30\n",
      "199/199 [==============================] - 0s 484us/sample - loss: 0.0116 - val_loss: 0.0261\n",
      "Epoch 22/30\n",
      "199/199 [==============================] - 0s 474us/sample - loss: 0.0104 - val_loss: 0.0264\n",
      "Epoch 23/30\n",
      "199/199 [==============================] - 0s 463us/sample - loss: 0.0122 - val_loss: 0.0236\n",
      "Epoch 24/30\n",
      "199/199 [==============================] - 0s 474us/sample - loss: 0.0101 - val_loss: 0.0222\n",
      "Epoch 25/30\n",
      "199/199 [==============================] - 0s 469us/sample - loss: 0.0109 - val_loss: 0.0225\n",
      "Epoch 26/30\n",
      "199/199 [==============================] - 0s 462us/sample - loss: 0.0113 - val_loss: 0.0219\n",
      "Epoch 27/30\n",
      "199/199 [==============================] - 0s 452us/sample - loss: 0.0130 - val_loss: 0.0200\n",
      "Epoch 28/30\n",
      "199/199 [==============================] - 0s 440us/sample - loss: 0.0123 - val_loss: 0.0193\n",
      "Epoch 29/30\n",
      "199/199 [==============================] - 0s 516us/sample - loss: 0.0082 - val_loss: 0.0213\n",
      "Epoch 30/30\n",
      "199/199 [==============================] - 0s 440us/sample - loss: 0.0083 - val_loss: 0.0235\n"
     ]
    },
    {
     "data": {
      "text/plain": [
       "<tensorflow.python.keras.callbacks.History at 0xb406c1518>"
      ]
     },
     "execution_count": 23,
     "metadata": {},
     "output_type": "execute_result"
    }
   ],
   "source": [
    "model=tf.keras.Sequential() #Define the model object\n",
    "model.add(tf.keras.layers.Dense(20,input_shape=(5,),activation=\"relu\")) #Add the hidden layer\n",
    "model.add(tf.keras.layers.Dense(1,input_shape=(20,))) #Add the output layer\n",
    "model.compile(tf.keras.optimizers.Adam(lr=0.1),loss=tf.keras.losses.MeanSquaredError()) #Adam optimizer and mean squared error loss\n",
    "model.fit(smallEnergy,smallTarget,epochs=30, batch_size=16, validation_split=0.8)"
   ]
  },
  {
   "cell_type": "markdown",
   "metadata": {},
   "source": [
    "This is starting to do better but has room for improvemnt. Perhpas the learning rate is to high and the network can't fine tune. Try decreasing the learning rate to 0.001."
   ]
  },
  {
   "cell_type": "code",
   "execution_count": 24,
   "metadata": {},
   "outputs": [
    {
     "name": "stdout",
     "output_type": "stream",
     "text": [
      "Train on 199 samples, validate on 801 samples\n",
      "Epoch 1/30\n",
      "199/199 [==============================] - 2s 8ms/sample - loss: 12.3286 - val_loss: 9.5222\n",
      "Epoch 2/30\n",
      "199/199 [==============================] - 0s 535us/sample - loss: 9.6299 - val_loss: 7.7585\n",
      "Epoch 3/30\n",
      "199/199 [==============================] - 0s 530us/sample - loss: 7.7671 - val_loss: 6.2138\n",
      "Epoch 4/30\n",
      "199/199 [==============================] - 0s 481us/sample - loss: 6.0043 - val_loss: 5.0735\n",
      "Epoch 5/30\n",
      "199/199 [==============================] - 0s 559us/sample - loss: 4.7188 - val_loss: 4.1729\n",
      "Epoch 6/30\n",
      "199/199 [==============================] - 0s 707us/sample - loss: 3.7672 - val_loss: 3.4237\n",
      "Epoch 7/30\n",
      "199/199 [==============================] - 0s 640us/sample - loss: 2.8877 - val_loss: 2.7835\n",
      "Epoch 8/30\n",
      "199/199 [==============================] - 0s 663us/sample - loss: 2.2180 - val_loss: 2.2957\n",
      "Epoch 9/30\n",
      "199/199 [==============================] - 0s 774us/sample - loss: 1.7176 - val_loss: 1.8825\n",
      "Epoch 10/30\n",
      "199/199 [==============================] - 0s 590us/sample - loss: 1.2909 - val_loss: 1.5623\n",
      "Epoch 11/30\n",
      "199/199 [==============================] - 0s 530us/sample - loss: 0.9483 - val_loss: 1.3348\n",
      "Epoch 12/30\n",
      "199/199 [==============================] - 0s 496us/sample - loss: 0.7283 - val_loss: 1.1531\n",
      "Epoch 13/30\n",
      "199/199 [==============================] - 0s 477us/sample - loss: 0.5627 - val_loss: 1.0196\n",
      "Epoch 14/30\n",
      "199/199 [==============================] - 0s 488us/sample - loss: 0.4396 - val_loss: 0.8968\n",
      "Epoch 15/30\n",
      "199/199 [==============================] - 0s 547us/sample - loss: 0.3389 - val_loss: 0.8208\n",
      "Epoch 16/30\n",
      "199/199 [==============================] - 0s 560us/sample - loss: 0.2729 - val_loss: 0.7690\n",
      "Epoch 17/30\n",
      "199/199 [==============================] - 0s 513us/sample - loss: 0.2316 - val_loss: 0.7241\n",
      "Epoch 18/30\n",
      "199/199 [==============================] - 0s 539us/sample - loss: 0.1963 - val_loss: 0.6935\n",
      "Epoch 19/30\n",
      "199/199 [==============================] - 0s 564us/sample - loss: 0.1710 - val_loss: 0.6653\n",
      "Epoch 20/30\n",
      "199/199 [==============================] - 0s 468us/sample - loss: 0.1517 - val_loss: 0.6460\n",
      "Epoch 21/30\n",
      "199/199 [==============================] - 0s 478us/sample - loss: 0.1380 - val_loss: 0.6299\n",
      "Epoch 22/30\n",
      "199/199 [==============================] - 0s 545us/sample - loss: 0.1269 - val_loss: 0.6244\n",
      "Epoch 23/30\n",
      "199/199 [==============================] - 0s 690us/sample - loss: 0.1176 - val_loss: 0.6242\n",
      "Epoch 24/30\n",
      "199/199 [==============================] - 0s 653us/sample - loss: 0.1104 - val_loss: 0.6275\n",
      "Epoch 25/30\n",
      "199/199 [==============================] - 0s 639us/sample - loss: 0.1035 - val_loss: 0.6346\n",
      "Epoch 26/30\n",
      "199/199 [==============================] - 0s 606us/sample - loss: 0.0956 - val_loss: 0.6475\n",
      "Epoch 27/30\n",
      "199/199 [==============================] - 0s 706us/sample - loss: 0.0909 - val_loss: 0.6650\n",
      "Epoch 28/30\n",
      "199/199 [==============================] - 0s 491us/sample - loss: 0.0871 - val_loss: 0.6642\n",
      "Epoch 29/30\n",
      "199/199 [==============================] - 0s 457us/sample - loss: 0.0833 - val_loss: 0.6290\n",
      "Epoch 30/30\n",
      "199/199 [==============================] - 0s 497us/sample - loss: 0.0799 - val_loss: 0.6146\n"
     ]
    },
    {
     "data": {
      "text/plain": [
       "<tensorflow.python.keras.callbacks.History at 0xb409c2710>"
      ]
     },
     "execution_count": 24,
     "metadata": {},
     "output_type": "execute_result"
    }
   ],
   "source": [
    "model=tf.keras.Sequential() #Define the model object\n",
    "model.add(tf.keras.layers.Dense(20,input_shape=(5,),activation=\"relu\")) #Add the hidden layer\n",
    "model.add(tf.keras.layers.Dense(1,input_shape=(20,))) #Add the output layer\n",
    "model.compile(tf.keras.optimizers.Adam(lr=0.001),loss=tf.keras.losses.MeanSquaredError()) #Adam optimizer and mean squared error loss\n",
    "model.fit(smallEnergy,smallTarget,epochs=30, batch_size=16, validation_split=0.8)"
   ]
  },
  {
   "cell_type": "markdown",
   "metadata": {},
   "source": [
    "This is not really that mutch better, but now there is evidence of overtraining, as the training loss is so much lower than the validation loss. A common fix to this is adding dropout layers. Try adding a dropout layer with dropout rate of 0.5."
   ]
  },
  {
   "cell_type": "code",
   "execution_count": 26,
   "metadata": {},
   "outputs": [
    {
     "name": "stdout",
     "output_type": "stream",
     "text": [
      "Train on 199 samples, validate on 801 samples\n",
      "Epoch 1/30\n",
      "199/199 [==============================] - 2s 10ms/sample - loss: 2.6583 - val_loss: 0.4042\n",
      "Epoch 2/30\n",
      "199/199 [==============================] - 0s 506us/sample - loss: 2.3796 - val_loss: 0.3573\n",
      "Epoch 3/30\n",
      "199/199 [==============================] - 0s 519us/sample - loss: 4.4552 - val_loss: 0.3242\n",
      "Epoch 4/30\n",
      "199/199 [==============================] - 0s 507us/sample - loss: 1.7284 - val_loss: 0.2884\n",
      "Epoch 5/30\n",
      "199/199 [==============================] - 0s 516us/sample - loss: 2.6683 - val_loss: 0.2778\n",
      "Epoch 6/30\n",
      "199/199 [==============================] - 0s 498us/sample - loss: 1.8155 - val_loss: 0.2607\n",
      "Epoch 7/30\n",
      "199/199 [==============================] - 0s 504us/sample - loss: 2.2131 - val_loss: 0.2404\n",
      "Epoch 8/30\n",
      "199/199 [==============================] - 0s 529us/sample - loss: 2.3091 - val_loss: 0.2380\n",
      "Epoch 9/30\n",
      "199/199 [==============================] - 0s 693us/sample - loss: 1.6684 - val_loss: 0.2383\n",
      "Epoch 10/30\n",
      "199/199 [==============================] - 0s 687us/sample - loss: 2.0647 - val_loss: 0.2328\n",
      "Epoch 11/30\n",
      "199/199 [==============================] - 0s 651us/sample - loss: 0.9881 - val_loss: 0.2324\n",
      "Epoch 12/30\n",
      "199/199 [==============================] - 0s 721us/sample - loss: 1.2657 - val_loss: 0.2246\n",
      "Epoch 13/30\n",
      "199/199 [==============================] - 0s 687us/sample - loss: 1.3015 - val_loss: 0.2203\n",
      "Epoch 14/30\n",
      "199/199 [==============================] - 0s 756us/sample - loss: 1.3362 - val_loss: 0.1901\n",
      "Epoch 15/30\n",
      "199/199 [==============================] - 0s 750us/sample - loss: 1.1013 - val_loss: 0.1744\n",
      "Epoch 16/30\n",
      "199/199 [==============================] - 0s 579us/sample - loss: 0.7696 - val_loss: 0.1650\n",
      "Epoch 17/30\n",
      "199/199 [==============================] - 0s 516us/sample - loss: 1.9878 - val_loss: 0.1604\n",
      "Epoch 18/30\n",
      "199/199 [==============================] - 0s 504us/sample - loss: 0.7068 - val_loss: 0.1514\n",
      "Epoch 19/30\n",
      "199/199 [==============================] - 0s 503us/sample - loss: 0.8479 - val_loss: 0.1487\n",
      "Epoch 20/30\n",
      "199/199 [==============================] - 0s 513us/sample - loss: 1.2495 - val_loss: 0.1469\n",
      "Epoch 21/30\n",
      "199/199 [==============================] - 0s 753us/sample - loss: 0.9217 - val_loss: 0.1351\n",
      "Epoch 22/30\n",
      "199/199 [==============================] - 0s 767us/sample - loss: 0.6430 - val_loss: 0.1251\n",
      "Epoch 23/30\n",
      "199/199 [==============================] - 0s 677us/sample - loss: 0.4127 - val_loss: 0.1232\n",
      "Epoch 24/30\n",
      "199/199 [==============================] - 0s 527us/sample - loss: 1.2354 - val_loss: 0.1200\n",
      "Epoch 25/30\n",
      "199/199 [==============================] - 0s 505us/sample - loss: 0.8561 - val_loss: 0.1147\n",
      "Epoch 26/30\n",
      "199/199 [==============================] - 0s 510us/sample - loss: 0.8384 - val_loss: 0.1068\n",
      "Epoch 27/30\n",
      "199/199 [==============================] - 0s 516us/sample - loss: 0.5219 - val_loss: 0.1039\n",
      "Epoch 28/30\n",
      "199/199 [==============================] - 0s 613us/sample - loss: 0.6680 - val_loss: 0.1033\n",
      "Epoch 29/30\n",
      "199/199 [==============================] - 0s 624us/sample - loss: 0.6665 - val_loss: 0.1011\n",
      "Epoch 30/30\n",
      "199/199 [==============================] - 0s 553us/sample - loss: 0.6065 - val_loss: 0.1005\n"
     ]
    },
    {
     "data": {
      "text/plain": [
       "<tensorflow.python.keras.callbacks.History at 0xb4178fc50>"
      ]
     },
     "execution_count": 26,
     "metadata": {},
     "output_type": "execute_result"
    }
   ],
   "source": [
    "model=tf.keras.Sequential() #Define the model object\n",
    "model.add(tf.keras.layers.Dense(20,input_shape=(5,),activation=\"relu\")) #Add the hidden layer\n",
    "model.add(tf.keras.layers.Dropout(0.5))\n",
    "model.add(tf.keras.layers.Dense(1,input_shape=(20,))) #Add the output layer\n",
    "model.compile(tf.keras.optimizers.Adam(lr=0.001),loss=tf.keras.losses.MeanSquaredError()) #Adam optimizer and mean squared error loss\n",
    "model.fit(smallEnergy,smallTarget,epochs=30, batch_size=16, validation_split=0.8)"
   ]
  },
  {
   "cell_type": "markdown",
   "metadata": {},
   "source": [
    "This clearly stoped the overtraining problem, but it still isn't training well. Now, try training on the full dataset with a more reasonable validation split of 0.2. Use the a single hidden layer with 20 neurons, a learning rate of 0.001, and a batch size of 256. Just run it for 10 epochs."
   ]
  },
  {
   "cell_type": "code",
   "execution_count": 28,
   "metadata": {},
   "outputs": [
    {
     "name": "stdout",
     "output_type": "stream",
     "text": [
      "Train on 459724 samples, validate on 114932 samples\n",
      "Epoch 1/10\n",
      "459724/459724 [==============================] - 8s 18us/sample - loss: 0.0303 - val_loss: 0.0115\n",
      "Epoch 2/10\n",
      "459724/459724 [==============================] - 7s 14us/sample - loss: 0.0099 - val_loss: 0.0086\n",
      "Epoch 3/10\n",
      "459724/459724 [==============================] - 7s 15us/sample - loss: 0.0081 - val_loss: 0.0075\n",
      "Epoch 4/10\n",
      "459724/459724 [==============================] - 6s 14us/sample - loss: 0.0070 - val_loss: 0.0065\n",
      "Epoch 5/10\n",
      "459724/459724 [==============================] - 7s 15us/sample - loss: 0.0063 - val_loss: 0.0059\n",
      "Epoch 6/10\n",
      "459724/459724 [==============================] - 7s 14us/sample - loss: 0.0059 - val_loss: 0.0056\n",
      "Epoch 7/10\n",
      "459724/459724 [==============================] - 6s 14us/sample - loss: 0.0056 - val_loss: 0.0054\n",
      "Epoch 8/10\n",
      "459724/459724 [==============================] - 7s 15us/sample - loss: 0.0053 - val_loss: 0.0048\n",
      "Epoch 9/10\n",
      "459724/459724 [==============================] - 8s 17us/sample - loss: 0.0047 - val_loss: 0.0043\n",
      "Epoch 10/10\n",
      "459724/459724 [==============================] - 7s 16us/sample - loss: 0.0043 - val_loss: 0.0040\n"
     ]
    },
    {
     "data": {
      "text/plain": [
       "<tensorflow.python.keras.callbacks.History at 0xb41d29a58>"
      ]
     },
     "execution_count": 28,
     "metadata": {},
     "output_type": "execute_result"
    }
   ],
   "source": [
    "model=tf.keras.Sequential() #Define the model object\n",
    "model.add(tf.keras.layers.Dense(20,input_shape=(5,),activation=\"relu\")) #Add the hidden layer\n",
    "model.add(tf.keras.layers.Dense(1,input_shape=(20,))) #Add the output layer\n",
    "model.compile(tf.keras.optimizers.Adam(lr=0.001),loss=tf.keras.losses.MeanSquaredError()) #Adam optimizer and mean squared error loss\n",
    "model.fit(data,target,epochs=10, batch_size=256, validation_split=0.2)"
   ]
  },
  {
   "cell_type": "markdown",
   "metadata": {},
   "source": [
    "This resulted in significant improvement and shows how important having a large enough dataset it. Moving on to the choice in activation functions, ReLU is not the only available choice, although it is currently the most popular for deep networks. \n",
    "\n",
    "Train a network using a sigmoid and/or tanh activation function."
   ]
  },
  {
   "cell_type": "code",
   "execution_count": 30,
   "metadata": {},
   "outputs": [
    {
     "name": "stdout",
     "output_type": "stream",
     "text": [
      "Train on 459724 samples, validate on 114932 samples\n",
      "Epoch 1/10\n",
      "459724/459724 [==============================] - 9s 19us/sample - loss: 0.0294 - val_loss: 0.0159\n",
      "Epoch 2/10\n",
      "459724/459724 [==============================] - 7s 15us/sample - loss: 0.0117 - val_loss: 0.0097\n",
      "Epoch 3/10\n",
      "459724/459724 [==============================] - 7s 15us/sample - loss: 0.0093 - val_loss: 0.0089\n",
      "Epoch 4/10\n",
      "459724/459724 [==============================] - 7s 15us/sample - loss: 0.0086 - val_loss: 0.0082\n",
      "Epoch 5/10\n",
      "459724/459724 [==============================] - 7s 15us/sample - loss: 0.0080 - val_loss: 0.0076\n",
      "Epoch 6/10\n",
      "459724/459724 [==============================] - 7s 16us/sample - loss: 0.0074 - val_loss: 0.0071\n",
      "Epoch 7/10\n",
      "459724/459724 [==============================] - 7s 16us/sample - loss: 0.0068 - val_loss: 0.0066\n",
      "Epoch 8/10\n",
      "459724/459724 [==============================] - 7s 15us/sample - loss: 0.0064 - val_loss: 0.0061\n",
      "Epoch 9/10\n",
      "459724/459724 [==============================] - 7s 15us/sample - loss: 0.0060 - val_loss: 0.0058\n",
      "Epoch 10/10\n",
      "459724/459724 [==============================] - 7s 15us/sample - loss: 0.0056 - val_loss: 0.0055\n",
      "Train on 459724 samples, validate on 114932 samples\n",
      "Epoch 1/10\n",
      "459724/459724 [==============================] - 9s 19us/sample - loss: 0.0590 - val_loss: 0.0121\n",
      "Epoch 2/10\n",
      "459724/459724 [==============================] - 7s 15us/sample - loss: 0.0101 - val_loss: 0.0088\n",
      "Epoch 3/10\n",
      "459724/459724 [==============================] - 7s 15us/sample - loss: 0.0083 - val_loss: 0.0078\n",
      "Epoch 4/10\n",
      "459724/459724 [==============================] - 7s 16us/sample - loss: 0.0075 - val_loss: 0.0072\n",
      "Epoch 5/10\n",
      "459724/459724 [==============================] - 7s 16us/sample - loss: 0.0069 - val_loss: 0.0065\n",
      "Epoch 6/10\n",
      "459724/459724 [==============================] - 7s 15us/sample - loss: 0.0062 - val_loss: 0.0058\n",
      "Epoch 7/10\n",
      "459724/459724 [==============================] - 7s 15us/sample - loss: 0.0055 - val_loss: 0.0051\n",
      "Epoch 8/10\n",
      "459724/459724 [==============================] - 7s 15us/sample - loss: 0.0050 - val_loss: 0.0048\n",
      "Epoch 9/10\n",
      "459724/459724 [==============================] - 7s 15us/sample - loss: 0.0046 - val_loss: 0.0046\n",
      "Epoch 10/10\n",
      "459724/459724 [==============================] - 7s 15us/sample - loss: 0.0043 - val_loss: 0.0041\n"
     ]
    },
    {
     "data": {
      "text/plain": [
       "<tensorflow.python.keras.callbacks.History at 0xb41566ef0>"
      ]
     },
     "execution_count": 30,
     "metadata": {},
     "output_type": "execute_result"
    }
   ],
   "source": [
    "model=tf.keras.Sequential() #Define the model object\n",
    "model.add(tf.keras.layers.Dense(20,input_shape=(5,),activation=\"sigmoid\")) #Add the hidden layer\n",
    "model.add(tf.keras.layers.Dense(1,input_shape=(20,))) #Add the output layer\n",
    "model.compile(tf.keras.optimizers.Adam(lr=0.001),loss=tf.keras.losses.MeanSquaredError()) #Adam optimizer and mean squared error loss\n",
    "model.fit(data,target,epochs=10, batch_size=256, validation_split=0.2)\n",
    "\n",
    "model=tf.keras.Sequential() #Define the model object\n",
    "model.add(tf.keras.layers.Dense(20,input_shape=(5,),activation=\"tanh\")) #Add the hidden layer\n",
    "model.add(tf.keras.layers.Dense(1,input_shape=(20,))) #Add the output layer\n",
    "model.compile(tf.keras.optimizers.Adam(lr=0.001),loss=tf.keras.losses.MeanSquaredError()) #Adam optimizer and mean squared error loss\n",
    "model.fit(data,target,epochs=10, batch_size=256, validation_split=0.2)"
   ]
  },
  {
   "cell_type": "markdown",
   "metadata": {},
   "source": [
    "Next, try adding 2 new hidden layers to the network. Use the relu activation function."
   ]
  },
  {
   "cell_type": "code",
   "execution_count": null,
   "metadata": {},
   "outputs": [],
   "source": [
    "model=tf.keras.Sequential() #Define the model object\n",
    "model.add(tf.keras.layers.Dense(20,input_shape=(5,),activation=\"relu\")) #Add the hidden layer\n",
    "model.add(tf.keras.layers.Dense(20,input_shape=(20,),activation=\"relu\")) #Add the hidden layer\n",
    "model.add(tf.keras.layers.Dense(20,input_shape=(20,),activation=\"relu\")) #Add the hidden layer\n",
    "model.add(tf.keras.layers.Dense(1,input_shape=(20,))) #Add the output layer\n",
    "model.compile(tf.keras.optimizers.Adam(lr=0.001),loss=tf.keras.losses.MeanSquaredError()) #Adam optimizer and mean squared error loss\n",
    "model.fit(energy,target,epochs=10, batch_size=256, validation_split=0.2)"
   ]
  },
  {
   "cell_type": "markdown",
   "metadata": {},
   "source": [
    "Clearly, adding more layers helps improve the quality of the network. There is a limit to now effective this is though. Try having 5 hidden layers."
   ]
  },
  {
   "cell_type": "code",
   "execution_count": null,
   "metadata": {},
   "outputs": [],
   "source": [
    "model=tf.keras.Sequential() #Define the model object\n",
    "model.add(tf.keras.layers.Dense(20,input_shape=(5,),activation=\"relu\")) #Add the hidden layer\n",
    "model.add(tf.keras.layers.Dense(20,input_shape=(20,),activation=\"relu\")) #Add the hidden layer\n",
    "model.add(tf.keras.layers.Dense(20,input_shape=(20,),activation=\"relu\")) #Add the hidden layer\n",
    "model.add(tf.keras.layers.Dense(20,input_shape=(20,),activation=\"relu\")) #Add the hidden layer\n",
    "model.add(tf.keras.layers.Dense(20,input_shape=(20,),activation=\"relu\")) #Add the hidden layer\n",
    "model.add(tf.keras.layers.Dense(1,input_shape=(20,))) #Add the output layer\n",
    "model.compile(tf.keras.optimizers.Adam(lr=0.001),loss=tf.keras.losses.MeanSquaredError()) #Adam optimizer and mean squared error loss\n",
    "model.fit(energy,target,epochs=10, batch_size=256, validation_split=0.2)"
   ]
  },
  {
   "cell_type": "markdown",
   "metadata": {},
   "source": [
    "Now, see what happens when you increase the number of neurons per layer from 20 to 50 in the 3 hidden layer model. Consider how they perform compared to Relu now. "
   ]
  },
  {
   "cell_type": "code",
   "execution_count": null,
   "metadata": {},
   "outputs": [],
   "source": [
    "model=tf.keras.Sequential() #Define the model object\n",
    "model.add(tf.keras.layers.Dense(50,input_shape=(5,),activation=\"relu\")) #Add the hidden layer\n",
    "model.add(tf.keras.layers.Dense(50,input_shape=(50,),activation=\"relu\")) #Add the hidden layer\n",
    "model.add(tf.keras.layers.Dense(50,input_shape=(50,),activation=\"relu\")) #Add the hidden layer\n",
    "model.add(tf.keras.layers.Dense(1,input_shape=(50,))) #Add the output layer\n",
    "model.compile(tf.keras.optimizers.Adam(lr=0.001),loss=tf.keras.losses.MeanSquaredError()) #Adam optimizer and mean squared error loss\n",
    "model.fit(energy,target,epochs=10, batch_size=256, validation_split=0.2)"
   ]
  },
  {
   "cell_type": "markdown",
   "metadata": {},
   "source": [
    "Try using the sigmoid and the tanh activation functions again and compare them to relu."
   ]
  },
  {
   "cell_type": "code",
   "execution_count": null,
   "metadata": {},
   "outputs": [],
   "source": [
    "model=tf.keras.Sequential() #Define the model object\n",
    "model.add(tf.keras.layers.Dense(50,input_shape=(5,),activation=\"sigmoid\")) #Add the hidden layer\n",
    "model.add(tf.keras.layers.Dense(50,input_shape=(50,),activation=\"sigmoid\")) #Add the hidden layer\n",
    "model.add(tf.keras.layers.Dense(50,input_shape=(50,),activation=\"sigmoid\")) #Add the hidden layer\n",
    "model.add(tf.keras.layers.Dense(1,input_shape=(50,))) #Add the output layer\n",
    "model.compile(tf.keras.optimizers.Adam(lr=0.001),loss=tf.keras.losses.MeanSquaredError()) #Adam optimizer and mean squared error loss\n",
    "model.fit(energy,target,epochs=10, batch_size=256, validation_split=0.2)\n",
    "\n",
    "model=tf.keras.Sequential() #Define the model object\n",
    "model.add(tf.keras.layers.Dense(50,input_shape=(5,),activation=\"tanh\")) #Add the hidden layer\n",
    "model.add(tf.keras.layers.Dense(50,input_shape=(50,),activation=\"tanh\")) #Add the hidden layer\n",
    "model.add(tf.keras.layers.Dense(50,input_shape=(50,),activation=\"tanh\")) #Add the hidden layer\n",
    "model.add(tf.keras.layers.Dense(1,input_shape=(50,))) #Add the output layer\n",
    "model.compile(tf.keras.optimizers.Adam(lr=0.001),loss=tf.keras.losses.MeanSquaredError()) #Adam optimizer and mean squared error loss\n",
    "model.fit(energy,target,epochs=10, batch_size=256, validation_split=0.2)"
   ]
  },
  {
   "cell_type": "markdown",
   "metadata": {},
   "source": [
    "This difference in performace, especially with the sigmoid function, is known as the vanishing gradient problem. If the value for any one the neurons gets too far away from 0, the gradient for sigmoid and tanh gets really close to 0. This means that for deeper networks it is much more difficult to update the first layers as their gradient is so small. Now, remove the fifth column from the input data, the charge, and see what happens when training. Why do you thing including charge has such a large impact?"
   ]
  },
  {
   "cell_type": "code",
   "execution_count": null,
   "metadata": {},
   "outputs": [],
   "source": [
    "energy=energy.T[:4].T\n",
    "model=tf.keras.Sequential() #Define the model object\n",
    "model.add(tf.keras.layers.Dense(50,input_shape=(4,),activation=\"relu\")) #Add the hidden layer\n",
    "model.add(tf.keras.layers.Dense(50,input_shape=(50,),activation=\"relu\")) #Add the hidden layer\n",
    "model.add(tf.keras.layers.Dense(50,input_shape=(50,),activation=\"relu\")) #Add the hidden layer\n",
    "model.add(tf.keras.layers.Dense(1,input_shape=(50,))) #Add the output layer\n",
    "model.compile(tf.keras.optimizers.Adam(lr=0.001),loss=tf.keras.losses.MeanSquaredError()) #Adam optimizer and mean squared error loss\n",
    "model.fit(energy,target,epochs=10, batch_size=256, validation_split=0.2)"
   ]
  },
  {
   "cell_type": "markdown",
   "metadata": {},
   "source": [
    "Finally, there are other options for the loss function. Try experimenting with mean squared error. Other optimizers that can be used are sgd, rmsprop, adagrad, adadelta, adamax, and nadam. <https://www.tensorflow.org/api_docs/python/tf/keras/optimizers>\n",
    "\n",
    "<https://www.tensorflow.org/api_docs/python/tf/keras/losses>"
   ]
  },
  {
   "cell_type": "code",
   "execution_count": null,
   "metadata": {},
   "outputs": [],
   "source": []
  }
 ],
 "metadata": {
  "kernelspec": {
   "display_name": "Python 3",
   "language": "python",
   "name": "python3"
  },
  "language_info": {
   "codemirror_mode": {
    "name": "ipython",
    "version": 3
   },
   "file_extension": ".py",
   "mimetype": "text/x-python",
   "name": "python",
   "nbconvert_exporter": "python",
   "pygments_lexer": "ipython3",
   "version": "3.7.1"
  }
 },
 "nbformat": 4,
 "nbformat_minor": 2
}

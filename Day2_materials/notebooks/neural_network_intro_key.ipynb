{
 "cells": [
  {
   "cell_type": "markdown",
   "metadata": {},
   "source": [
    "# Applying Fully Connected Neural Networks\n",
    "\n",
    "In this activity you will learn how to apply dense neural networks in Keras. \n",
    "\n",
    "The dataset that will be studied is a collection of simulated particle events from Pythia. Specifically, you will construct a dense neural network which will learn how to calculate the invariant mass of a particle from its energy and momentum.\n",
    "\n",
    "First, import numpy, tensorflow, and pylab and load the data.\n"
   ]
  },
  {
   "cell_type": "code",
   "execution_count": 55,
   "metadata": {},
   "outputs": [],
   "source": [
    "import numpy as np\n",
    "import tensorflow as tf\n",
    "import pylab as plt\n",
    "\n",
    "# Prevent TensorFlow from showing us deprecation warnings\n",
    "tf.logging.set_verbosity(tf.logging.ERROR)\n",
    "\n",
    "# MPK comp hack. You should not need this.\n",
    "import os\n",
    "os.environ['KMP_DUPLICATE_LIB_OK']='True'"
   ]
  },
  {
   "cell_type": "code",
   "execution_count": 56,
   "metadata": {},
   "outputs": [
    {
     "name": "stdout",
     "output_type": "stream",
     "text": [
      "(35916, 80)\n",
      "[[-0.492933  -0.469448  -2.22871   ... -1.76367    2.01211    1.       ]\n",
      " [-0.0211283  0.513518   0.0569839 ... -0.542793   1.1322     1.       ]\n",
      " [-0.238883   0.0107631 -1.43853   ... -3.65355    3.77525    1.       ]\n",
      " ...\n",
      " [-0.494778  -0.19824    1.59491   ... -3.39528    3.60725    1.       ]\n",
      " [-0.550329   0.533369   0.111079  ... -0.179829   1.05863    1.       ]\n",
      " [-0.444629   0.980696   0.676546  ... -2.62229    2.8243     1.       ]]\n"
     ]
    }
   ],
   "source": [
    "# import data\n",
    "data = np.load(\"../data/homogenous-16-particle-events-energy.npy\")\n",
    "print(data.shape)\n",
    "print(data)"
   ]
  },
  {
   "cell_type": "markdown",
   "metadata": {},
   "source": [
    "The datset is a 2D array where each row represents one event of data from an electron-proton collision. This dataset is comprised ONLY of events where there were exactly 16 particles produced from an electron-proton collision. Each particle has an x-momentum,  y-momentum, z-momentum, energy, and charge: $(p_x,p_y,p_z,E,q)$. Each event is therefore represented by 80 numbers. Using numpy's reshape method we can make each row represent one particle.  "
   ]
  },
  {
   "cell_type": "code",
   "execution_count": 57,
   "metadata": {},
   "outputs": [
    {
     "name": "stdout",
     "output_type": "stream",
     "text": [
      "(35916, 16, 5)\n",
      "(574656, 5)\n"
     ]
    }
   ],
   "source": [
    "data = np.reshape(data,(len(data),16,5))\n",
    "print(data.shape)\n",
    "data = np.reshape(data, (len(data)*16,5))\n",
    "print(data.shape)"
   ]
  },
  {
   "cell_type": "markdown",
   "metadata": {},
   "source": [
    "These are our training data inputs, but we also must provide the targets, which are the invariant masses of each particle. This is a straightforward computation that does not require neural networks, but provides an easy-to-understand problem.\n",
    "\n",
    "We choose units where $c = 1$:\n",
    "$$m^2=E^2-||\\textbf{p}||^2$$\n",
    "where $m, E$, and $\\textbf{p}$ are all in GeV."
   ]
  },
  {
   "cell_type": "code",
   "execution_count": 58,
   "metadata": {},
   "outputs": [
    {
     "name": "stdout",
     "output_type": "stream",
     "text": [
      "[0.13953852 0.13957194 0.13949486 ... 0.1395683  0.13957045 0.93825666]\n"
     ]
    }
   ],
   "source": [
    "p2 = data[:,0]**2 + data[:,1]**2 + data[:,2]**2\n",
    "target = np.sqrt(np.maximum(data[:,3]**2 - p2,0))\n",
    "print(target)"
   ]
  },
  {
   "cell_type": "markdown",
   "metadata": {},
   "source": [
    "There are several hundred thousand datapoints in this dataset which is overkill for this simple example. Create a test dataset with just 1000 examples."
   ]
  },
  {
   "cell_type": "code",
   "execution_count": 35,
   "metadata": {},
   "outputs": [],
   "source": [
    "smallTarget=target[:1000]\n",
    "smallEnergy=data[:1000]"
   ]
  },
  {
   "cell_type": "markdown",
   "metadata": {},
   "source": [
    "Next, make a histogram of the target data to make sure that we are seeing masses of real particles. As this data has limited precision, this will not resolve electrons very well, but protons, pions, and massless particles should be clearly visible."
   ]
  },
  {
   "cell_type": "code",
   "execution_count": 36,
   "metadata": {},
   "outputs": [
    {
     "data": {
      "image/png": "[encoded data removed]",
      "text/plain": [
       "<Figure size 432x288 with 1 Axes>"
      ]
     },
     "metadata": {
      "needs_background": "light"
     },
     "output_type": "display_data"
    }
   ],
   "source": [
    "plt.hist(target,bins=100)\n",
    "plt.show()"
   ]
  },
  {
   "cell_type": "markdown",
   "metadata": {},
   "source": [
    "Now we can build and train the first neural network. Start with a simple one hidden layer network with 5 neurons, and ReLU activation. Train for 30 epochs with a batch size of 256, an Adam optimizer with a learning rate of 0.1, using mean squared error loss. \n",
    "\n",
    "Additionally, use a validation split of 0.8 when fitting to check for overtraining. Information on how to implement these features can be found here:\n",
    "<https://www.tensorflow.org/api_docs/python/tf/keras>.\n",
    "Check out Sequential underneath models and Dense under layers.\n"
   ]
  },
  {
   "cell_type": "code",
   "execution_count": 44,
   "metadata": {},
   "outputs": [
    {
     "name": "stdout",
     "output_type": "stream",
     "text": [
      "Train on 199 samples, validate on 801 samples\n",
      "Epoch 1/30\n",
      "199/199 [==============================] - 2s 12ms/sample - loss: 1.4588 - val_loss: 2.2670\n",
      "Epoch 2/30\n",
      "199/199 [==============================] - 0s 75us/sample - loss: 1.3001 - val_loss: 1.6256\n",
      "Epoch 3/30\n",
      "199/199 [==============================] - 0s 77us/sample - loss: 0.9063 - val_loss: 0.6026\n",
      "Epoch 4/30\n",
      "199/199 [==============================] - 0s 71us/sample - loss: 0.2650 - val_loss: 0.1510\n",
      "Epoch 5/30\n",
      "199/199 [==============================] - 0s 79us/sample - loss: 0.1337 - val_loss: 0.1619\n",
      "Epoch 6/30\n",
      "199/199 [==============================] - 0s 82us/sample - loss: 0.3244 - val_loss: 0.2400\n",
      "Epoch 7/30\n",
      "199/199 [==============================] - 0s 102us/sample - loss: 0.4353 - val_loss: 0.2118\n",
      "Epoch 8/30\n",
      "199/199 [==============================] - 0s 95us/sample - loss: 0.3593 - val_loss: 0.1284\n",
      "Epoch 9/30\n",
      "199/199 [==============================] - 0s 78us/sample - loss: 0.2143 - val_loss: 0.0708\n",
      "Epoch 10/30\n",
      "199/199 [==============================] - 0s 66us/sample - loss: 0.1114 - val_loss: 0.0655\n",
      "Epoch 11/30\n",
      "199/199 [==============================] - 0s 86us/sample - loss: 0.0809 - val_loss: 0.0943\n",
      "Epoch 12/30\n",
      "199/199 [==============================] - 0s 80us/sample - loss: 0.0981 - val_loss: 0.1270\n",
      "Epoch 13/30\n",
      "199/199 [==============================] - 0s 88us/sample - loss: 0.1269 - val_loss: 0.1424\n",
      "Epoch 14/30\n",
      "199/199 [==============================] - 0s 101us/sample - loss: 0.1419 - val_loss: 0.1349\n",
      "Epoch 15/30\n",
      "199/199 [==============================] - 0s 93us/sample - loss: 0.1356 - val_loss: 0.1112\n",
      "Epoch 16/30\n",
      "199/199 [==============================] - 0s 93us/sample - loss: 0.1131 - val_loss: 0.0827\n",
      "Epoch 17/30\n",
      "199/199 [==============================] - 0s 86us/sample - loss: 0.0850 - val_loss: 0.0595\n",
      "Epoch 18/30\n",
      "199/199 [==============================] - 0s 74us/sample - loss: 0.0610 - val_loss: 0.0476\n",
      "Epoch 19/30\n",
      "199/199 [==============================] - 0s 73us/sample - loss: 0.0465 - val_loss: 0.0475\n",
      "Epoch 20/30\n",
      "199/199 [==============================] - 0s 84us/sample - loss: 0.0423 - val_loss: 0.0563\n",
      "Epoch 21/30\n",
      "199/199 [==============================] - 0s 74us/sample - loss: 0.0462 - val_loss: 0.0689\n",
      "Epoch 22/30\n",
      "199/199 [==============================] - 0s 92us/sample - loss: 0.0540 - val_loss: 0.0801\n",
      "Epoch 23/30\n",
      "199/199 [==============================] - 0s 81us/sample - loss: 0.0617 - val_loss: 0.0864\n",
      "Epoch 24/30\n",
      "199/199 [==============================] - 0s 84us/sample - loss: 0.0665 - val_loss: 0.0868\n",
      "Epoch 25/30\n",
      "199/199 [==============================] - 0s 83us/sample - loss: 0.0673 - val_loss: 0.0822\n",
      "Epoch 26/30\n",
      "199/199 [==============================] - 0s 83us/sample - loss: 0.0648 - val_loss: 0.0749\n",
      "Epoch 27/30\n",
      "199/199 [==============================] - 0s 123us/sample - loss: 0.0606 - val_loss: 0.0673\n",
      "Epoch 28/30\n",
      "199/199 [==============================] - 0s 93us/sample - loss: 0.0565 - val_loss: 0.0614\n",
      "Epoch 29/30\n",
      "199/199 [==============================] - 0s 85us/sample - loss: 0.0536 - val_loss: 0.0577\n",
      "Epoch 30/30\n",
      "199/199 [==============================] - 0s 77us/sample - loss: 0.0523 - val_loss: 0.0561\n"
     ]
    }
   ],
   "source": [
    "model=tf.keras.Sequential() #Define the model object\n",
    "model.add(tf.keras.layers.Dense(5,input_shape=(5,),activation=\"relu\")) #Add the hidden layer\n",
    "model.add(tf.keras.layers.Dense(1,input_shape=(5,))) #Add the output layer\n",
    "model.compile(tf.keras.optimizers.Adam(lr=0.1),loss=tf.keras.losses.MeanSquaredError()) #Adam optimizer and mean squared error loss\n",
    "results = model.fit(smallEnergy,smallTarget,epochs=30, batch_size=256, validation_split=0.8)"
   ]
  },
  {
   "cell_type": "code",
   "execution_count": 47,
   "metadata": {},
   "outputs": [
    {
     "name": "stdout",
     "output_type": "stream",
     "text": [
      "[0.00000000e+00 0.00000000e+00 3.50411301e-04 0.00000000e+00\n",
      " 0.00000000e+00 0.00000000e+00 1.37491406e-01 1.39568299e-01\n",
      " 1.39570451e-01 9.38256655e-01]\n",
      "[[0.02442938]\n",
      " [0.02442938]\n",
      " [0.02442938]\n",
      " [0.02442938]\n",
      " [0.02522986]\n",
      " [0.03164672]\n",
      " [0.4159261 ]\n",
      " [0.05251883]\n",
      " [0.06177045]\n",
      " [0.10098989]]\n"
     ]
    },
    {
     "data": {
      "image/png": "[encoded data removed]",
      "text/plain": [
       "<Figure size 432x288 with 1 Axes>"
      ]
     },
     "metadata": {
      "needs_background": "light"
     },
     "output_type": "display_data"
    }
   ],
   "source": [
    "history = results.history\n",
    "print(target[-10:])\n",
    "y = model.predict(data[-10:])\n",
    "print(y)\n",
    "plt.plot(history[\"loss\"], label=\"training loss\")\n",
    "plt.plot(history[\"val_loss\"], label=\"validation loss\")\n",
    "plt.xlabel(\"Epoch\")\n",
    "plt.ylabel(\"Loss\")\n",
    "plt.legend()\n",
    "plt.show()"
   ]
  },
  {
   "cell_type": "markdown",
   "metadata": {},
   "source": [
    "The model is learning, but we can do better. Try increasing the number of hidden neurons to 20."
   ]
  },
  {
   "cell_type": "code",
   "execution_count": 48,
   "metadata": {},
   "outputs": [
    {
     "name": "stdout",
     "output_type": "stream",
     "text": [
      "Train on 199 samples, validate on 801 samples\n",
      "Epoch 1/30\n",
      "199/199 [==============================] - 3s 13ms/sample - loss: 6.0222 - val_loss: 1.7055\n",
      "Epoch 2/30\n",
      "199/199 [==============================] - 0s 61us/sample - loss: 1.7801 - val_loss: 2.4437\n",
      "Epoch 3/30\n",
      "199/199 [==============================] - 0s 79us/sample - loss: 2.7584 - val_loss: 1.0173\n",
      "Epoch 4/30\n",
      "199/199 [==============================] - 0s 75us/sample - loss: 1.1630 - val_loss: 0.2591\n",
      "Epoch 5/30\n",
      "199/199 [==============================] - 0s 82us/sample - loss: 0.3303 - val_loss: 0.1427\n",
      "Epoch 6/30\n",
      "199/199 [==============================] - 0s 70us/sample - loss: 0.2078 - val_loss: 0.1693\n",
      "Epoch 7/30\n",
      "199/199 [==============================] - 0s 79us/sample - loss: 0.2316 - val_loss: 0.1654\n",
      "Epoch 8/30\n",
      "199/199 [==============================] - 0s 73us/sample - loss: 0.2091 - val_loss: 0.1403\n",
      "Epoch 9/30\n",
      "199/199 [==============================] - 0s 79us/sample - loss: 0.1687 - val_loss: 0.1264\n",
      "Epoch 10/30\n",
      "199/199 [==============================] - 0s 71us/sample - loss: 0.1495 - val_loss: 0.1314\n",
      "Epoch 11/30\n",
      "199/199 [==============================] - 0s 74us/sample - loss: 0.1584 - val_loss: 0.1420\n",
      "Epoch 12/30\n",
      "199/199 [==============================] - 0s 80us/sample - loss: 0.1734 - val_loss: 0.1399\n",
      "Epoch 13/30\n",
      "199/199 [==============================] - 0s 71us/sample - loss: 0.1727 - val_loss: 0.1197\n",
      "Epoch 14/30\n",
      "199/199 [==============================] - 0s 87us/sample - loss: 0.1474 - val_loss: 0.0908\n",
      "Epoch 15/30\n",
      "199/199 [==============================] - 0s 80us/sample - loss: 0.1085 - val_loss: 0.0685\n",
      "Epoch 16/30\n",
      "199/199 [==============================] - 0s 73us/sample - loss: 0.0756 - val_loss: 0.0619\n",
      "Epoch 17/30\n",
      "199/199 [==============================] - 0s 73us/sample - loss: 0.0625 - val_loss: 0.0690\n",
      "Epoch 18/30\n",
      "199/199 [==============================] - 0s 70us/sample - loss: 0.0677 - val_loss: 0.0793\n",
      "Epoch 19/30\n",
      "199/199 [==============================] - 0s 72us/sample - loss: 0.0788 - val_loss: 0.0824\n",
      "Epoch 20/30\n",
      "199/199 [==============================] - 0s 80us/sample - loss: 0.0823 - val_loss: 0.0754\n",
      "Epoch 21/30\n",
      "199/199 [==============================] - 0s 85us/sample - loss: 0.0737 - val_loss: 0.0633\n",
      "Epoch 22/30\n",
      "199/199 [==============================] - 0s 113us/sample - loss: 0.0590 - val_loss: 0.0549\n",
      "Epoch 23/30\n",
      "199/199 [==============================] - 0s 103us/sample - loss: 0.0489 - val_loss: 0.0552\n",
      "Epoch 24/30\n",
      "199/199 [==============================] - 0s 68us/sample - loss: 0.0499 - val_loss: 0.0622\n",
      "Epoch 25/30\n",
      "199/199 [==============================] - 0s 71us/sample - loss: 0.0592 - val_loss: 0.0689\n",
      "Epoch 26/30\n",
      "199/199 [==============================] - 0s 80us/sample - loss: 0.0675 - val_loss: 0.0700\n",
      "Epoch 27/30\n",
      "199/199 [==============================] - 0s 80us/sample - loss: 0.0677 - val_loss: 0.0660\n",
      "Epoch 28/30\n",
      "199/199 [==============================] - 0s 67us/sample - loss: 0.0608 - val_loss: 0.0621\n",
      "Epoch 29/30\n",
      "199/199 [==============================] - 0s 70us/sample - loss: 0.0539 - val_loss: 0.0621\n",
      "Epoch 30/30\n",
      "199/199 [==============================] - 0s 72us/sample - loss: 0.0526 - val_loss: 0.0654\n"
     ]
    },
    {
     "data": {
      "text/plain": [
       "<tensorflow.python.keras.callbacks.History at 0xb3cce5780>"
      ]
     },
     "execution_count": 48,
     "metadata": {},
     "output_type": "execute_result"
    }
   ],
   "source": [
    "model=tf.keras.Sequential() #Define the model object\n",
    "model.add(tf.keras.layers.Dense(20,input_shape=(5,),activation=\"relu\")) #Add the hidden layer\n",
    "model.add(tf.keras.layers.Dense(1,input_shape=(20,))) #Add the output layer\n",
    "model.compile(tf.keras.optimizers.Adam(lr=0.1),loss=tf.keras.losses.MeanSquaredError()) #Adam optimizer and mean squared error loss\n",
    "model.fit(smallEnergy,smallTarget,epochs=30, batch_size=256, validation_split=0.8)"
   ]
  },
  {
   "cell_type": "markdown",
   "metadata": {},
   "source": [
    "That did not do much better, try decreasing the batch size to 16."
   ]
  },
  {
   "cell_type": "code",
   "execution_count": null,
   "metadata": {},
   "outputs": [],
   "source": [
    "model=tf.keras.Sequential() #Define the model object\n",
    "model.add(tf.keras.layers.Dense(20,input_shape=(5,),activation=\"relu\")) #Add the hidden layer\n",
    "model.add(tf.keras.layers.Dense(1,input_shape=(20,))) #Add the output layer\n",
    "model.compile(tf.keras.optimizers.Adam(lr=0.1),loss=tf.keras.losses.MeanSquaredError()) #Adam optimizer and mean squared error loss\n",
    "model.fit(smallEnergy,smallTarget,epochs=30, batch_size=16, validation_split=0.8)\n",
    "print(target[-10:])\n",
    "y = model.predict(data[-10:])\n",
    "print(y)"
   ]
  },
  {
   "cell_type": "markdown",
   "metadata": {},
   "source": [
    "This is starting to do better but has room for improvemnt. Perhpas the learning rate is to high and the network can't fine tune. Try decreasing the learning rate to 0.001."
   ]
  },
  {
   "cell_type": "code",
   "execution_count": 50,
   "metadata": {},
   "outputs": [
    {
     "name": "stdout",
     "output_type": "stream",
     "text": [
      "Train on 199 samples, validate on 801 samples\n",
      "Epoch 1/30\n",
      "199/199 [==============================] - 3s 14ms/sample - loss: 0.8798 - val_loss: 0.5311\n",
      "Epoch 2/30\n",
      "199/199 [==============================] - 0s 502us/sample - loss: 0.6980 - val_loss: 0.4367\n",
      "Epoch 3/30\n",
      "199/199 [==============================] - 0s 522us/sample - loss: 0.5736 - val_loss: 0.3669\n",
      "Epoch 4/30\n",
      "199/199 [==============================] - 0s 739us/sample - loss: 0.4755 - val_loss: 0.3086\n",
      "Epoch 5/30\n",
      "199/199 [==============================] - 0s 764us/sample - loss: 0.3936 - val_loss: 0.2689\n",
      "Epoch 6/30\n",
      "199/199 [==============================] - 0s 742us/sample - loss: 0.3381 - val_loss: 0.2341\n",
      "Epoch 7/30\n",
      "199/199 [==============================] - 0s 693us/sample - loss: 0.2863 - val_loss: 0.2096\n",
      "Epoch 8/30\n",
      "199/199 [==============================] - 0s 780us/sample - loss: 0.2462 - val_loss: 0.1776\n",
      "Epoch 9/30\n",
      "199/199 [==============================] - 0s 883us/sample - loss: 0.2100 - val_loss: 0.1570\n",
      "Epoch 10/30\n",
      "199/199 [==============================] - 0s 664us/sample - loss: 0.1791 - val_loss: 0.1422\n",
      "Epoch 11/30\n",
      "199/199 [==============================] - 0s 580us/sample - loss: 0.1535 - val_loss: 0.1291\n",
      "Epoch 12/30\n",
      "199/199 [==============================] - 0s 599us/sample - loss: 0.1357 - val_loss: 0.1193\n",
      "Epoch 13/30\n",
      "199/199 [==============================] - 0s 699us/sample - loss: 0.1158 - val_loss: 0.1080\n",
      "Epoch 14/30\n",
      "199/199 [==============================] - 0s 714us/sample - loss: 0.1025 - val_loss: 0.1000\n",
      "Epoch 15/30\n",
      "199/199 [==============================] - 0s 670us/sample - loss: 0.0870 - val_loss: 0.0910\n",
      "Epoch 16/30\n",
      "199/199 [==============================] - 0s 594us/sample - loss: 0.0763 - val_loss: 0.0848\n",
      "Epoch 17/30\n",
      "199/199 [==============================] - 0s 678us/sample - loss: 0.0669 - val_loss: 0.0789\n",
      "Epoch 18/30\n",
      "199/199 [==============================] - 0s 526us/sample - loss: 0.0602 - val_loss: 0.0741\n",
      "Epoch 19/30\n",
      "199/199 [==============================] - 0s 536us/sample - loss: 0.0537 - val_loss: 0.0690\n",
      "Epoch 20/30\n",
      "199/199 [==============================] - 0s 870us/sample - loss: 0.0479 - val_loss: 0.0637\n",
      "Epoch 21/30\n",
      "199/199 [==============================] - 0s 570us/sample - loss: 0.0434 - val_loss: 0.0608\n",
      "Epoch 22/30\n",
      "199/199 [==============================] - 0s 847us/sample - loss: 0.0401 - val_loss: 0.0583\n",
      "Epoch 23/30\n",
      "199/199 [==============================] - 0s 751us/sample - loss: 0.0377 - val_loss: 0.0555\n",
      "Epoch 24/30\n",
      "199/199 [==============================] - 0s 527us/sample - loss: 0.0348 - val_loss: 0.0535\n",
      "Epoch 25/30\n",
      "199/199 [==============================] - 0s 512us/sample - loss: 0.0327 - val_loss: 0.0519\n",
      "Epoch 26/30\n",
      "199/199 [==============================] - 0s 507us/sample - loss: 0.0315 - val_loss: 0.0501\n",
      "Epoch 27/30\n",
      "199/199 [==============================] - 0s 503us/sample - loss: 0.0304 - val_loss: 0.0493\n",
      "Epoch 28/30\n",
      "199/199 [==============================] - 0s 718us/sample - loss: 0.0291 - val_loss: 0.0482\n",
      "Epoch 29/30\n",
      "199/199 [==============================] - 0s 630us/sample - loss: 0.0281 - val_loss: 0.0471\n",
      "Epoch 30/30\n",
      "199/199 [==============================] - 0s 539us/sample - loss: 0.0273 - val_loss: 0.0468\n"
     ]
    },
    {
     "data": {
      "text/plain": [
       "<tensorflow.python.keras.callbacks.History at 0xb3fa4fc88>"
      ]
     },
     "execution_count": 50,
     "metadata": {},
     "output_type": "execute_result"
    }
   ],
   "source": [
    "model=tf.keras.Sequential() #Define the model object\n",
    "model.add(tf.keras.layers.Dense(20,input_shape=(5,),activation=\"relu\")) #Add the hidden layer\n",
    "model.add(tf.keras.layers.Dense(1,input_shape=(20,))) #Add the output layer\n",
    "model.compile(tf.keras.optimizers.Adam(lr=0.001),loss=tf.keras.losses.MeanSquaredError()) #Adam optimizer and mean squared error loss\n",
    "model.fit(smallEnergy,smallTarget,epochs=30, batch_size=16, validation_split=0.8)"
   ]
  },
  {
   "cell_type": "markdown",
   "metadata": {},
   "source": [
    "This is not really that mutch better, but now there is evidence of overtraining, as the training loss is so much lower than the validation loss. A common fix to this is adding dropout layers. Try adding a dropout layer with dropout rate of 0.5."
   ]
  },
  {
   "cell_type": "code",
   "execution_count": 51,
   "metadata": {},
   "outputs": [
    {
     "name": "stdout",
     "output_type": "stream",
     "text": [
      "Train on 199 samples, validate on 801 samples\n",
      "Epoch 1/30\n",
      "199/199 [==============================] - 3s 17ms/sample - loss: 2.0488 - val_loss: 0.2890\n",
      "Epoch 2/30\n",
      "199/199 [==============================] - 0s 748us/sample - loss: 2.4261 - val_loss: 0.2927\n",
      "Epoch 3/30\n",
      "199/199 [==============================] - 0s 802us/sample - loss: 2.2397 - val_loss: 0.2944\n",
      "Epoch 4/30\n",
      "199/199 [==============================] - 0s 749us/sample - loss: 1.9488 - val_loss: 0.2963\n",
      "Epoch 5/30\n",
      "199/199 [==============================] - 0s 583us/sample - loss: 2.1655 - val_loss: 0.2745\n",
      "Epoch 6/30\n",
      "199/199 [==============================] - 0s 1ms/sample - loss: 1.9630 - val_loss: 0.2537\n",
      "Epoch 7/30\n",
      "199/199 [==============================] - 0s 744us/sample - loss: 1.6488 - val_loss: 0.2296\n",
      "Epoch 8/30\n",
      "199/199 [==============================] - 0s 574us/sample - loss: 1.4455 - val_loss: 0.2133\n",
      "Epoch 9/30\n",
      "199/199 [==============================] - 0s 629us/sample - loss: 1.4039 - val_loss: 0.2018\n",
      "Epoch 10/30\n",
      "199/199 [==============================] - 0s 809us/sample - loss: 2.1894 - val_loss: 0.1907\n",
      "Epoch 11/30\n",
      "199/199 [==============================] - 0s 841us/sample - loss: 0.7014 - val_loss: 0.1795\n",
      "Epoch 12/30\n",
      "199/199 [==============================] - 0s 816us/sample - loss: 1.3450 - val_loss: 0.1742\n",
      "Epoch 13/30\n",
      "199/199 [==============================] - 0s 591us/sample - loss: 1.1399 - val_loss: 0.1846\n",
      "Epoch 14/30\n",
      "199/199 [==============================] - 0s 565us/sample - loss: 1.0675 - val_loss: 0.1787\n",
      "Epoch 15/30\n",
      "199/199 [==============================] - 0s 580us/sample - loss: 0.5710 - val_loss: 0.1715\n",
      "Epoch 16/30\n",
      "199/199 [==============================] - 0s 531us/sample - loss: 1.0295 - val_loss: 0.1744\n",
      "Epoch 17/30\n",
      "199/199 [==============================] - 0s 669us/sample - loss: 0.7179 - val_loss: 0.1828\n",
      "Epoch 18/30\n",
      "199/199 [==============================] - 0s 810us/sample - loss: 1.2858 - val_loss: 0.1685\n",
      "Epoch 19/30\n",
      "199/199 [==============================] - 0s 632us/sample - loss: 0.6753 - val_loss: 0.1452\n",
      "Epoch 20/30\n",
      "199/199 [==============================] - 0s 605us/sample - loss: 0.4695 - val_loss: 0.1342\n",
      "Epoch 21/30\n",
      "199/199 [==============================] - 0s 695us/sample - loss: 0.8097 - val_loss: 0.1311\n",
      "Epoch 22/30\n",
      "199/199 [==============================] - 0s 628us/sample - loss: 0.6618 - val_loss: 0.1283\n",
      "Epoch 23/30\n",
      "199/199 [==============================] - 0s 577us/sample - loss: 0.8710 - val_loss: 0.1232\n",
      "Epoch 24/30\n",
      "199/199 [==============================] - 0s 663us/sample - loss: 0.8973 - val_loss: 0.1127\n",
      "Epoch 25/30\n",
      "199/199 [==============================] - 0s 617us/sample - loss: 0.5735 - val_loss: 0.1088\n",
      "Epoch 26/30\n",
      "199/199 [==============================] - 0s 585us/sample - loss: 0.5786 - val_loss: 0.1081\n",
      "Epoch 27/30\n",
      "199/199 [==============================] - 0s 600us/sample - loss: 0.3866 - val_loss: 0.1072\n",
      "Epoch 28/30\n",
      "199/199 [==============================] - 0s 666us/sample - loss: 0.3955 - val_loss: 0.1106\n",
      "Epoch 29/30\n",
      "199/199 [==============================] - 0s 617us/sample - loss: 0.5170 - val_loss: 0.1145\n",
      "Epoch 30/30\n",
      "199/199 [==============================] - 0s 575us/sample - loss: 0.3730 - val_loss: 0.1181\n"
     ]
    },
    {
     "data": {
      "text/plain": [
       "<tensorflow.python.keras.callbacks.History at 0xb45f84f28>"
      ]
     },
     "execution_count": 51,
     "metadata": {},
     "output_type": "execute_result"
    }
   ],
   "source": [
    "model=tf.keras.Sequential() #Define the model object\n",
    "model.add(tf.keras.layers.Dense(20,input_shape=(5,),activation=\"relu\")) #Add the hidden layer\n",
    "model.add(tf.keras.layers.Dropout(0.5))\n",
    "model.add(tf.keras.layers.Dense(1,input_shape=(20,))) #Add the output layer\n",
    "model.compile(tf.keras.optimizers.Adam(lr=0.001),loss=tf.keras.losses.MeanSquaredError()) #Adam optimizer and mean squared error loss\n",
    "model.fit(smallEnergy,smallTarget,epochs=30, batch_size=16, validation_split=0.8)"
   ]
  },
  {
   "cell_type": "markdown",
   "metadata": {},
   "source": [
    "This clearly stoped the overtraining problem, but it still isn't training well. Now, try training on the full dataset with a more reasonable validation split of 0.2. Use the a single hidden layer with 20 neurons, a learning rate of 0.001, and a batch size of 256. Just run it for 10 epochs."
   ]
  },
  {
   "cell_type": "code",
   "execution_count": 52,
   "metadata": {},
   "outputs": [
    {
     "name": "stdout",
     "output_type": "stream",
     "text": [
      "Train on 459724 samples, validate on 114932 samples\n",
      "Epoch 1/10\n",
      "459724/459724 [==============================] - 11s 24us/sample - loss: 0.1411 - val_loss: 0.0124\n",
      "Epoch 2/10\n",
      "459724/459724 [==============================] - 9s 19us/sample - loss: 0.0110 - val_loss: 0.0098\n",
      "Epoch 3/10\n",
      "459724/459724 [==============================] - 7s 15us/sample - loss: 0.0088 - val_loss: 0.0079\n",
      "Epoch 4/10\n",
      "459724/459724 [==============================] - 8s 17us/sample - loss: 0.0074 - val_loss: 0.0068\n",
      "Epoch 5/10\n",
      "459724/459724 [==============================] - 7s 16us/sample - loss: 0.0066 - val_loss: 0.0062\n",
      "Epoch 6/10\n",
      "459724/459724 [==============================] - 7s 15us/sample - loss: 0.0060 - val_loss: 0.0056\n",
      "Epoch 7/10\n",
      "459724/459724 [==============================] - 8s 18us/sample - loss: 0.0057 - val_loss: 0.0054\n",
      "Epoch 8/10\n",
      "459724/459724 [==============================] - 9s 19us/sample - loss: 0.0054 - val_loss: 0.0052\n",
      "Epoch 9/10\n",
      "459724/459724 [==============================] - 8s 18us/sample - loss: 0.0051 - val_loss: 0.0050\n",
      "Epoch 10/10\n",
      "459724/459724 [==============================] - 9s 19us/sample - loss: 0.0050 - val_loss: 0.0048\n"
     ]
    },
    {
     "data": {
      "text/plain": [
       "<tensorflow.python.keras.callbacks.History at 0xb462feef0>"
      ]
     },
     "execution_count": 52,
     "metadata": {},
     "output_type": "execute_result"
    }
   ],
   "source": [
    "model=tf.keras.Sequential() #Define the model object\n",
    "model.add(tf.keras.layers.Dense(20,input_shape=(5,),activation=\"relu\")) #Add the hidden layer\n",
    "model.add(tf.keras.layers.Dense(1,input_shape=(20,))) #Add the output layer\n",
    "model.compile(tf.keras.optimizers.Adam(lr=0.001),loss=tf.keras.losses.MeanSquaredError()) #Adam optimizer and mean squared error loss\n",
    "model.fit(data,target,epochs=10, batch_size=256, validation_split=0.2)"
   ]
  },
  {
   "cell_type": "markdown",
   "metadata": {},
   "source": [
    "This resulted in significant improvement and shows how important having a large enough dataset it. Moving on to the choice in activation functions, ReLU is not the only available choice, although it is currently the most popular for deep networks. \n",
    "\n",
    "Train a network using a sigmoid and/or tanh activation function."
   ]
  },
  {
   "cell_type": "code",
   "execution_count": 53,
   "metadata": {},
   "outputs": [
    {
     "name": "stdout",
     "output_type": "stream",
     "text": [
      "Train on 459724 samples, validate on 114932 samples\n",
      "Epoch 1/10\n",
      "459724/459724 [==============================] - 11s 23us/sample - loss: 0.0270 - val_loss: 0.0145\n",
      "Epoch 2/10\n",
      "459724/459724 [==============================] - 8s 16us/sample - loss: 0.0105 - val_loss: 0.0090\n",
      "Epoch 3/10\n",
      "459724/459724 [==============================] - 8s 16us/sample - loss: 0.0088 - val_loss: 0.0085\n",
      "Epoch 4/10\n",
      "459724/459724 [==============================] - 8s 17us/sample - loss: 0.0084 - val_loss: 0.0081\n",
      "Epoch 5/10\n",
      "459724/459724 [==============================] - 8s 18us/sample - loss: 0.0079 - val_loss: 0.0076\n",
      "Epoch 6/10\n",
      "459724/459724 [==============================] - 9s 20us/sample - loss: 0.0071 - val_loss: 0.0067\n",
      "Epoch 7/10\n",
      "459724/459724 [==============================] - 8s 18us/sample - loss: 0.0064 - val_loss: 0.0061\n",
      "Epoch 8/10\n",
      "459724/459724 [==============================] - 8s 17us/sample - loss: 0.0058 - val_loss: 0.0055\n",
      "Epoch 9/10\n",
      "459724/459724 [==============================] - 9s 20us/sample - loss: 0.0054 - val_loss: 0.0051\n",
      "Epoch 10/10\n",
      "459724/459724 [==============================] - 9s 19us/sample - loss: 0.0050 - val_loss: 0.0048\n",
      "Train on 459724 samples, validate on 114932 samples\n",
      "Epoch 1/10\n",
      "459724/459724 [==============================] - 10s 23us/sample - loss: 0.0228 - val_loss: 0.0088\n",
      "Epoch 2/10\n",
      "459724/459724 [==============================] - 8s 17us/sample - loss: 0.0078 - val_loss: 0.0068\n",
      "Epoch 3/10\n",
      "459724/459724 [==============================] - 8s 18us/sample - loss: 0.0063 - val_loss: 0.0058\n",
      "Epoch 4/10\n",
      "459724/459724 [==============================] - 9s 19us/sample - loss: 0.0056 - val_loss: 0.0052\n",
      "Epoch 5/10\n",
      "459724/459724 [==============================] - 8s 17us/sample - loss: 0.0051 - val_loss: 0.0048\n",
      "Epoch 6/10\n",
      "459724/459724 [==============================] - 8s 17us/sample - loss: 0.0047 - val_loss: 0.0045\n",
      "Epoch 7/10\n",
      "459724/459724 [==============================] - 8s 16us/sample - loss: 0.0043 - val_loss: 0.0040\n",
      "Epoch 8/10\n",
      "459724/459724 [==============================] - 8s 17us/sample - loss: 0.0039 - val_loss: 0.0037\n",
      "Epoch 9/10\n",
      "459724/459724 [==============================] - 8s 18us/sample - loss: 0.0036 - val_loss: 0.0035\n",
      "Epoch 10/10\n",
      "459724/459724 [==============================] - 9s 19us/sample - loss: 0.0033 - val_loss: 0.0031\n"
     ]
    },
    {
     "data": {
      "text/plain": [
       "<tensorflow.python.keras.callbacks.History at 0xb46775320>"
      ]
     },
     "execution_count": 53,
     "metadata": {},
     "output_type": "execute_result"
    }
   ],
   "source": [
    "model=tf.keras.Sequential() #Define the model object\n",
    "model.add(tf.keras.layers.Dense(20,input_shape=(5,),activation=\"sigmoid\")) #Add the hidden layer\n",
    "model.add(tf.keras.layers.Dense(1,input_shape=(20,))) #Add the output layer\n",
    "model.compile(tf.keras.optimizers.Adam(lr=0.001),loss=tf.keras.losses.MeanSquaredError()) #Adam optimizer and mean squared error loss\n",
    "model.fit(data,target,epochs=10, batch_size=256, validation_split=0.2)\n",
    "\n",
    "model=tf.keras.Sequential() #Define the model object\n",
    "model.add(tf.keras.layers.Dense(20,input_shape=(5,),activation=\"tanh\")) #Add the hidden layer\n",
    "model.add(tf.keras.layers.Dense(1,input_shape=(20,))) #Add the output layer\n",
    "model.compile(tf.keras.optimizers.Adam(lr=0.001),loss=tf.keras.losses.MeanSquaredError()) #Adam optimizer and mean squared error loss\n",
    "model.fit(data,target,epochs=10, batch_size=256, validation_split=0.2)"
   ]
  },
  {
   "cell_type": "markdown",
   "metadata": {},
   "source": [
    "Next, try adding 2 new hidden layers to the network. Use the relu activation function."
   ]
  },
  {
   "cell_type": "code",
   "execution_count": 54,
   "metadata": {},
   "outputs": [
    {
     "ename": "NameError",
     "evalue": "name 'energy' is not defined",
     "output_type": "error",
     "traceback": [
      "\u001b[0;31m---------------------------------------------------------------------------\u001b[0m",
      "\u001b[0;31mNameError\u001b[0m                                 Traceback (most recent call last)",
      "\u001b[0;32m<ipython-input-54-97289be44f09>\u001b[0m in \u001b[0;36m<module>\u001b[0;34m\u001b[0m\n\u001b[1;32m      5\u001b[0m \u001b[0mmodel\u001b[0m\u001b[0;34m.\u001b[0m\u001b[0madd\u001b[0m\u001b[0;34m(\u001b[0m\u001b[0mtf\u001b[0m\u001b[0;34m.\u001b[0m\u001b[0mkeras\u001b[0m\u001b[0;34m.\u001b[0m\u001b[0mlayers\u001b[0m\u001b[0;34m.\u001b[0m\u001b[0mDense\u001b[0m\u001b[0;34m(\u001b[0m\u001b[0;36m1\u001b[0m\u001b[0;34m,\u001b[0m\u001b[0minput_shape\u001b[0m\u001b[0;34m=\u001b[0m\u001b[0;34m(\u001b[0m\u001b[0;36m20\u001b[0m\u001b[0;34m,\u001b[0m\u001b[0;34m)\u001b[0m\u001b[0;34m)\u001b[0m\u001b[0;34m)\u001b[0m \u001b[0;31m#Add the output layer\u001b[0m\u001b[0;34m\u001b[0m\u001b[0;34m\u001b[0m\u001b[0m\n\u001b[1;32m      6\u001b[0m \u001b[0mmodel\u001b[0m\u001b[0;34m.\u001b[0m\u001b[0mcompile\u001b[0m\u001b[0;34m(\u001b[0m\u001b[0mtf\u001b[0m\u001b[0;34m.\u001b[0m\u001b[0mkeras\u001b[0m\u001b[0;34m.\u001b[0m\u001b[0moptimizers\u001b[0m\u001b[0;34m.\u001b[0m\u001b[0mAdam\u001b[0m\u001b[0;34m(\u001b[0m\u001b[0mlr\u001b[0m\u001b[0;34m=\u001b[0m\u001b[0;36m0.001\u001b[0m\u001b[0;34m)\u001b[0m\u001b[0;34m,\u001b[0m\u001b[0mloss\u001b[0m\u001b[0;34m=\u001b[0m\u001b[0mtf\u001b[0m\u001b[0;34m.\u001b[0m\u001b[0mkeras\u001b[0m\u001b[0;34m.\u001b[0m\u001b[0mlosses\u001b[0m\u001b[0;34m.\u001b[0m\u001b[0mMeanSquaredError\u001b[0m\u001b[0;34m(\u001b[0m\u001b[0;34m)\u001b[0m\u001b[0;34m)\u001b[0m \u001b[0;31m#Adam optimizer and mean squared error loss\u001b[0m\u001b[0;34m\u001b[0m\u001b[0;34m\u001b[0m\u001b[0m\n\u001b[0;32m----> 7\u001b[0;31m \u001b[0mmodel\u001b[0m\u001b[0;34m.\u001b[0m\u001b[0mfit\u001b[0m\u001b[0;34m(\u001b[0m\u001b[0menergy\u001b[0m\u001b[0;34m,\u001b[0m\u001b[0mtarget\u001b[0m\u001b[0;34m,\u001b[0m\u001b[0mepochs\u001b[0m\u001b[0;34m=\u001b[0m\u001b[0;36m10\u001b[0m\u001b[0;34m,\u001b[0m \u001b[0mbatch_size\u001b[0m\u001b[0;34m=\u001b[0m\u001b[0;36m256\u001b[0m\u001b[0;34m,\u001b[0m \u001b[0mvalidation_split\u001b[0m\u001b[0;34m=\u001b[0m\u001b[0;36m0.2\u001b[0m\u001b[0;34m)\u001b[0m\u001b[0;34m\u001b[0m\u001b[0;34m\u001b[0m\u001b[0m\n\u001b[0m",
      "\u001b[0;31mNameError\u001b[0m: name 'energy' is not defined"
     ]
    }
   ],
   "source": [
    "model=tf.keras.Sequential() #Define the model object\n",
    "model.add(tf.keras.layers.Dense(20,input_shape=(5,),activation=\"relu\")) #Add the hidden layer\n",
    "model.add(tf.keras.layers.Dense(20,input_shape=(20,),activation=\"relu\")) #Add the hidden layer\n",
    "model.add(tf.keras.layers.Dense(20,input_shape=(20,),activation=\"relu\")) #Add the hidden layer\n",
    "model.add(tf.keras.layers.Dense(1,input_shape=(20,))) #Add the output layer\n",
    "model.compile(tf.keras.optimizers.Adam(lr=0.001),loss=tf.keras.losses.MeanSquaredError()) #Adam optimizer and mean squared error loss\n",
    "model.fit(data,target,epochs=10, batch_size=256, validation_split=0.2)"
   ]
  },
  {
   "cell_type": "markdown",
   "metadata": {},
   "source": [
    "Clearly, adding more layers helps improve the quality of the network. There is a limit to now effective this is though. Try having 5 hidden layers."
   ]
  },
  {
   "cell_type": "code",
   "execution_count": null,
   "metadata": {},
   "outputs": [],
   "source": [
    "model=tf.keras.Sequential() #Define the model object\n",
    "model.add(tf.keras.layers.Dense(20,input_shape=(5,),activation=\"relu\")) #Add the hidden layer\n",
    "model.add(tf.keras.layers.Dense(20,input_shape=(20,),activation=\"relu\")) #Add the hidden layer\n",
    "model.add(tf.keras.layers.Dense(20,input_shape=(20,),activation=\"relu\")) #Add the hidden layer\n",
    "model.add(tf.keras.layers.Dense(20,input_shape=(20,),activation=\"relu\")) #Add the hidden layer\n",
    "model.add(tf.keras.layers.Dense(20,input_shape=(20,),activation=\"relu\")) #Add the hidden layer\n",
    "model.add(tf.keras.layers.Dense(1,input_shape=(20,))) #Add the output layer\n",
    "model.compile(tf.keras.optimizers.Adam(lr=0.001),loss=tf.keras.losses.MeanSquaredError()) #Adam optimizer and mean squared error loss\n",
    "model.fit(energy,target,epochs=10, batch_size=256, validation_split=0.2)"
   ]
  },
  {
   "cell_type": "markdown",
   "metadata": {},
   "source": [
    "Now, see what happens when you increase the number of neurons per layer from 20 to 50 in the 3 hidden layer model. Consider how they perform compared to Relu now. "
   ]
  },
  {
   "cell_type": "code",
   "execution_count": null,
   "metadata": {},
   "outputs": [],
   "source": [
    "model=tf.keras.Sequential() #Define the model object\n",
    "model.add(tf.keras.layers.Dense(50,input_shape=(5,),activation=\"relu\")) #Add the hidden layer\n",
    "model.add(tf.keras.layers.Dense(50,input_shape=(50,),activation=\"relu\")) #Add the hidden layer\n",
    "model.add(tf.keras.layers.Dense(50,input_shape=(50,),activation=\"relu\")) #Add the hidden layer\n",
    "model.add(tf.keras.layers.Dense(1,input_shape=(50,))) #Add the output layer\n",
    "model.compile(tf.keras.optimizers.Adam(lr=0.001),loss=tf.keras.losses.MeanSquaredError()) #Adam optimizer and mean squared error loss\n",
    "model.fit(energy,target,epochs=10, batch_size=256, validation_split=0.2)"
   ]
  },
  {
   "cell_type": "markdown",
   "metadata": {},
   "source": [
    "Try using the sigmoid and the tanh activation functions again and compare them to relu."
   ]
  },
  {
   "cell_type": "code",
   "execution_count": null,
   "metadata": {},
   "outputs": [],
   "source": [
    "model=tf.keras.Sequential() #Define the model object\n",
    "model.add(tf.keras.layers.Dense(50,input_shape=(5,),activation=\"sigmoid\")) #Add the hidden layer\n",
    "model.add(tf.keras.layers.Dense(50,input_shape=(50,),activation=\"sigmoid\")) #Add the hidden layer\n",
    "model.add(tf.keras.layers.Dense(50,input_shape=(50,),activation=\"sigmoid\")) #Add the hidden layer\n",
    "model.add(tf.keras.layers.Dense(1,input_shape=(50,))) #Add the output layer\n",
    "model.compile(tf.keras.optimizers.Adam(lr=0.001),loss=tf.keras.losses.MeanSquaredError()) #Adam optimizer and mean squared error loss\n",
    "model.fit(energy,target,epochs=10, batch_size=256, validation_split=0.2)\n",
    "\n",
    "model=tf.keras.Sequential() #Define the model object\n",
    "model.add(tf.keras.layers.Dense(50,input_shape=(5,),activation=\"tanh\")) #Add the hidden layer\n",
    "model.add(tf.keras.layers.Dense(50,input_shape=(50,),activation=\"tanh\")) #Add the hidden layer\n",
    "model.add(tf.keras.layers.Dense(50,input_shape=(50,),activation=\"tanh\")) #Add the hidden layer\n",
    "model.add(tf.keras.layers.Dense(1,input_shape=(50,))) #Add the output layer\n",
    "model.compile(tf.keras.optimizers.Adam(lr=0.001),loss=tf.keras.losses.MeanSquaredError()) #Adam optimizer and mean squared error loss\n",
    "model.fit(energy,target,epochs=10, batch_size=256, validation_split=0.2)"
   ]
  },
  {
   "cell_type": "markdown",
   "metadata": {},
   "source": [
    "This difference in performace, especially with the sigmoid function, is known as the vanishing gradient problem. If the value for any one the neurons gets too far away from 0, the gradient for sigmoid and tanh gets really close to 0. This means that for deeper networks it is much more difficult to update the first layers as their gradient is so small. Now, remove the fifth column from the input data, the charge, and see what happens when training. Why do you thing including charge has such a large impact?"
   ]
  },
  {
   "cell_type": "code",
   "execution_count": null,
   "metadata": {},
   "outputs": [
    {
     "name": "stdout",
     "output_type": "stream",
     "text": [
      "Train on 459724 samples, validate on 114932 samples\n",
      "Epoch 1/10\n",
      "459724/459724 [==============================] - 16s 34us/sample - loss: 0.0104 - val_loss: 0.0035\n",
      "Epoch 2/10\n",
      "459724/459724 [==============================] - 13s 29us/sample - loss: 0.0033 - val_loss: 0.0030\n",
      "Epoch 3/10\n",
      "459724/459724 [==============================] - 14s 30us/sample - loss: 0.0029 - val_loss: 0.0025\n",
      "Epoch 4/10\n",
      "459724/459724 [==============================] - 13s 28us/sample - loss: 0.0025 - val_loss: 0.0026\n",
      "Epoch 5/10\n",
      "459724/459724 [==============================] - 14s 30us/sample - loss: 0.0022 - val_loss: 0.0021\n",
      "Epoch 6/10\n",
      "459724/459724 [==============================] - 13s 29us/sample - loss: 0.0021 - val_loss: 0.0018\n",
      "Epoch 7/10\n",
      "114944/459724 [======>.......................] - ETA: 11s - loss: 0.0020"
     ]
    }
   ],
   "source": [
    "data=data.T[:5].T\n",
    "model=tf.keras.Sequential() #Define the model object\n",
    "model.add(tf.keras.layers.Dense(50,input_shape=(4,),activation=\"relu\")) #Add the hidden layer\n",
    "model.add(tf.keras.layers.Dense(50,input_shape=(50,),activation=\"relu\")) #Add the hidden layer\n",
    "model.add(tf.keras.layers.Dense(50,input_shape=(50,),activation=\"relu\")) #Add the hidden layer\n",
    "model.add(tf.keras.layers.Dense(1,input_shape=(50,))) #Add the output layer\n",
    "model.compile(tf.keras.optimizers.Adam(lr=0.001),loss=tf.keras.losses.MeanSquaredError()) #Adam optimizer and mean squared error loss\n",
    "model.fit(data,target,epochs=10, batch_size=256, validation_split=0.2)"
   ]
  },
  {
   "cell_type": "markdown",
   "metadata": {},
   "source": [
    "Finally, there are other options for the loss function. Try experimenting with mean squared error. Other optimizers that can be used are sgd, rmsprop, adagrad, adadelta, adamax, and nadam. <https://www.tensorflow.org/api_docs/python/tf/keras/optimizers>\n",
    "\n",
    "<https://www.tensorflow.org/api_docs/python/tf/keras/losses>"
   ]
  },
  {
   "cell_type": "code",
   "execution_count": null,
   "metadata": {},
   "outputs": [],
   "source": [
    "y = model.predict(data[-1000:])\n",
    "plt.hist(y,bins=100)"
   ]
  },
  {
   "cell_type": "code",
   "execution_count": null,
   "metadata": {},
   "outputs": [],
   "source": []
  }
 ],
 "metadata": {
  "kernelspec": {
   "display_name": "Python 3",
   "language": "python",
   "name": "python3"
  },
  "language_info": {
   "codemirror_mode": {
    "name": "ipython",
    "version": 3
   },
   "file_extension": ".py",
   "mimetype": "text/x-python",
   "name": "python",
   "nbconvert_exporter": "python",
   "pygments_lexer": "ipython3",
   "version": "3.7.1"
  }
 },
 "nbformat": 4,
 "nbformat_minor": 2
}

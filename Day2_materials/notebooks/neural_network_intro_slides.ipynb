{
 "cells": [
  {
   "cell_type": "markdown",
   "metadata": {
    "slideshow": {
     "slide_type": "slide"
    }
   },
   "source": [
    "# Fully Connected Neural Networks in TensorFlow's Keras\n",
    "\n",
    "We will use dense neural networks in Keras to solve a simple regression problem. \n",
    "\n",
    "The dataset is a collection of simulated particle events from [Pythia](http://home.thep.lu.se/~torbjorn/Pythia.html) and is provided on our GitHub page. \n",
    "\n",
    "Specifically, you will construct a dense neural network which will learn how to calculate the invariant mass of a particle from its energy and momentum.\n",
    "\n",
    "First, import `numpy`, `tensorflow`, and `pylab` and load the data."
   ]
  },
  {
   "cell_type": "code",
   "execution_count": 24,
   "metadata": {
    "slideshow": {
     "slide_type": "slide"
    }
   },
   "outputs": [],
   "source": [
    "# import packages\n",
    "import numpy as np\n",
    "import tensorflow as tf\n",
    "import pylab as plt\n",
    "\n",
    "# Prevent TensorFlow from showing us deprecation warnings\n",
    "tf.logging.set_verbosity(tf.logging.ERROR)\n",
    "\n",
    "# MPK comp hack. You should not need this.\n",
    "import os\n",
    "os.environ['KMP_DUPLICATE_LIB_OK']='True'"
   ]
  },
  {
   "cell_type": "code",
   "execution_count": 25,
   "metadata": {
    "slideshow": {
     "slide_type": "subslide"
    }
   },
   "outputs": [],
   "source": [
    "# load the data, which is stored as a numpy array data type\n",
    "data = np.load(\"../data/homogenous-16-particle-events-energy.npy\")"
   ]
  },
  {
   "cell_type": "markdown",
   "metadata": {
    "slideshow": {
     "slide_type": "slide"
    }
   },
   "source": [
    "# Problem: $e^- + p$ collisions\n",
    "\n",
    "<img src=\"https://www.jlab.org/sites/default/files/images/news/releases/Hen_2.jpg\" width=\"50%\" align=\"middle\"/>\n",
    "\n"
   ]
  },
  {
   "cell_type": "markdown",
   "metadata": {
    "slideshow": {
     "slide_type": "slide"
    }
   },
   "source": [
    "### Datset: electron-proton collision\n",
    "   * 2D array\n",
    "   * row = one event\n",
    "   * ONLY events where exactly 16 particles produced\n",
    "   * each particle given by $(p_x,p_y,p_z,E,q)$\n",
    "   * each event = 80 floats. "
   ]
  },
  {
   "cell_type": "code",
   "execution_count": 26,
   "metadata": {
    "slideshow": {
     "slide_type": "slide"
    }
   },
   "outputs": [
    {
     "name": "stdout",
     "output_type": "stream",
     "text": [
      "(35916, 80)\n",
      "(35916, 16, 5)\n",
      "(574656, 5)\n"
     ]
    }
   ],
   "source": [
    "#print(data)\n",
    "print(data.shape)\n",
    "# isolate particles:\n",
    "data = np.reshape(data,(len(data),16,5))\n",
    "print(data.shape)\n",
    "#Use another call of reshape to combine all events\n",
    "data = np.reshape(data,(len(data)*16,5))\n",
    "\n",
    "#Try printing the energy to make sure this worked\n",
    "print(data.shape)"
   ]
  },
  {
   "cell_type": "markdown",
   "metadata": {
    "slideshow": {
     "slide_type": "slide"
    }
   },
   "source": [
    "These are our training data inputs, but we also must provide the targets, which are the invariant masses of each particle. This is a straightforward computation that does not require neural networks, but provides an easy-to-understand problem.\n",
    "\n",
    "We choose units where $c = 1$:\n",
    "\n",
    "$$m^2=E^2-||\\textbf{p}||^2$$\n",
    "\n",
    "where $m, E$, and $\\textbf{p}$ are all in GeV."
   ]
  },
  {
   "cell_type": "code",
   "execution_count": 29,
   "metadata": {
    "slideshow": {
     "slide_type": "slide"
    }
   },
   "outputs": [
    {
     "name": "stdout",
     "output_type": "stream",
     "text": [
      "[0.13953852 0.13957194 0.13949486 ... 0.1395683  0.13957045 0.93825666]\n"
     ]
    }
   ],
   "source": [
    "# Note: There may be roundoff error, so consider that before taking the squareroot. \n",
    "\n",
    "p2 = data[:,0]**2 + data[:,1]**2 + data[:,2]**2\n",
    "mass = np.sqrt(np.maximum(data[:,3]**2 - p2,0))\n",
    "print(mass)"
   ]
  },
  {
   "cell_type": "markdown",
   "metadata": {
    "slideshow": {
     "slide_type": "subslide"
    }
   },
   "source": [
    "There are over 500k training examples, which is overkill for this simple example. Let's use 1000 examples."
   ]
  },
  {
   "cell_type": "code",
   "execution_count": 48,
   "metadata": {
    "slideshow": {
     "slide_type": "subslide"
    }
   },
   "outputs": [],
   "source": [
    "# Slicing allows you select a subset of an array.\n",
    "\n",
    "data_train = data[:1000]\n",
    "target = mass[:1000]"
   ]
  },
  {
   "cell_type": "markdown",
   "metadata": {
    "slideshow": {
     "slide_type": "subslide"
    }
   },
   "source": [
    "Let's make sure that we are seeing masses of real particles. As this data has limited precision, this will not resolve electrons very well, but protons, pions, and massless particles should be clearly visible."
   ]
  },
  {
   "cell_type": "code",
   "execution_count": 53,
   "metadata": {
    "slideshow": {
     "slide_type": "slide"
    }
   },
   "outputs": [
    {
     "data": {
      "image/png": "[encoded data removed]",
      "text/plain": [
       "<Figure size 432x288 with 1 Axes>"
      ]
     },
     "metadata": {
      "needs_background": "light"
     },
     "output_type": "display_data"
    }
   ],
   "source": [
    "plt.hist(target,bins=100)\n",
    "plt.xlabel(\"invariant mass (GeV)\")\n",
    "plt.show()"
   ]
  },
  {
   "cell_type": "markdown",
   "metadata": {
    "slideshow": {
     "slide_type": "slide"
    }
   },
   "source": [
    "Now that we have our data as we want to present it to our model, we can build and train our first neural network. \n",
    "\n",
    "<https://www.tensorflow.org/api_docs/python/tf/keras>.\n",
    "\n"
   ]
  },
  {
   "cell_type": "code",
   "execution_count": 89,
   "metadata": {
    "slideshow": {
     "slide_type": "slide"
    }
   },
   "outputs": [],
   "source": [
    "# model with linear stacking of layers\n",
    "model = tf.keras.Sequential()\n",
    "# add one hidden layer:\n",
    "model.add(tf.keras.layers.Dense(15,input_shape=(5,), activation=\"relu\")) \n",
    "# output layer: no activation function for regression\n",
    "model.add(tf.keras.layers.Dense(1,input_shape=(5,)))"
   ]
  },
  {
   "cell_type": "markdown",
   "metadata": {
    "slideshow": {
     "slide_type": "slide"
    }
   },
   "source": [
    "Define our training configuration:\n",
    "\n",
    "`compile(optimizer, loss=None, metrics=None, loss_weights=None, sample_weight_mode=None, weighted_metrics=None, target_tensors=None)`"
   ]
  },
  {
   "cell_type": "code",
   "execution_count": 90,
   "metadata": {
    "slideshow": {
     "slide_type": "subslide"
    }
   },
   "outputs": [],
   "source": [
    "# define training configuration:\n",
    "# Adam optimizer and mean squared error loss\n",
    "model.compile(tf.keras.optimizers.Adam(lr=0.1), loss=tf.keras.losses.MeanSquaredError()) \n"
   ]
  },
  {
   "cell_type": "markdown",
   "metadata": {
    "slideshow": {
     "slide_type": "slide"
    }
   },
   "source": [
    "Train model:\n",
    "\n",
    "`fit(x=None, y=None, batch_size=None, epochs=1, verbose=1, callbacks=None, validation_split=0.0, validation_data=None, shuffle=True, class_weight=None, sample_weight=None, initial_epoch=0, steps_per_epoch=None, validation_steps=None, validation_freq=1)`"
   ]
  },
  {
   "cell_type": "code",
   "execution_count": 91,
   "metadata": {
    "slideshow": {
     "slide_type": "subslide"
    }
   },
   "outputs": [
    {
     "name": "stdout",
     "output_type": "stream",
     "text": [
      "Train on 800 samples, validate on 200 samples\n",
      "Epoch 1/20\n",
      "800/800 [==============================] - 2s 2ms/sample - loss: 2.3173 - val_loss: 0.1272\n",
      "Epoch 2/20\n",
      "800/800 [==============================] - 0s 39us/sample - loss: 0.5883 - val_loss: 0.1389\n",
      "Epoch 3/20\n",
      "800/800 [==============================] - 0s 46us/sample - loss: 0.1031 - val_loss: 0.1827\n",
      "Epoch 4/20\n",
      "800/800 [==============================] - 0s 45us/sample - loss: 0.1284 - val_loss: 0.0773\n",
      "Epoch 5/20\n",
      "800/800 [==============================] - 0s 49us/sample - loss: 0.0549 - val_loss: 0.0554\n",
      "Epoch 6/20\n",
      "800/800 [==============================] - 0s 45us/sample - loss: 0.0510 - val_loss: 0.0469\n",
      "Epoch 7/20\n",
      "800/800 [==============================] - 0s 47us/sample - loss: 0.0431 - val_loss: 0.0409\n",
      "Epoch 8/20\n",
      "800/800 [==============================] - 0s 46us/sample - loss: 0.0405 - val_loss: 0.0386\n",
      "Epoch 9/20\n",
      "800/800 [==============================] - 0s 42us/sample - loss: 0.0373 - val_loss: 0.0349\n",
      "Epoch 10/20\n",
      "800/800 [==============================] - 0s 41us/sample - loss: 0.0338 - val_loss: 0.0324\n",
      "Epoch 11/20\n",
      "800/800 [==============================] - 0s 42us/sample - loss: 0.0309 - val_loss: 0.0300\n",
      "Epoch 12/20\n",
      "800/800 [==============================] - 0s 41us/sample - loss: 0.0283 - val_loss: 0.0285\n",
      "Epoch 13/20\n",
      "800/800 [==============================] - 0s 44us/sample - loss: 0.0263 - val_loss: 0.0276\n",
      "Epoch 14/20\n",
      "800/800 [==============================] - 0s 45us/sample - loss: 0.0250 - val_loss: 0.0268\n",
      "Epoch 15/20\n",
      "800/800 [==============================] - 0s 44us/sample - loss: 0.0240 - val_loss: 0.0259\n",
      "Epoch 16/20\n",
      "800/800 [==============================] - 0s 40us/sample - loss: 0.0224 - val_loss: 0.0247\n",
      "Epoch 17/20\n",
      "800/800 [==============================] - 0s 45us/sample - loss: 0.0209 - val_loss: 0.0234\n",
      "Epoch 18/20\n",
      "800/800 [==============================] - 0s 58us/sample - loss: 0.0193 - val_loss: 0.0225\n",
      "Epoch 19/20\n",
      "800/800 [==============================] - 0s 43us/sample - loss: 0.0183 - val_loss: 0.0217\n",
      "Epoch 20/20\n",
      "800/800 [==============================] - 0s 45us/sample - loss: 0.0176 - val_loss: 0.0210\n"
     ]
    }
   ],
   "source": [
    "results = model.fit(data_train, target, epochs=20, batch_size=100, validation_split=0.2)\n",
    "#results = model.fit(data_train, target, epochs=20, batch_size=256, validation_split=0.8)"
   ]
  },
  {
   "cell_type": "code",
   "execution_count": 92,
   "metadata": {
    "slideshow": {
     "slide_type": "subslide"
    }
   },
   "outputs": [
    {
     "data": {
      "image/png": "[encoded data removed]",
      "text/plain": [
       "<Figure size 432x288 with 1 Axes>"
      ]
     },
     "metadata": {
      "needs_background": "light"
     },
     "output_type": "display_data"
    }
   ],
   "source": [
    "history = results.history\n",
    "plt.plot(history[\"loss\"], label=\"training loss\")\n",
    "plt.plot(history[\"val_loss\"], label=\"validation loss\")\n",
    "plt.xlabel(\"Epoch\")\n",
    "plt.ylabel(\"Loss\")\n",
    "plt.legend()\n",
    "plt.show()"
   ]
  },
  {
   "cell_type": "markdown",
   "metadata": {},
   "source": [
    "The model is learning, but we can do better. Perhaps you are thinking that we did not have enough fitting parameters to accurately represent the mapping. Remedy this by increasing the number of hidden neurons to 20."
   ]
  },
  {
   "cell_type": "code",
   "execution_count": null,
   "metadata": {},
   "outputs": [],
   "source": [
    "#Use the same code as in the previous cell\n",
    "#simply change the number of neurons in the hidden layer\n",
    "\n",
    "#Complete me:\n"
   ]
  },
  {
   "cell_type": "markdown",
   "metadata": {},
   "source": [
    "We see that we got little improvement here. Another hyperparameter to adjust is *batch size*, which is the number of training examples used to calculate the gradient at each iteration. While you may initially think that a higher batch size leads to faster or more accurate training, in practice this is not true. The \"noise\" that arises from using less training examples at each iteration can actually help find the global minimum of the loss function.\n",
    "(See here for more info: https://arxiv.org/pdf/1609.04836.pdf)\n",
    "\n",
    "Try decreasing the batch size to 16."
   ]
  },
  {
   "cell_type": "code",
   "execution_count": null,
   "metadata": {},
   "outputs": [],
   "source": [
    "#Complete me:\n"
   ]
  },
  {
   "cell_type": "markdown",
   "metadata": {},
   "source": [
    "This is starting to do better but has significant room for improvemnt. \n",
    "\n",
    "Another hyperparameter to tune is the *learning rate*. \n",
    "\n",
    " - If the learning rate is too high, we are taking too large of a step in the gradient descent at each iteration and will miss narrow minima in the loss function. \n",
    " - If the learning rate is too small, then we are not traveling far enough in each iteration and we will take far too long to reach a minimum. \n",
    "\n",
    "Perhpas the learning rate is to high and the network can't fine tune. Try decreasing the learning rate to 0.001."
   ]
  },
  {
   "cell_type": "code",
   "execution_count": null,
   "metadata": {},
   "outputs": [],
   "source": [
    "#complete me:\n"
   ]
  },
  {
   "cell_type": "markdown",
   "metadata": {},
   "source": [
    "This is not really that mutch better, but now there is evidence of *overtraining* or *overfitting* -- the training loss is so much lower than the validation loss. \n",
    "\n",
    "A common fix to this is adding *dropout layers*. Try adding a dropout layer with dropout rate of 0.5. <https://www.tensorflow.org/api_docs/python/tf/keras/layers/Dropout>"
   ]
  },
  {
   "cell_type": "code",
   "execution_count": null,
   "metadata": {},
   "outputs": [],
   "source": [
    "#Dropout layers are located under tf.keras.layers. \n",
    "#They take the dropout rate as their only argument.\n",
    "\n",
    "#Complete me:\n"
   ]
  },
  {
   "cell_type": "markdown",
   "metadata": {},
   "source": [
    "This clearly stopped the overtraining problem, but it still isn't training well. Now, try training on the full dataset with a more reasonable validation split of 0.2. Use the a single hidden layer with 20 neurons, a learning rate of 0.001, and a batch size of 256. Just run it for 10 epochs."
   ]
  },
  {
   "cell_type": "code",
   "execution_count": null,
   "metadata": {},
   "outputs": [],
   "source": [
    "#Complete me:\n"
   ]
  },
  {
   "cell_type": "markdown",
   "metadata": {},
   "source": [
    "This clearly resulted in a significant improvement and shows how important having a large enough dataset it. Moving on to the choice in activation functions, ReLU is not the only available choice, although it is one of the most popular ones currently. Try training a network using a sigmoid or tanh activation function."
   ]
  },
  {
   "cell_type": "code",
   "execution_count": null,
   "metadata": {},
   "outputs": [],
   "source": [
    "#Simply change relu to sigmoid or tanh to change the activation function\n",
    "\n",
    "#Complete me:\n"
   ]
  },
  {
   "cell_type": "markdown",
   "metadata": {},
   "source": [
    "Next, try adding 2 new hidden layers to the network. Use the relu activation function."
   ]
  },
  {
   "cell_type": "code",
   "execution_count": null,
   "metadata": {},
   "outputs": [],
   "source": [
    "#Complete me:\n"
   ]
  },
  {
   "cell_type": "markdown",
   "metadata": {},
   "source": [
    "Clearly, adding more layers helps improve the quality of the network. There is a limit to now effective this is though. Try having 5 hidden layers."
   ]
  },
  {
   "cell_type": "code",
   "execution_count": null,
   "metadata": {},
   "outputs": [],
   "source": [
    "#Complete me:\n"
   ]
  },
  {
   "cell_type": "markdown",
   "metadata": {},
   "source": [
    "Now, see what happens when you increase the number of neurons per layer from 20 to 50 in the 3 hidden layer model. Consider how they perform compared to Relu now. "
   ]
  },
  {
   "cell_type": "code",
   "execution_count": null,
   "metadata": {},
   "outputs": [],
   "source": [
    "#Complete me:\n"
   ]
  },
  {
   "cell_type": "markdown",
   "metadata": {},
   "source": [
    "Try using the sigmoid and the tanh activation functions again and compare them to relu."
   ]
  },
  {
   "cell_type": "code",
   "execution_count": null,
   "metadata": {},
   "outputs": [],
   "source": [
    "#Complete me:\n"
   ]
  },
  {
   "cell_type": "markdown",
   "metadata": {},
   "source": [
    "This difference in performace, especially with the sigmoid function, is known as the vanishing gradient problem. If the value for any one the neurons gets too far away from 0, the gradient for sigmoid and tanh gets really close to 0. This means that for deeper networks it is much more difficult to update the first layers as their gradient is so small. Now, remove the fifth column from the input data, the charge, and see what happens when training. Why do you thing including charge has such a large impact?"
   ]
  },
  {
   "cell_type": "code",
   "execution_count": null,
   "metadata": {},
   "outputs": [],
   "source": [
    "#Complete me:\n"
   ]
  },
  {
   "cell_type": "markdown",
   "metadata": {},
   "source": [
    "Finally, there are other options for the loss function. Try experimenting with mean squared error. Other optimizers that can be used are sgd, rmsprop, adagrad, adadelta, adamax, and nadam. <https://www.tensorflow.org/api_docs/python/tf/keras/optimizers>\n",
    "\n",
    "<https://www.tensorflow.org/api_docs/python/tf/keras/losses>"
   ]
  },
  {
   "cell_type": "code",
   "execution_count": null,
   "metadata": {},
   "outputs": [],
   "source": []
  }
 ],
 "metadata": {
  "celltoolbar": "Slideshow",
  "kernelspec": {
   "display_name": "Python 3",
   "language": "python",
   "name": "python3"
  },
  "language_info": {
   "codemirror_mode": {
    "name": "ipython",
    "version": 3
   },
   "file_extension": ".py",
   "mimetype": "text/x-python",
   "name": "python",
   "nbconvert_exporter": "python",
   "pygments_lexer": "ipython3",
   "version": "3.7.1"
  }
 },
 "nbformat": 4,
 "nbformat_minor": 2
}

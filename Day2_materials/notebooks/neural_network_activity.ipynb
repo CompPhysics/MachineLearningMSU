{
 "cells": [
  {
   "cell_type": "markdown",
   "metadata": {},
   "source": [
    "# Fully Connected Neural Networks Activity\n",
    "For this activity you have a dataset with the initial energy of an electron and its final momentum after colliding with a proton of equal energy. Along with these data points are the Q^2 value for the scattering and the x Bjorken, which are both important values in deep inelastic scattering. \n",
    "\n",
    "The dataset is called electron_scattering.np and is formated as px, py, pz, initial Energy, Q^2, x Bjorken inside a numpy array. \n",
    "\n",
    "In order to properly train this network you will have to normalize the data so that it is cenerted around zero with most of it between -1 and 1.\n",
    "\n",
    "Try experimenting with saving and loading networks as detailed here:\n",
    "\n",
    "<https://www.tensorflow.org/api_docs/python/tf/keras/models/save_model>\n",
    "\n",
    "https://www.tensorflow.org/api_docs/python/tf/keras/models/load_model.\n",
    "\n",
    "How to make predictions from networks is shown here:\n",
    "<https://www.tensorflow.org/api_docs/python/tf/keras/models/Sequential#predict>\n"
   ]
  },
  {
   "cell_type": "code",
   "execution_count": null,
   "metadata": {},
   "outputs": [],
   "source": []
  }
 ],
 "metadata": {
  "kernelspec": {
   "display_name": "Python 3",
   "language": "python",
   "name": "python3"
  },
  "language_info": {
   "codemirror_mode": {
    "name": "ipython",
    "version": 3
   },
   "file_extension": ".py",
   "mimetype": "text/x-python",
   "name": "python",
   "nbconvert_exporter": "python",
   "pygments_lexer": "ipython3",
   "version": "3.6.5"
  }
 },
 "nbformat": 4,
 "nbformat_minor": 2
}

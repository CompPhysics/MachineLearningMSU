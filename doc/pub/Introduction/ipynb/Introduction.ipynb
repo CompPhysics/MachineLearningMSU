{
 "cells": [
  {
   "cell_type": "markdown",
   "metadata": {},
   "source": [
    "<!-- dom:TITLE: Data Analysis and Machine Learning: Getting started, our first data and Machine Learning encounters -->\n",
    "# Data Analysis and Machine Learning: Getting started, our first data and Machine Learning encounters\n",
    "<!-- dom:AUTHOR: Morten Hjorth-Jensen at Department of Physics, University of Oslo & Department of Physics and Astronomy and National Superconducting Cyclotron Laboratory, Michigan State University -->\n",
    "<!-- Author: -->  \n",
    "**Morten Hjorth-Jensen**, Department of Physics, University of Oslo and Department of Physics and Astronomy and National Superconducting Cyclotron Laboratory, Michigan State University\n",
    "\n",
    "Date: **Apr 20, 2019**\n",
    "\n",
    "Copyright 1999-2019, Morten Hjorth-Jensen. Released under CC Attribution-NonCommercial 4.0 license\n",
    "\n",
    "\n",
    "\n",
    "\n",
    "\n",
    "## Introduction\n",
    "\n",
    "Our emphasis throughout this series of lectures  \n",
    "is on understanding the mathematical aspects of\n",
    "different algorithms used in the fields of data analysis and machine learning. \n",
    "\n",
    "However, where possible we will emphasize the\n",
    "importance of using available software. We start thus with a hands-on\n",
    "and top-down approach to machine learning. The aim is thus to start with\n",
    "relevant data or data we have produced \n",
    "and use these to introduce statistical data analysis\n",
    "concepts and machine learning algorithms before we delve into the\n",
    "algorithms themselves. The examples we will use in the beginning, start with simple\n",
    "polynomials with random noise added. We will use the Python\n",
    "software package [Scikit-learn](http://scikit-learn.org/stable/) and\n",
    "introduce various machine learning algorithms to make fits of\n",
    "the data and predictions. We move thereafter to more interesting\n",
    "cases such as the simulation of financial transactions or disease\n",
    "models. These are examples where we can easily set up the data and\n",
    "then use machine learning algorithms included in for example\n",
    "**scikit-learn**. \n",
    "\n",
    "These examples will serve us the purpose of getting\n",
    "started. Furthermore, they allow us to catch more than two birds with\n",
    "a stone. They will allow us to bring in some programming specific\n",
    "topics and tools as well as showing the power of various Python \n",
    "packages for machine learning and statistical data analysis.  \n",
    "\n",
    "Here, we will mainly focus on two\n",
    "specific Python packages for Machine Learning, scikit-learn and\n",
    "tensorflow (see below for links etc).  Moreover, the examples we\n",
    "introduce will serve as inputs to many of our discussions later, as\n",
    "well as allowing you to set up models and produce your own data and\n",
    "get started with programming.\n",
    "\n",
    "\n",
    "\n",
    "\n",
    "\n",
    "## Software and needed installations\n",
    "\n",
    "We will make extensive use of Python as programming language and its\n",
    "myriad of available libraries.  You will find\n",
    "Jupyter notebooks invaluable in your work.  You can run **R**\n",
    "codes in the Jupyter/IPython notebooks, with the immediate benefit of\n",
    "visualizing your data. You can also use compiled languages like C++,\n",
    "Rust, Fortran etc if you prefer. The focus in these lectures will be\n",
    "on Python.\n",
    "\n",
    "\n",
    "If you have Python installed (we strongly recommend Python3) and you feel\n",
    "pretty familiar with installing different packages, we recommend that\n",
    "you install the following Python packages via **pip** as \n",
    "\n",
    "1. pip install numpy scipy matplotlib ipython scikit-learn mglearn sympy pandas pillow \n",
    "\n",
    "For Python3, replace **pip** with **pip3**.\n",
    "\n",
    "For OSX users we recommend, after having installed Xcode, to\n",
    "install **brew**. Brew allows for a seamless installation of additional\n",
    "software via for example \n",
    "\n",
    "1. brew install python3\n",
    "\n",
    "For Linux users, with its variety of distributions like for example the widely popular Ubuntu distribution,\n",
    "you can use **pip** as well and simply install Python as \n",
    "\n",
    "1. sudo apt-get install python3  (or python for pyhton2.7)\n",
    "\n",
    "etc etc. \n",
    "\n",
    "\n",
    "\n",
    "## Python installers\n",
    "\n",
    "If you don't want to perform these operations separately and venture\n",
    "into the hassle of exploring how to set up dependencies and paths, we\n",
    "recommend two widely used distrubutions which set up all relevant\n",
    "dependencies for Python, namely \n",
    "\n",
    "* [Anaconda](https://docs.anaconda.com/), \n",
    "\n",
    "which is an open source\n",
    "distribution of the Python and R programming languages for large-scale\n",
    "data processing, predictive analytics, and scientific computing, that\n",
    "aims to simplify package management and deployment. Package versions\n",
    "are managed by the package management system **conda**. \n",
    "\n",
    "* [Enthought canopy](https://www.enthought.com/product/canopy/) \n",
    "\n",
    "is a Python\n",
    "distribution for scientific and analytic computing distribution and\n",
    "analysis environment, available for free and under a commercial\n",
    "license.\n",
    "\n",
    "## Useful Python packages\n",
    "Here we list several useful Python packages you may wish to install (if you use anaconda many of these are already there)\n",
    "\n",
    "* Numpy\n",
    "\n",
    "* Pandas\n",
    "\n",
    "* Xarray\n",
    "\n",
    "* Scipy\n",
    "\n",
    "* Matplotlib\n",
    "\n",
    "* autodiff\n",
    "\n",
    "* sympy\n",
    "\n",
    "* Scikit-learn\n",
    "\n",
    "* tensorflow and keras\n",
    "\n",
    "* pytorch\n",
    "\n",
    "## Installing R, C++, cython or Julia\n",
    "\n",
    "You will also find it convenient to utilize R. Although we will mainly\n",
    "use Python during lectures and in various projects and exercises, we\n",
    "provide a full R set of codes for the same examples. Those of you\n",
    "already familiar with R should feel free to continue using R, keeping\n",
    "however an eye on the parallel Python set ups. Similarly, if you are a\n",
    "Python afecionado, feel free to explore R as well.  Jupyter/Ipython\n",
    "notebook allows you to run **R** codes interactively in your\n",
    "browser. The software library **R** is tuned to statistically analysis\n",
    "and allows for an easy usage of the tools we will discuss in these\n",
    "lectures.\n",
    "\n",
    "To install **R** with Jupyter notebook \n",
    "[follow the link here](https://mpacer.org/maths/r-kernel-for-ipython-notebook)\n",
    "\n",
    "\n",
    "\n",
    "\n",
    "## Installing R, C++, cython, Numba etc\n",
    "\n",
    "\n",
    "For the C++ aficionados, Jupyter/IPython notebook allows you also to\n",
    "install C++ and run codes written in this language interactively in\n",
    "the browser. Since we will emphasize writing many of the algorithms\n",
    "yourself, you can thus opt for either Python or C++ (or Fortran or other compiled languages) as programming\n",
    "languages.\n",
    "\n",
    "To add more entropy, **cython** can also be used when running your\n",
    "notebooks. It means that Python with the Jupyter/IPython notebook\n",
    "setup allows you to integrate widely popular softwares and tools for\n",
    "scientific computing. Similarly, the \n",
    "[Numba Python package](https://numba.pydata.org/) delivers increased performance\n",
    "capabilities with minimal rewrites of your codes.  With its\n",
    "versatility, including symbolic operations, Python offers a unique\n",
    "computational environment. Your Jupyter/IPython notebook can easily be\n",
    "converted into a nicely rendered **PDF** file or a Latex file for\n",
    "further processing. For example, convert to latex as"
   ]
  },
  {
   "cell_type": "markdown",
   "metadata": {},
   "source": [
    "        pycod jupyter nbconvert filename.ipynb --to latex \n"
   ]
  },
  {
   "cell_type": "markdown",
   "metadata": {},
   "source": [
    "And to add more versatility, the Python package [SymPy](http://www.sympy.org/en/index.html) is a Python library for symbolic mathematics. It aims to become a full-featured computer algebra system (CAS)  and is entirely written in Python. \n",
    "\n",
    "Finally, if you wish to use the light mark-up language \n",
    "[doconce](https://github.com/hplgit/doconce) you can convert a standard ascii text file into various HTML \n",
    "formats, ipython notebooks, latex files, pdf files etc with minimal edits.\n",
    "\n",
    "\n",
    "\n",
    "## Numpy examples and Important Matrix and vector handling packages\n",
    "\n",
    "There are several central software packages for linear algebra and eigenvalue problems. Several of the more\n",
    "popular ones have been wrapped into ofter software packages like those from the widely used text **Numerical Recipes**. The original source codes in many of the available packages are often taken from the widely used\n",
    "software package LAPACK, which follows two other popular packages\n",
    "developed in the 1970s, namely EISPACK and LINPACK.  We describe them shortly here.\n",
    "\n",
    "  * LINPACK: package for linear equations and least square problems.\n",
    "\n",
    "  * LAPACK:package for solving symmetric, unsymmetric and generalized eigenvalue problems. From LAPACK's website <http://www.netlib.org> it is possible to download for free all source codes from this library. Both C/C++ and Fortran versions are available.\n",
    "\n",
    "  * BLAS (I, II and III): (Basic Linear Algebra Subprograms) are routines that provide standard building blocks for performing basic vector and matrix operations. Blas I is vector operations, II vector-matrix operations and III matrix-matrix operations. Highly parallelized and efficient codes, all available for download from <http://www.netlib.org>.\n",
    "\n",
    "When dealing with matrices and vectors a central issue is memory\n",
    "handling and allocation. If our code is written in Python the way we\n",
    "declare these objects and the way they are handled, interpreted and\n",
    "used by say a linear algebra library, requires codes that interface\n",
    "our Python program with such libraries. For Python programmers,\n",
    "**Numpy** is by now the standard Python package for numerical arrays in\n",
    "Python as well as the source of functions which act on these\n",
    "arrays. These functions span from eigenvalue solvers to functions that\n",
    "compute the mean value, variance or the covariance matrix. If you are\n",
    "not familiar with how arrays are handled in say Python or compiled\n",
    "languages like C++ and Fortran, the sections in this chapter may be\n",
    "useful. For C++ programmer, **Armadillo** is widely used library for\n",
    "linear algebra and eigenvalue problems. In addition it offers a\n",
    "convenient way to handle and organize arrays. We discuss this library\n",
    "as well.   Before we proceed we believe  it may be convenient to repeat some basic features of \n",
    " matrices and vectors.\n",
    "\n",
    "\n",
    "## Basic Matrix Features\n",
    "\n",
    "**Matrix properties reminder.**"
   ]
  },
  {
   "cell_type": "markdown",
   "metadata": {},
   "source": [
    "$$\n",
    "\\mathbf{A} =\n",
    "      \\begin{bmatrix} a_{11} & a_{12} & a_{13} & a_{14} \\\\\n",
    "                                 a_{21} & a_{22} & a_{23} & a_{24} \\\\\n",
    "                                   a_{31} & a_{32} & a_{33} & a_{34} \\\\\n",
    "                                  a_{41} & a_{42} & a_{43} & a_{44}\n",
    "             \\end{bmatrix}\\qquad\n",
    "\\mathbf{I} =\n",
    "      \\begin{bmatrix} 1 & 0 & 0 & 0 \\\\\n",
    "                                 0 & 1 & 0 & 0 \\\\\n",
    "                                 0 & 0 & 1 & 0 \\\\\n",
    "                                 0 & 0 & 0 & 1\n",
    "             \\end{bmatrix}\n",
    "$$"
   ]
  },
  {
   "cell_type": "markdown",
   "metadata": {},
   "source": [
    "## Basic Matrix Features\n",
    "\n",
    "The inverse of a matrix is defined by"
   ]
  },
  {
   "cell_type": "markdown",
   "metadata": {},
   "source": [
    "$$\n",
    "\\mathbf{A}^{-1} \\cdot \\mathbf{A} = I\n",
    "$$"
   ]
  },
  {
   "cell_type": "markdown",
   "metadata": {},
   "source": [
    "## Basic Matrix Features\n",
    "\n",
    "**Matrix Properties Reminder.**\n",
    "\n",
    "\n",
    "<table border=\"1\">\n",
    "<thead>\n",
    "<tr><th align=\"center\">              Relations               </th> <th align=\"center\">      Name     </th> <th align=\"center\">                            matrix elements                            </th> </tr>\n",
    "</thead>\n",
    "<tbody>\n",
    "<tr><td align=\"center\">   $A = A^{T}$                               </td> <td align=\"center\">   symmetric          </td> <td align=\"center\">   $a_{ij} = a_{ji}$                                                          </td> </tr>\n",
    "<tr><td align=\"center\">   $A = \\left (A^{T} \\right )^{-1}$          </td> <td align=\"center\">   real orthogonal    </td> <td align=\"center\">   $\\sum_k a_{ik} a_{jk} = \\sum_k a_{ki} a_{kj} = \\delta_{ij}$                </td> </tr>\n",
    "<tr><td align=\"center\">   $A = A^{ * }$                             </td> <td align=\"center\">   real matrix        </td> <td align=\"center\">   $a_{ij} = a_{ij}^{ * }$                                                    </td> </tr>\n",
    "<tr><td align=\"center\">   $A = A^{\\dagger}$                         </td> <td align=\"center\">   hermitian          </td> <td align=\"center\">   $a_{ij} = a_{ji}^{ * }$                                                    </td> </tr>\n",
    "<tr><td align=\"center\">   $A = \\left (A^{\\dagger} \\right )^{-1}$    </td> <td align=\"center\">   unitary            </td> <td align=\"center\">   $\\sum_k a_{ik} a_{jk}^{ * } = \\sum_k a_{ki}^{ * } a_{kj} = \\delta_{ij}$    </td> </tr>\n",
    "</tbody>\n",
    "</table>\n",
    "\n",
    "\n",
    "\n",
    "\n",
    "## Some famous Matrices\n",
    "\n",
    "  * Diagonal if $a_{ij}=0$ for $i\\ne j$\n",
    "\n",
    "  * Upper triangular if $a_{ij}=0$ for $i > j$\n",
    "\n",
    "  * Lower triangular if $a_{ij}=0$ for $i < j$\n",
    "\n",
    "  * Upper Hessenberg if $a_{ij}=0$ for $i > j+1$\n",
    "\n",
    "  * Lower Hessenberg if $a_{ij}=0$ for $i < j+1$\n",
    "\n",
    "  * Tridiagonal if $a_{ij}=0$ for $|i -j| > 1$\n",
    "\n",
    "  * Lower banded with bandwidth $p$: $a_{ij}=0$ for $i > j+p$\n",
    "\n",
    "  * Upper banded with bandwidth $p$: $a_{ij}=0$ for $i < j+p$\n",
    "\n",
    "  * Banded, block upper triangular, block lower triangular....\n",
    "\n",
    "## Basic Matrix Features\n",
    "\n",
    "**Some Equivalent Statements.**\n",
    "\n",
    "For an $N\\times N$ matrix  $\\mathbf{A}$ the following properties are all equivalent\n",
    "\n",
    "  * If the inverse of $\\mathbf{A}$ exists, $\\mathbf{A}$ is nonsingular.\n",
    "\n",
    "  * The equation $\\mathbf{Ax}=0$ implies $\\mathbf{x}=0$.\n",
    "\n",
    "  * The rows of $\\mathbf{A}$ form a basis of $R^N$.\n",
    "\n",
    "  * The columns of $\\mathbf{A}$ form a basis of $R^N$.\n",
    "\n",
    "  * $\\mathbf{A}$ is a product of elementary matrices.\n",
    "\n",
    "  * $0$ is not eigenvalue of $\\mathbf{A}$.\n",
    "\n",
    "\n",
    "\n",
    "\n",
    "## Numpy and arrays\n",
    "[Numpy](http://www.numpy.org/) provides an easy way to handle arrays in Python. The standard way to import this library is as"
   ]
  },
  {
   "cell_type": "code",
   "execution_count": 1,
   "metadata": {},
   "outputs": [],
   "source": [
    "import numpy as np"
   ]
  },
  {
   "cell_type": "markdown",
   "metadata": {},
   "source": [
    "Here follows a simple example where we set up an array of ten elements, all determined by random numbers drawn according to the normal distribution,"
   ]
  },
  {
   "cell_type": "code",
   "execution_count": 2,
   "metadata": {},
   "outputs": [],
   "source": [
    "n = 10\n",
    "x = np.random.normal(size=n)\n",
    "print(x)"
   ]
  },
  {
   "cell_type": "markdown",
   "metadata": {},
   "source": [
    "We defined a vector $x$ with $n=10$ elements with its values given by the Normal distribution $N(0,1)$.\n",
    "Another alternative is to declare a vector as follows"
   ]
  },
  {
   "cell_type": "code",
   "execution_count": 3,
   "metadata": {},
   "outputs": [],
   "source": [
    "import numpy as np\n",
    "x = np.array([1, 2, 3])\n",
    "print(x)"
   ]
  },
  {
   "cell_type": "markdown",
   "metadata": {},
   "source": [
    "Here we have defined a vector with three elements, with $x_0=1$, $x_1=2$ and $x_2=3$. Note that both Python and C++\n",
    "start numbering array elements from $0$ and on. This means that a vector with $n$ elements has a sequence of entities $x_0, x_1, x_2, \\dots, x_{n-1}$. We could also let (recommended) Numpy to compute the logarithms of a specific array as"
   ]
  },
  {
   "cell_type": "code",
   "execution_count": 4,
   "metadata": {},
   "outputs": [],
   "source": [
    "import numpy as np\n",
    "x = np.log(np.array([4, 7, 8]))\n",
    "print(x)"
   ]
  },
  {
   "cell_type": "markdown",
   "metadata": {},
   "source": [
    "Here we have used Numpy's unary function $np.log$. This function is\n",
    "highly tuned to compute array elements since the code is vectorized\n",
    "and does not require looping. We normaly recommend that you use the\n",
    "Numpy intrinsic functions instead of the corresponding **log** function\n",
    "from Python's **math** module. The looping is done explicitely by the\n",
    "**np.log** function. The alternative, and slower way to compute the\n",
    "logarithms of a vector would be to write"
   ]
  },
  {
   "cell_type": "code",
   "execution_count": 5,
   "metadata": {},
   "outputs": [],
   "source": [
    "import numpy as np\n",
    "from math import log\n",
    "x = np.array([4, 7, 8])\n",
    "for i in range(0, len(x)):\n",
    "    x[i] = log(x[i])\n",
    "print(x)"
   ]
  },
  {
   "cell_type": "markdown",
   "metadata": {},
   "source": [
    "We note that our code is much longer already and we need to import the **log** function from the **math** module. \n",
    "The attentive reader will also notice that the output is $[1, 1, 2]$. Python interprets automagically our numbers as integers (like the **automatic** keyword in C++). To change this we could define our array elements to be double precision numbers as"
   ]
  },
  {
   "cell_type": "code",
   "execution_count": 6,
   "metadata": {},
   "outputs": [],
   "source": [
    "import numpy as np\n",
    "x = np.log(np.array([4, 7, 8], dtype = np.float64))\n",
    "print(x)"
   ]
  },
  {
   "cell_type": "markdown",
   "metadata": {},
   "source": [
    "or simply write them as double precision numbers (Python uses 64 bits as default for floating point type variables), that is"
   ]
  },
  {
   "cell_type": "code",
   "execution_count": 7,
   "metadata": {},
   "outputs": [],
   "source": [
    "import numpy as np\n",
    "x = np.log(np.array([4.0, 7.0, 8.0])\n",
    "print(x)"
   ]
  },
  {
   "cell_type": "markdown",
   "metadata": {},
   "source": [
    "To check the number of bytes (remember that one byte contains eight bits for double precision variables), you can use simple use the **itemsize** functionality (the array $x$ is actually an object which inherits the functionalities defined in Numpy) as"
   ]
  },
  {
   "cell_type": "code",
   "execution_count": 8,
   "metadata": {},
   "outputs": [],
   "source": [
    "import numpy as np\n",
    "x = np.log(np.array([4.0, 7.0, 8.0])\n",
    "print(x.itemsize)"
   ]
  },
  {
   "cell_type": "markdown",
   "metadata": {},
   "source": [
    "## Matrices in Python\n",
    "\n",
    "Having defined vectors, we are now ready to try out matrices. We can\n",
    "define a $3 \\times 3 $ real matrix $\\hat{A}$ as (recall that we user\n",
    "lowercase letters for vectors and uppercase letters for matrices)"
   ]
  },
  {
   "cell_type": "code",
   "execution_count": 9,
   "metadata": {},
   "outputs": [],
   "source": [
    "import numpy as np\n",
    "A = np.log(np.array([ [4.0, 7.0, 8.0], [3.0, 10.0, 11.0], [4.0, 5.0, 7.0] ]))\n",
    "print(A)"
   ]
  },
  {
   "cell_type": "markdown",
   "metadata": {},
   "source": [
    "If we use the **shape** function we would get $(3, 3)$ as output, that is verifying that our matrix is a $3\\times 3$ matrix. We can slice the matrix and print for example the first column (Python organized matrix elements in a row-major order, see below) as"
   ]
  },
  {
   "cell_type": "code",
   "execution_count": 10,
   "metadata": {},
   "outputs": [],
   "source": [
    "import numpy as np\n",
    "A = np.log(np.array([ [4.0, 7.0, 8.0], [3.0, 10.0, 11.0], [4.0, 5.0, 7.0] ]))\n",
    "# print the first column, row-major order and elements start with 0\n",
    "print(A[:,0])"
   ]
  },
  {
   "cell_type": "markdown",
   "metadata": {},
   "source": [
    "We can continue this was by printing out other columns or rows. The example here prints out the second column"
   ]
  },
  {
   "cell_type": "code",
   "execution_count": 11,
   "metadata": {},
   "outputs": [],
   "source": [
    "import numpy as np\n",
    "A = np.log(np.array([ [4.0, 7.0, 8.0], [3.0, 10.0, 11.0], [4.0, 5.0, 7.0] ]))\n",
    "# print the first column, row-major order and elements start with 0\n",
    "print(A[1,:])"
   ]
  },
  {
   "cell_type": "markdown",
   "metadata": {},
   "source": [
    "Numpy contains many other functionalities that allow us to slice, subdivide etc etc arrays. We strongly recommend that you look up the [Numpy website for more details](http://www.numpy.org/). Useful functions when defining a matrix are the **np.zeros** function which declares a matrix of a given dimension and sets all elements to zero"
   ]
  },
  {
   "cell_type": "code",
   "execution_count": 12,
   "metadata": {},
   "outputs": [],
   "source": [
    "import numpy as np\n",
    "n = 10\n",
    "# define a matrix of dimension 10 x 10 and set all elements to zero\n",
    "A = np.zeros( (n, n) )\n",
    "print(A)"
   ]
  },
  {
   "cell_type": "markdown",
   "metadata": {},
   "source": [
    "or initializing all elements to"
   ]
  },
  {
   "cell_type": "code",
   "execution_count": 13,
   "metadata": {},
   "outputs": [],
   "source": [
    "import numpy as np\n",
    "n = 10\n",
    "# define a matrix of dimension 10 x 10 and set all elements to one\n",
    "A = np.ones( (n, n) )\n",
    "print(A)"
   ]
  },
  {
   "cell_type": "markdown",
   "metadata": {},
   "source": [
    "or as unitarily distributed random numbers (see the material on random number generators in the statistics part)"
   ]
  },
  {
   "cell_type": "code",
   "execution_count": 14,
   "metadata": {},
   "outputs": [],
   "source": [
    "import numpy as np\n",
    "n = 10\n",
    "# define a matrix of dimension 10 x 10 and set all elements to random numbers with x \\in [0, 1]\n",
    "A = np.random.rand(n, n)\n",
    "print(A)"
   ]
  },
  {
   "cell_type": "markdown",
   "metadata": {},
   "source": [
    "As we will see throughout these lectures, there are several extremely useful functionalities in Numpy.\n",
    "As an example, consider the discussion of the covariance matrix. Suppose we have defined three vectors\n",
    "$\\hat{x}, \\hat{y}, \\hat{z}$ with $n$ elements each. The covariance matrix is defined as"
   ]
  },
  {
   "cell_type": "markdown",
   "metadata": {},
   "source": [
    "$$\n",
    "\\hat{\\Sigma} = \\begin{bmatrix} \\sigma_{xx} & \\sigma_{xy} & \\sigma_{xz} \\\\\n",
    "                              \\sigma_{yx} & \\sigma_{yy} & \\sigma_{yz} \\\\\n",
    "                              \\sigma_{zx} & \\sigma_{zy} & \\sigma_{zz} \n",
    "             \\end{bmatrix},\n",
    "$$"
   ]
  },
  {
   "cell_type": "markdown",
   "metadata": {},
   "source": [
    "where for example"
   ]
  },
  {
   "cell_type": "markdown",
   "metadata": {},
   "source": [
    "$$\n",
    "\\sigma_{xy} =\\frac{1}{n} \\sum_{i=0}^{n-1}(x_i- \\overline{x})(y_i- \\overline{y}).\n",
    "$$"
   ]
  },
  {
   "cell_type": "markdown",
   "metadata": {},
   "source": [
    "The Numpy function **np.cov** calculates the covariance elements using the factor $1/(n-1)$ instead of $1/n$ since it assumes we do not have the exact mean values. For a more in-depth discussion of the covariance and covariance matrix and its meaning, we refer you to the lectures on statistics. \n",
    "The following simple function uses the **np.vstack** function which takes each vector of dimension $1\\times n$ and produces a $ 3\\times n$ matrix $\\hat{W}$"
   ]
  },
  {
   "cell_type": "markdown",
   "metadata": {},
   "source": [
    "$$\n",
    "\\hat{W} = \\begin{bmatrix} x_0 & y_0 & z_0 \\\\\n",
    "                          x_1 & y_1 & z_1 \\\\\n",
    "                          x_2 & y_2 & z_2 \\\\\n",
    "                          \\dots & \\dots & \\dots \\\\\n",
    "                          x_{n-2} & y_{n-2} & z_{n-2} \\\\\n",
    "                          x_{n-1} & y_{n-1} & z_{n-1}\n",
    "             \\end{bmatrix},\n",
    "$$"
   ]
  },
  {
   "cell_type": "markdown",
   "metadata": {},
   "source": [
    "which in turn is converted into into the $3 times 3$ covariance matrix\n",
    "$\\hat{\\Sigma}$ via the Numpy function **np.cov()**. In our review of\n",
    "statistical functions and quantities we will discuss more about the\n",
    "meaning of the covariance matrix. Here we note that we can calculate\n",
    "the mean value of each set of samples $\\hat{x}$ etc using the Numpy\n",
    "function **np.mean(x)**. We can also extract the eigenvalues of the\n",
    "covariance matrix through the **np.linalg.eig()** function."
   ]
  },
  {
   "cell_type": "code",
   "execution_count": 15,
   "metadata": {},
   "outputs": [],
   "source": [
    "# Importing various packages\n",
    "import numpy as np\n",
    "\n",
    "n = 100\n",
    "x = np.random.normal(size=n)\n",
    "print(np.mean(x))\n",
    "y = 4+3*x+np.random.normal(size=n)\n",
    "print(np.mean(y))\n",
    "z = x**3+np.random.normal(size=n)\n",
    "print(np.mean(z))\n",
    "W = np.vstack((x, y, z))\n",
    "Sigma = np.cov(W)\n",
    "print(Sigma)\n",
    "Eigvals, Eigvecs = np.linalg.eig(Sigma)\n",
    "print(Eigvals)"
   ]
  },
  {
   "cell_type": "code",
   "execution_count": 16,
   "metadata": {},
   "outputs": [],
   "source": [
    "%matplotlib inline\n",
    "\n",
    "import numpy as np\n",
    "import matplotlib.pyplot as plt\n",
    "from scipy import sparse\n",
    "eye = np.eye(4)\n",
    "print(eye)\n",
    "sparse_mtx = sparse.csr_matrix(eye)\n",
    "print(sparse_mtx)\n",
    "x = np.linspace(-10,10,100)\n",
    "y = np.sin(x)\n",
    "plt.plot(x,y,marker='x')\n",
    "plt.show()"
   ]
  },
  {
   "cell_type": "markdown",
   "metadata": {},
   "source": [
    "## Meet the Pandas\n",
    "\n",
    "Another useful Python package is\n",
    "[pandas](https://pandas.pydata.org/), which is an open source library\n",
    "providing high-performance, easy-to-use data structures and data\n",
    "analysis tools for Python. The following simple example shows how we can, in an easy way make tables of our data. Here we define a data set which includes names, city of residence and age, and displays the data in an easy to read way. We will see repeated use of **pandas**, in particular in connection with classification of data."
   ]
  },
  {
   "cell_type": "code",
   "execution_count": 17,
   "metadata": {},
   "outputs": [],
   "source": [
    "import pandas as pd\n",
    "from IPython.display import display\n",
    "data = {'Name': [\"John\", \"Anna\", \"Peter\", \"Linda\"], 'Location': [\"Nairobi\", \"Napoli\", \"London\", \"Buenos Aires\"], 'Age':[51, 21, 34, 45]}\n",
    "data_pandas = pd.DataFrame(data)\n",
    "display(data_pandas)"
   ]
  },
  {
   "cell_type": "markdown",
   "metadata": {},
   "source": [
    "Here are other examples where we use the **DataFrame** functionality to handle arrays"
   ]
  },
  {
   "cell_type": "code",
   "execution_count": 18,
   "metadata": {},
   "outputs": [],
   "source": [
    "import numpy as np\n",
    "import pandas as pd\n",
    "from IPython.display import display\n",
    "np.random.seed(100)\n",
    "# setting up a 9 x 4 matrix\n",
    "rows = 9\n",
    "cols = 4\n",
    "a = np.random.randn(rows,cols)\n",
    "df = pd.DataFrame(a)\n",
    "display(df)\n",
    "print(df.mean())\n",
    "print(df.std())\n",
    "display(df**2)\n",
    "\n",
    "\n",
    "df.columns = ['First', 'Second', 'Third', 'Fourth']\n",
    "df.index = np.arange(9)\n",
    "\n",
    "display(df)\n",
    "print(df['Second'].mean() )\n",
    "print(df.info())\n",
    "print(df.describe())\n",
    "\n",
    "from pylab import plt, mpl\n",
    "plt.style.use('seaborn')\n",
    "mpl.rcParams['font.family'] = 'serif'\n",
    "\n",
    "df.cumsum().plot(lw=2.0, figsize=(10,6))\n",
    "#plt.show()\n",
    "\n",
    "\n",
    "df.plot.bar(figsize=(10,6), rot=15)\n",
    "#plt.show()\n",
    "\n",
    "\n",
    "b = np.arange(16).reshape((4,4))\n",
    "print(b)\n",
    "\n",
    "df1 = pd.DataFrame(b)"
   ]
  },
  {
   "cell_type": "markdown",
   "metadata": {},
   "source": [
    "## Reading Data and fitting Nuclear Masses\n",
    "\n",
    "In order to study various Machine Learning algorithms, we need to\n",
    "access data. Acccessing data is an essential step in all machine\n",
    "learning algorithms. In particular, setting up the so-called **design\n",
    "matrix** (to be defined below) is often the first element we need in\n",
    "order to perform our calculations. To set up the design matrix means\n",
    "reading (and later, when the calculations are done, writing) data\n",
    "in various formats, The formats span from reading files from disk,\n",
    "loading data from databases and interacting with online sources\n",
    "like web application programming interfaces (APIs).\n",
    "\n",
    "In handling various input formats, we will mainly stay with **pandas**,\n",
    "a Python package which allows us, in a seamless and painless way, to\n",
    "deal with a multitude of formats, from standard **csv** (comma separated\n",
    "values) files, via **excel**, **html** to **hdf5** formats.  With **pandas**\n",
    "and the **DataFrame**  and **Series** functionalities we are able to convert text data\n",
    "into the calculational formats we need for a specific algorithm. And our code is going to be \n",
    "pretty close the basic mathematical expressions.\n",
    "\n",
    "We are going to start with a classic case from nuclear physics, namely all\n",
    "available data on binding energies. We will then show some of the\n",
    "strength of packages like **scikit-learn** in fitting binding energies to\n",
    "specific functions using linear regression first. Then, as a teaser, we will show you how \n",
    "you can easily implement other algorithms like decision trees and random forests and neural networks.\n",
    "\n",
    "But before we really start with nuclear data, let's just look at some simpler polynomial fitting cases, such as,\n",
    "(don't be offended) fitting straight lines!\n",
    "\n",
    "\n",
    "### Simple linear regression model using **scikit-learn**\n",
    "\n",
    "We start with perhaps our simplest possible example, using **scikit-learn** to perform linear regression analysis on a data set produced by us. \n",
    "\n",
    "What follows is a simple Python code where we have defined a function\n",
    "$y$ in terms of the variable $x$. Both are defined as vectors with  $100$ entries. \n",
    "The numbers in the vector $\\hat{x}$ are given\n",
    "by random numbers generated with a uniform distribution with entries\n",
    "$x_i \\in [0,1]$ (more about probability distribution functions\n",
    "later). These values are then used to define a function $y(x)$\n",
    "(tabulated again as a vector) with a linear dependence on $x$ plus a\n",
    "random noise added via the normal distribution.\n",
    "\n",
    "\n",
    "The Numpy functions are imported used the **import numpy as np**\n",
    "statement and the random number generator for the uniform distribution\n",
    "is called using the function **np.random.rand()**, where we specificy\n",
    "that we want $100$ random variables.  Using Numpy we define\n",
    "automatically an array with the specified number of elements, $100$ in\n",
    "our case.  With the Numpy function **randn()** we can compute random\n",
    "numbers with the normal distribution (mean value $\\mu$ equal to zero and\n",
    "variance $\\sigma^2$ set to one) and produce the values of $y$ assuming a linear\n",
    "dependence as function of $x$"
   ]
  },
  {
   "cell_type": "markdown",
   "metadata": {},
   "source": [
    "$$\n",
    "y = 2x+N(0,1),\n",
    "$$"
   ]
  },
  {
   "cell_type": "markdown",
   "metadata": {},
   "source": [
    "where $N(0,1)$ represents random numbers generated by the normal\n",
    "distribution.  From **scikit-learn** we import then the\n",
    "**LinearRegression** functionality and make a prediction $\\tilde{y} =\n",
    "\\alpha + \\beta x$ using the function **fit(x,y)**. We call the set of\n",
    "data $(\\hat{x},\\hat{y})$ for our training data. The Python package\n",
    "**scikit-learn** has also a functionality which extracts the above\n",
    "fitting parameters $\\alpha$ and $\\beta$ (see below). Later we will\n",
    "distinguish between training data and test data.\n",
    "\n",
    "For plotting we use the Python package\n",
    "[matplotlib](https://matplotlib.org/) which produces publication\n",
    "quality figures. Feel free to explore the extensive\n",
    "[gallery](https://matplotlib.org/gallery/index.html) of examples. In\n",
    "this example we plot our original values of $x$ and $y$ as well as the\n",
    "prediction **ypredict** ($\\tilde{y}$), which attempts at fitting our\n",
    "data with a straight line.\n",
    "\n",
    "The Python code follows here."
   ]
  },
  {
   "cell_type": "code",
   "execution_count": 19,
   "metadata": {},
   "outputs": [],
   "source": [
    "# Importing various packages\n",
    "import numpy as np\n",
    "import matplotlib.pyplot as plt\n",
    "from sklearn.linear_model import LinearRegression\n",
    "\n",
    "x = np.random.rand(100,1)\n",
    "y = 2*x+np.random.randn(100,1)\n",
    "linreg = LinearRegression()\n",
    "linreg.fit(x,y)\n",
    "xnew = np.array([[0],[1]])\n",
    "ypredict = linreg.predict(xnew)\n",
    "\n",
    "plt.plot(xnew, ypredict, \"r-\")\n",
    "plt.plot(x, y ,'ro')\n",
    "plt.axis([0,1.0,0, 5.0])\n",
    "plt.xlabel(r'$x$')\n",
    "plt.ylabel(r'$y$')\n",
    "plt.title(r'Simple Linear Regression')\n",
    "plt.show()"
   ]
  },
  {
   "cell_type": "markdown",
   "metadata": {},
   "source": [
    "This example serves several aims. It allows us to demonstrate several\n",
    "aspects of data analysis and later machine learning algorithms. The\n",
    "immediate visualization shows that our linear fit is not\n",
    "impressive. It goes through the data points, but there are many\n",
    "outliers which are not reproduced by our linear regression.  We could\n",
    "now play around with this small program and change for example the\n",
    "factor in front of $x$ and the normal distribution.  Try to change the\n",
    "function $y$ to"
   ]
  },
  {
   "cell_type": "markdown",
   "metadata": {},
   "source": [
    "$$\n",
    "y = 10x+0.01 \\times N(0,1),\n",
    "$$"
   ]
  },
  {
   "cell_type": "markdown",
   "metadata": {},
   "source": [
    "where $x$ is defined as before.  Does the fit look better? Indeed, by\n",
    "reducing the role of the noise given by normal distribution we see immediately that\n",
    "our linear prediction seemingly reproduces better the training\n",
    "set. However, this testing 'by the eye' is obviouly not satisfactory in the\n",
    "long run. Here we have only defined the training data and our model, and \n",
    "have not discussed a more rigorous approach to the **cost** function.\n",
    "\n",
    "We need more rigorous criteria in defining whether we have succeeded or\n",
    "not in modeling our training data.  You will be surprised to see that\n",
    "many scientists seldomly venture beyond this 'by the eye' approach. A\n",
    "standard approach for the *cost* function is the so-called $\\chi^2$\n",
    "function"
   ]
  },
  {
   "cell_type": "markdown",
   "metadata": {},
   "source": [
    "$$\n",
    "\\chi^2 = \\frac{1}{n}\n",
    "\\sum_{i=0}^{n-1}\\frac{(y_i-\\tilde{y}_i)^2}{\\sigma_i^2},\n",
    "$$"
   ]
  },
  {
   "cell_type": "markdown",
   "metadata": {},
   "source": [
    "where $\\sigma_i^2$ is the variance (to be defined later) of the entry\n",
    "$y_i$.  We may not know the explicit value of $\\sigma_i^2$, it serves\n",
    "however the aim of scaling the equations and make the cost function\n",
    "dimensionless.  \n",
    "\n",
    "Minimizing the cost function is a central aspect of\n",
    "our discussions to come. Finding its minima as function of the model\n",
    "parameters ($\\alpha$ and $\\beta$ in our case) will be a recurring\n",
    "theme in these series of lectures. Essentially all machine learning\n",
    "algorithms we will discuss center around the minimization of the\n",
    "chosen cost function. This depends in turn on our specific\n",
    "model for describing the data, a typical situation in supervised\n",
    "learning. Automatizing the search for the minima of the cost function is a\n",
    "central ingredient in all algorithms. Typical methods which are\n",
    "employed are various variants of **gradient** methods. These will be\n",
    "discussed in more detail later. Again, you'll be surprised to hear that\n",
    "many practitioners minimize the above function ''by the eye', popularly dubbed as \n",
    "'chi by the eye'. That is, change a parameter and see (visually and numerically) that \n",
    "the  $\\chi^2$ function becomes smaller. \n",
    "\n",
    "There are many ways to define the cost function. A simpler approach is to look at the relative difference between the training data and the predicted data, that is we define \n",
    "the relative error as"
   ]
  },
  {
   "cell_type": "markdown",
   "metadata": {},
   "source": [
    "$$\n",
    "\\epsilon_{\\mathrm{relative}}= \\frac{\\vert \\hat{y} -\\hat{\\tilde{y}}\\vert}{\\vert \\hat{y}\\vert}.\n",
    "$$"
   ]
  },
  {
   "cell_type": "markdown",
   "metadata": {},
   "source": [
    "We can modify easily the above Python code and plot the relative error instead"
   ]
  },
  {
   "cell_type": "code",
   "execution_count": 20,
   "metadata": {},
   "outputs": [],
   "source": [
    "import numpy as np\n",
    "import matplotlib.pyplot as plt\n",
    "from sklearn.linear_model import LinearRegression\n",
    "\n",
    "x = np.random.rand(100,1)\n",
    "y = 5*x+0.01*np.random.randn(100,1)\n",
    "linreg = LinearRegression()\n",
    "linreg.fit(x,y)\n",
    "ypredict = linreg.predict(x)\n",
    "\n",
    "plt.plot(x, np.abs(ypredict-y)/abs(y), \"ro\")\n",
    "plt.axis([0,1.0,0.0, 0.5])\n",
    "plt.xlabel(r'$x$')\n",
    "plt.ylabel(r'$\\epsilon_{\\mathrm{relative}}$')\n",
    "plt.title(r'Relative error')\n",
    "plt.show()"
   ]
  },
  {
   "cell_type": "markdown",
   "metadata": {},
   "source": [
    "Depending on the parameter in front of the normal distribution, we may\n",
    "have a small or larger relative error. Try to play around with\n",
    "different training data sets and study (graphically) the value of the\n",
    "relative error.\n",
    "\n",
    "As mentioned above, **scikit-learn** has an impressive functionality.\n",
    "We can for example extract the values of $\\alpha$ and $\\beta$ and\n",
    "their error estimates, or the variance and standard deviation and many\n",
    "other properties from the statistical data analysis. \n",
    "\n",
    "Here we show an\n",
    "example of the functionality of scikit-learn."
   ]
  },
  {
   "cell_type": "code",
   "execution_count": 21,
   "metadata": {},
   "outputs": [],
   "source": [
    "import numpy as np \n",
    "import matplotlib.pyplot as plt \n",
    "from sklearn.linear_model import LinearRegression \n",
    "from sklearn.metrics import mean_squared_error, r2_score, mean_squared_log_error, mean_absolute_error\n",
    "\n",
    "x = np.random.rand(100,1)\n",
    "y = 2.0+ 5*x+0.5*np.random.randn(100,1)\n",
    "linreg = LinearRegression()\n",
    "linreg.fit(x,y)\n",
    "ypredict = linreg.predict(x)\n",
    "print('The intercept alpha: \\n', linreg.intercept_)\n",
    "print('Coefficient beta : \\n', linreg.coef_)\n",
    "# The mean squared error                               \n",
    "print(\"Mean squared error: %.2f\" % mean_squared_error(y, ypredict))\n",
    "# Explained variance score: 1 is perfect prediction                                 \n",
    "print('Variance score: %.2f' % r2_score(y, ypredict))\n",
    "# Mean squared log error                                                        \n",
    "print('Mean squared log error: %.2f' % mean_squared_log_error(y, ypredict) )\n",
    "# Mean absolute error                                                           \n",
    "print('Mean absolute error: %.2f' % mean_absolute_error(y, ypredict))\n",
    "plt.plot(x, ypredict, \"r-\")\n",
    "plt.plot(x, y ,'ro')\n",
    "plt.axis([0.0,1.0,1.5, 7.0])\n",
    "plt.xlabel(r'$x$')\n",
    "plt.ylabel(r'$y$')\n",
    "plt.title(r'Linear Regression fit ')\n",
    "plt.show()"
   ]
  },
  {
   "cell_type": "markdown",
   "metadata": {},
   "source": [
    "The function **coef** gives us the parameter $\\beta$ of our fit while **intercept** yields \n",
    "$\\alpha$. Depending on the constant in front of the normal distribution, we get values near or far from $alpha =2$ and $\\beta =5$. Try to play around with different parameters in front of the normal distribution. The function **meansquarederror** gives us the mean square error, a risk metric corresponding to the expected value of the squared (quadratic) error or loss defined as"
   ]
  },
  {
   "cell_type": "markdown",
   "metadata": {},
   "source": [
    "$$\n",
    "MSE(\\hat{y},\\hat{\\tilde{y}}) = \\frac{1}{n}\n",
    "\\sum_{i=0}^{n-1}(y_i-\\tilde{y}_i)^2,\n",
    "$$"
   ]
  },
  {
   "cell_type": "markdown",
   "metadata": {},
   "source": [
    "The smaller the value, the better the fit. Ideally we would like to\n",
    "have an MSE equal zero.  The attentive reader has probably recognized\n",
    "this function as being similar to the $\\chi^2$ function defined above.\n",
    "\n",
    "The **r2score** function computes $R^2$, the coefficient of\n",
    "determination. It provides a measure of how well future samples are\n",
    "likely to be predicted by the model. Best possible score is 1.0 and it\n",
    "can be negative (because the model can be arbitrarily worse). A\n",
    "constant model that always predicts the expected value of $\\hat{y}$,\n",
    "disregarding the input features, would get a $R^2$ score of $0.0$.\n",
    "\n",
    "If $\\tilde{\\hat{y}}_i$ is the predicted value of the $i-th$ sample and $y_i$ is the corresponding true value, then the score $R^2$ is defined as"
   ]
  },
  {
   "cell_type": "markdown",
   "metadata": {},
   "source": [
    "$$\n",
    "R^2(\\hat{y}, \\tilde{\\hat{y}}) = 1 - \\frac{\\sum_{i=0}^{n - 1} (y_i - \\tilde{y}_i)^2}{\\sum_{i=0}^{n - 1} (y_i - \\bar{y})^2},\n",
    "$$"
   ]
  },
  {
   "cell_type": "markdown",
   "metadata": {},
   "source": [
    "where we have defined the mean value  of $\\hat{y}$ as"
   ]
  },
  {
   "cell_type": "markdown",
   "metadata": {},
   "source": [
    "$$\n",
    "\\bar{y} =  \\frac{1}{n} \\sum_{i=0}^{n - 1} y_i.\n",
    "$$"
   ]
  },
  {
   "cell_type": "markdown",
   "metadata": {},
   "source": [
    "Another quantity taht we will meet again in our discussions of regression analysis is \n",
    " the mean absolute error (MAE), a risk metric corresponding to the expected value of the absolute error loss or what we call the $l1$-norm loss. In our discussion above we presented the relative error.\n",
    "The MAE is defined as follows"
   ]
  },
  {
   "cell_type": "markdown",
   "metadata": {},
   "source": [
    "$$\n",
    "\\text{MAE}(\\hat{y}, \\hat{\\tilde{y}}) = \\frac{1}{n} \\sum_{i=0}^{n-1} \\left| y_i - \\tilde{y}_i \\right|.\n",
    "$$"
   ]
  },
  {
   "cell_type": "markdown",
   "metadata": {},
   "source": [
    "Finally we present the \n",
    "squared logarithmic (quadratic) error"
   ]
  },
  {
   "cell_type": "markdown",
   "metadata": {},
   "source": [
    "$$\n",
    "\\text{MSLE}(\\hat{y}, \\hat{\\tilde{y}}) = \\frac{1}{n} \\sum_{i=0}^{n - 1} (\\log_e (1 + y_i) - \\log_e (1 + \\tilde{y}_i) )^2,\n",
    "$$"
   ]
  },
  {
   "cell_type": "markdown",
   "metadata": {},
   "source": [
    "where $\\log_e (x)$ stands for the natural logarithm of $x$. This error\n",
    "estimate is best to use when targets having exponential growth, such\n",
    "as population counts, average sales of a commodity over a span of\n",
    "years etc. \n",
    "\n",
    "We will discuss in more\n",
    "detail these and other functions in the various lectures.  We conclude this part with another example. Instead of \n",
    "a linear $x$-dependence we study now a cubic polynomial and use the polynomial regression analysis tools of scikit-learn."
   ]
  },
  {
   "cell_type": "code",
   "execution_count": 22,
   "metadata": {},
   "outputs": [],
   "source": [
    "import matplotlib.pyplot as plt\n",
    "import numpy as np\n",
    "import random\n",
    "from sklearn.linear_model import Ridge\n",
    "from sklearn.preprocessing import PolynomialFeatures\n",
    "from sklearn.pipeline import make_pipeline\n",
    "from sklearn.linear_model import LinearRegression\n",
    "\n",
    "x=np.linspace(0.02,0.98,200)\n",
    "noise = np.asarray(random.sample((range(200)),200))\n",
    "y=x**3*noise\n",
    "yn=x**3*100\n",
    "poly3 = PolynomialFeatures(degree=3)\n",
    "X = poly3.fit_transform(x[:,np.newaxis])\n",
    "clf3 = LinearRegression()\n",
    "clf3.fit(X,y)\n",
    "\n",
    "Xplot=poly3.fit_transform(x[:,np.newaxis])\n",
    "poly3_plot=plt.plot(x, clf3.predict(Xplot), label='Cubic Fit')\n",
    "plt.plot(x,yn, color='red', label=\"True Cubic\")\n",
    "plt.scatter(x, y, label='Data', color='orange', s=15)\n",
    "plt.legend()\n",
    "plt.show()\n",
    "\n",
    "def error(a):\n",
    "    for i in y:\n",
    "        err=(y-yn)/yn\n",
    "    return abs(np.sum(err))/len(err)\n",
    "\n",
    "print (error(y))"
   ]
  },
  {
   "cell_type": "markdown",
   "metadata": {},
   "source": [
    "Similarly, using **R**, we can perform similar studies. \n",
    "\n",
    "\n",
    "\n",
    "\n",
    "\n",
    "### Brief reminder on masses and binding energies\n",
    "\n",
    "Let us return to nuclear physics and remind ourselves briefly about some basic features about binding\n",
    "energies.  A basic quantity which can be measured for the ground\n",
    "states of nuclei is the atomic mass $M(N, Z)$ of the neutral atom with\n",
    "atomic mass number $A$ and charge $Z$. The number of neutrons is $N$.\n",
    "\n",
    "Atomic masses are usually tabulated in terms of the mass excess defined by"
   ]
  },
  {
   "cell_type": "markdown",
   "metadata": {},
   "source": [
    "$$\n",
    "\\Delta M(N, Z) =  M(N, Z) - uA,\n",
    "$$"
   ]
  },
  {
   "cell_type": "markdown",
   "metadata": {},
   "source": [
    "where $u$ is the Atomic Mass Unit"
   ]
  },
  {
   "cell_type": "markdown",
   "metadata": {},
   "source": [
    "$$\n",
    "u = M(^{12}\\mathrm{C})/12 = 931.49386 \\hspace{0.1cm} \\mathrm{MeV}/c^2.\n",
    "$$"
   ]
  },
  {
   "cell_type": "markdown",
   "metadata": {},
   "source": [
    "The nucleon masses are"
   ]
  },
  {
   "cell_type": "markdown",
   "metadata": {},
   "source": [
    "$$\n",
    "m_p = 938.27203(8)\\hspace{0.1cm} \\mathrm{MeV}/c^2 = 1.00727646688(13)u,\n",
    "$$"
   ]
  },
  {
   "cell_type": "markdown",
   "metadata": {},
   "source": [
    "and"
   ]
  },
  {
   "cell_type": "markdown",
   "metadata": {},
   "source": [
    "$$\n",
    "m_n = 939.56536(8)\\hspace{0.1cm} \\mathrm{MeV}/c^2 = 1.0086649156(6)u.\n",
    "$$"
   ]
  },
  {
   "cell_type": "markdown",
   "metadata": {},
   "source": [
    "In the [2016 mass evaluation of by W.J.Huang, G.Audi, M.Wang, F.G.Kondev, S.Naimi and X.Xu](http://nuclearmasses.org/resources_folder/Wang_2017_Chinese_Phys_C_41_030003.pdf)\n",
    "there are xxx nuclei measured with an\n",
    "accuracy of xxx MeV or better, and xxx nuclei measured with an\n",
    "accuracy of greater than xxx MeV. For heavy nuclei one observes\n",
    "several chains of nuclei with a constant $N-Z$ value whose masses are\n",
    "obtained from the energy released in $\\alpha$-decay.\n",
    "\n",
    "\n",
    "The nuclear binding energy is defined as the energy required to break\n",
    "up a given nucleus into its constituent parts of $N$ neutrons and $Z$\n",
    "protons. In terms of the atomic masses $M(N, Z)$ the binding energy is\n",
    "defined by"
   ]
  },
  {
   "cell_type": "markdown",
   "metadata": {},
   "source": [
    "$$\n",
    "BE(N, Z) = ZM_H c^2 + Nm_n c^2 - M(N, Z)c^2 ,\n",
    "$$"
   ]
  },
  {
   "cell_type": "markdown",
   "metadata": {},
   "source": [
    "where $M_H$ is the mass of the hydrogen atom and $m_n$ is the mass of the neutron.\n",
    "In terms of the mass excess the binding energy is given by"
   ]
  },
  {
   "cell_type": "markdown",
   "metadata": {},
   "source": [
    "$$\n",
    "BE(N, Z) = Z\\Delta_H c^2 + N\\Delta_n c^2 -\\Delta(N, Z)c^2 ,\n",
    "$$"
   ]
  },
  {
   "cell_type": "markdown",
   "metadata": {},
   "source": [
    "where $\\Delta_H c^2 = 7.2890$ MeV and $\\Delta_n c^2 = 8.0713$ MeV.\n",
    "\n",
    "\n",
    "A popular and physically intuitive model which can be used to parametrize \n",
    "the experimental binding energies as function of $A$, is the so-called \n",
    "**liquid drop model**. The ansatz is based on the following expression"
   ]
  },
  {
   "cell_type": "markdown",
   "metadata": {},
   "source": [
    "$$\n",
    "BE(N,Z) = a_1A-a_2A^{2/3}-a_3\\frac{Z^2}{A^{1/3}}-a_4\\frac{(N-Z)^2}{A},\n",
    "$$"
   ]
  },
  {
   "cell_type": "markdown",
   "metadata": {},
   "source": [
    "where $A$ stands for the number of nucleons and the $a_i$s are parameters which are determined by a fit \n",
    "to the experimental data.  \n",
    "\n",
    "\n",
    "\n",
    "\n",
    "To arrive at the above expression we have assumed that we can make the following assumptions:\n",
    "\n",
    " * There is a volume term $a_1A$ proportional with the number of nucleons (the energy is also an extensive quantity). When an assembly of nucleons of the same size is packed together into the smallest volume, each interior nucleon has a certain number of other nucleons in contact with it. This contribution is proportional to the volume.\n",
    "\n",
    " * There is a surface energy term $a_2A^{2/3}$. The assumption here is that a nucleon at the surface of a nucleus interacts with fewer other nucleons than one in the interior of the nucleus and hence its binding energy is less. This surface energy term takes that into account and is therefore negative and is proportional to the surface area.\n",
    "\n",
    " * There is a Coulomb energy term $a_3\\frac{Z^2}{A^{1/3}}$. The electric repulsion between each pair of protons in a nucleus yields less binding. \n",
    "\n",
    " * There is an asymmetry term $a_4\\frac{(N-Z)^2}{A}$. This term is associated with the Pauli exclusion principle and reflects the fact that the proton-neutron interaction is more attractive on the average than the neutron-neutron and proton-proton interactions.\n",
    "\n",
    "We could also add a so-called pairing term, which is a correction term that\n",
    "arises from the tendency of proton pairs and neutron pairs to\n",
    "occur. An even number of particles is more stable than an odd number. \n",
    "\n",
    "\n",
    "### Organizing our data\n",
    "\n",
    "Let us start with reading and organizing our data. \n",
    "We start with the compilation of masses and binding energies from 2016.\n",
    "After having downloaded this file to our own computer, we are now ready to read the file and start structuring our data.\n",
    "\n",
    "\n",
    "We start with preparing folders for storing our calculations and the data file over masses and binding energies."
   ]
  },
  {
   "cell_type": "code",
   "execution_count": 2,
   "metadata": {},
   "outputs": [],
   "source": [
    "# Common imports\n",
    "import numpy as np\n",
    "import pandas as pd\n",
    "import matplotlib.pyplot as plt\n",
    "import sklearn.linear_model as skl\n",
    "from sklearn.model_selection import train_test_split\n",
    "from sklearn.metrics import mean_squared_error, r2_score, mean_absolute_error\n",
    "import os\n",
    "\n",
    "# Where to save the figures and data files\n",
    "PROJECT_ROOT_DIR = \"Results\"\n",
    "FIGURE_ID = \"Results/FigureFiles\"\n",
    "DATA_ID = \"DataFiles/\"\n",
    "\n",
    "if not os.path.exists(PROJECT_ROOT_DIR):\n",
    "    os.mkdir(PROJECT_ROOT_DIR)\n",
    "\n",
    "if not os.path.exists(FIGURE_ID):\n",
    "    os.makedirs(FIGURE_ID)\n",
    "\n",
    "if not os.path.exists(DATA_ID):\n",
    "    os.makedirs(DATA_ID)\n",
    "\n",
    "def image_path(fig_id):\n",
    "    return os.path.join(FIGURE_ID, fig_id)\n",
    "\n",
    "def data_path(dat_id):\n",
    "    return os.path.join(DATA_ID, dat_id)\n",
    "\n",
    "def save_fig(fig_id):\n",
    "    plt.savefig(image_path(fig_id) + \".png\", format='png')\n",
    "\n",
    "infile = open(data_path(\"MassEval2016.dat\"),'r')"
   ]
  },
  {
   "cell_type": "markdown",
   "metadata": {},
   "source": [
    "Our next step is to read the data on experimental binding energies and\n",
    "reorganize them as functions of the mass number $A$ and the number of\n",
    "protons $Z$ and neutrons $N$ using **pandas**.  Before we do this it is\n",
    "always useful (unless you have a binary file or other types of compressed\n",
    "data) to actually open the file and simply take a look at it!\n",
    "\n",
    "\n",
    "In particular, the program that outputs the final nuclear masses is written in Fortran with a specific format. It means that we need to figure out the format and which columns contain the data we are interested in. Pandas comes with a function that reads formatted output. After having admired the file, we are now ready to start massaging it with **pandas**. The file begins with some basic format information."
   ]
  },
  {
   "cell_type": "code",
   "execution_count": 24,
   "metadata": {},
   "outputs": [],
   "source": [
    "\"\"\"                                                                                                                         \n",
    "This is taken from the data file of the mass 2016 evaluation.                                                               \n",
    "All files are 3436 lines long with 124 character per line.                                                                  \n",
    "       Headers are 39 lines long.                                                                                           \n",
    "   col 1     :  Fortran character control: 1 = page feed  0 = line feed                                                     \n",
    "   format    :  a1,i3,i5,i5,i5,1x,a3,a4,1x,f13.5,f11.5,f11.3,f9.3,1x,a2,f11.3,f9.3,1x,i3,1x,f12.5,f11.5                     \n",
    "   These formats are reflected in the pandas widths variable below, see the statement                                       \n",
    "   widths=(1,3,5,5,5,1,3,4,1,13,11,11,9,1,2,11,9,1,3,1,12,11,1),                                                            \n",
    "   Pandas has also a variable header, with length 39 in this case.                                                          \n",
    "\"\"\""
   ]
  },
  {
   "cell_type": "markdown",
   "metadata": {},
   "source": [
    "The data we are interested in are in columns 2, 3, 4 and 11, giving us\n",
    "the number of neutrons, protons, mass numbers and binding energies,\n",
    "respectively. We add also for the sake of completeness the element name. The data are in fixed-width formatted lines and we will\n",
    "covert them into the **pandas** DataFrame structure."
   ]
  },
  {
   "cell_type": "code",
   "execution_count": 3,
   "metadata": {},
   "outputs": [],
   "source": [
    "# Read the experimental data with Pandas\n",
    "Masses = pd.read_fwf(infile, usecols=(2,3,4,6,11),\n",
    "              names=('N', 'Z', 'A', 'Element', 'Ebinding'),\n",
    "              widths=(1,3,5,5,5,1,3,4,1,13,11,11,9,1,2,11,9,1,3,1,12,11,1),\n",
    "              header=39,\n",
    "              index_col=False)\n",
    "\n",
    "# Extrapolated values are indicated by '#' in place of the decimal place, so\n",
    "# the Ebinding column won't be numeric. Coerce to float and drop these entries.\n",
    "Masses['Ebinding'] = pd.to_numeric(Masses['Ebinding'], errors='coerce')\n",
    "Masses = Masses.dropna()\n",
    "# Convert from keV to MeV.\n",
    "Masses['Ebinding'] /= 1000\n",
    "\n",
    "# Group the DataFrame by nucleon number, A.\n",
    "Masses = Masses.groupby('A')\n",
    "# Find the rows of the grouped DataFrame with the maximum binding energy.\n",
    "Masses = Masses.apply(lambda t: t[t.Ebinding==t.Ebinding.max()])"
   ]
  },
  {
   "cell_type": "markdown",
   "metadata": {},
   "source": [
    "We have now read in the data, grouped them according to the variables we are interested in. \n",
    "We see how easy it is to reorganize the data using **pandas**. If we\n",
    "were to do these operations in C/C++ or Fortran, we would have had to\n",
    "write various functions/subroutines which perform the above\n",
    "reorganizations for us.  Having reorganized the data, we can now start\n",
    "to make some simple fits using both the functionalities in **numpy** and\n",
    "**scikitlearn** afterwards. Our first attempt is to make a fit using the\n",
    "standard least squares functionality of **numpy**. Here we will also\n",
    "show functionalities like the computation of the mean values, the\n",
    "variance and the covariance. \n",
    "\n",
    "Now we define five variables which contain\n",
    "the nucleon number, the number of protons and neutrons, the element name and finally the energies themselves."
   ]
  },
  {
   "cell_type": "code",
   "execution_count": 4,
   "metadata": {},
   "outputs": [
    {
     "name": "stdout",
     "output_type": "stream",
     "text": [
      "            N    Z    A Element  Ebinding\n",
      "A                                        \n",
      "1   0       0    1    1       H  0.000000\n",
      "2   1       1    1    2       H  1.112283\n",
      "3   2       2    1    3       H  2.827265\n",
      "4   6       2    2    4      He  7.073915\n",
      "5   9       3    2    5      He  5.512132\n",
      "6   14      3    3    6      Li  5.332331\n",
      "7   19      4    3    7      Li  5.606439\n",
      "8   24      4    4    8      Be  7.062435\n",
      "9   29      5    4    9      Be  6.462668\n",
      "10  34      6    4   10      Be  6.497630\n",
      "11  40      6    5   11       B  6.927732\n",
      "12  46      6    6   12       C  7.680144\n",
      "13  52      7    6   13       C  7.469849\n",
      "14  57      8    6   14       C  7.520319\n",
      "15  64      8    7   15       N  7.699460\n",
      "16  72      8    8   16       O  7.976206\n",
      "17  78      9    8   17       O  7.750728\n",
      "18  85     10    8   18       O  7.767097\n",
      "19  93     10    9   19       F  7.779018\n",
      "20  102    10   10   20      Ne  8.032240\n",
      "21  110    11   10   21      Ne  7.971713\n",
      "22  118    12   10   22      Ne  8.080465\n",
      "23  128    12   11   23      Na  8.111493\n",
      "24  137    12   12   24      Mg  8.260709\n",
      "25  146    13   12   25      Mg  8.223502\n",
      "26  154    14   12   26      Mg  8.333870\n",
      "27  164    14   13   27      Al  8.331553\n",
      "28  174    14   14   28      Si  8.447744\n",
      "29  183    15   14   29      Si  8.448635\n",
      "30  192    16   14   30      Si  8.520654\n",
      "...       ...  ...  ...     ...       ...\n",
      "238 3089  146   92  238       U  7.570125\n",
      "239 3099  146   93  239      Np  7.560567\n",
      "240 3109  146   94  240      Pu  7.556042\n",
      "241 3118  147   94  241      Pu  7.546439\n",
      "242 3127  148   94  242      Pu  7.541327\n",
      "243 3136  149   94  243      Pu  7.531008\n",
      "244 3144  150   94  244      Pu  7.524815\n",
      "245 3154  149   96  245      Cm  7.515767\n",
      "246 3162  150   96  246      Cm  7.511471\n",
      "247 3170  151   96  247      Cm  7.501931\n",
      "248 3177  152   96  248      Cm  7.496728\n",
      "249 3186  152   97  249      Bk  7.486040\n",
      "250 3194  152   98  250      Cf  7.479956\n",
      "251 3201  153   98  251      Cf  7.470500\n",
      "252 3209  154   98  252      Cf  7.465347\n",
      "253 3216  155   98  253      Cf  7.454829\n",
      "254 3224  156   98  254      Cf  7.449225\n",
      "255 3232  156   99  255      Es  7.437821\n",
      "256 3241  156  100  256      Fm  7.431780\n",
      "257 3248  157  100  257      Fm  7.422194\n",
      "258 3256  157  101  258      Md  7.409675\n",
      "259 3264  157  102  259      No  7.399974\n",
      "260 3275  154  106  260      Sg  7.342562\n",
      "261 3280  157  104  261      Rf  7.371384\n",
      "262 3289  156  106  262      Sg  7.341185\n",
      "264 3304  156  108  264      Hs  7.298375\n",
      "265 3310  157  108  265      Hs  7.296247\n",
      "266 3317  158  108  266      Hs  7.298273\n",
      "269 3338  159  110  269      Ds  7.250154\n",
      "270 3344  160  110  270      Ds  7.253775\n",
      "\n",
      "[267 rows x 5 columns]\n"
     ]
    }
   ],
   "source": [
    "A = Masses['A']\n",
    "Z = Masses['Z']\n",
    "N = Masses['N']\n",
    "Element = Masses['Element']\n",
    "Energies = Masses['Ebinding']\n",
    "print(Masses)"
   ]
  },
  {
   "cell_type": "markdown",
   "metadata": {},
   "source": [
    "The next step, and we will define this mathematically later, is to set up the so-called **design matrix**. We will throughout call this matrix $\\boldsymbol{X}$.\n",
    "It has dimensionality $p\\times n$, where $n$ is the number of data points and $p$ are the so-called predictors. In our case here they are given by the number of polynomials in $A$ we wish to include in the fit."
   ]
  },
  {
   "cell_type": "code",
   "execution_count": 5,
   "metadata": {},
   "outputs": [],
   "source": [
    "# Now we set up the design matrix X\n",
    "X = np.zeros((5,len(A)))\n",
    "X[4,:] = A**(-1.0)\n",
    "X[3,:] = A**(-1.0/3.0)\n",
    "X[2,:] = A**(2.0/3.0)\n",
    "X[1,:] = A\n",
    "X[0,:] = 1"
   ]
  },
  {
   "cell_type": "markdown",
   "metadata": {},
   "source": [
    "With **scikitlearn** we are now ready to use linear regression and fit our data."
   ]
  },
  {
   "cell_type": "code",
   "execution_count": 6,
   "metadata": {},
   "outputs": [],
   "source": [
    "clf = skl.LinearRegression().fit(X.T, Energies)\n",
    "fity = clf.predict(X.T)"
   ]
  },
  {
   "cell_type": "markdown",
   "metadata": {},
   "source": [
    "Pretty simple!  \n",
    "Now we can print measures of how our fit is doing, the coefficients from the fits and plot the final fit together with our data."
   ]
  },
  {
   "cell_type": "code",
   "execution_count": 7,
   "metadata": {},
   "outputs": [
    {
     "name": "stdout",
     "output_type": "stream",
     "text": [
      "Mean squared error: 0.04\n",
      "Variance score: 0.95\n",
      "Mean absolute error: 0.05\n",
      "[ 0.00000000e+00  7.06492086e-03 -1.73091052e-01 -1.66020213e+01\n",
      "  1.17385778e+00] 15.212327334149506\n"
     ]
    },
    {
     "data": {
      "image/png": "[encoded data removed]",
      "text/plain": [
       "<Figure size 432x288 with 1 Axes>"
      ]
     },
     "metadata": {},
     "output_type": "display_data"
    }
   ],
   "source": [
    "# The mean squared error                               \n",
    "print(\"Mean squared error: %.2f\" % mean_squared_error(Energies, fity))\n",
    "# Explained variance score: 1 is perfect prediction                                 \n",
    "print('Variance score: %.2f' % r2_score(Energies, fity))\n",
    "# Mean absolute error                                                           \n",
    "print('Mean absolute error: %.2f' % mean_absolute_error(Energies, fity))\n",
    "print(clf.coef_, clf.intercept_)\n",
    "\n",
    "Masses['Eapprox']  = fity\n",
    "# Generate a plot comparing the experimental with the fitted values values.\n",
    "fig, ax = plt.subplots()\n",
    "ax.set_xlabel(r'$A = N + Z$')\n",
    "ax.set_ylabel(r'$E_\\mathrm{bind}\\,/\\mathrm{MeV}$')\n",
    "ax.plot(Masses['A'], Masses['Ebinding'], alpha=0.7, lw=2,\n",
    "            label='Ame2016')\n",
    "ax.plot(Masses['A'], Masses['Eapprox'], alpha=0.7, lw=2, c='m',\n",
    "            label='Fit')\n",
    "ax.legend()\n",
    "save_fig(\"Masses2016\")\n",
    "plt.show()"
   ]
  },
  {
   "cell_type": "markdown",
   "metadata": {},
   "source": [
    "As a teaser, let us now see how we can do this with decision trees using **scikit-learn**"
   ]
  },
  {
   "cell_type": "code",
   "execution_count": 8,
   "metadata": {},
   "outputs": [
    {
     "data": {
      "image/png": "[encoded data removed]",
      "text/plain": [
       "<Figure size 432x288 with 1 Axes>"
      ]
     },
     "metadata": {},
     "output_type": "display_data"
    },
    {
     "name": "stdout",
     "output_type": "stream",
     "text": [
      "            N    Z    A Element  Ebinding   Eapprox\n",
      "A                                                  \n",
      "1   0       0    1    1       H  0.000000  0.000000\n",
      "2   1       1    1    2       H  1.112283  1.112283\n",
      "3   2       2    1    3       H  2.827265  2.827265\n",
      "4   6       2    2    4      He  7.073915  7.073915\n",
      "5   9       3    2    5      He  5.512132  5.512132\n",
      "6   14      3    3    6      Li  5.332331  5.332331\n",
      "7   19      4    3    7      Li  5.606439  5.606439\n",
      "8   24      4    4    8      Be  7.062435  7.062435\n",
      "9   29      5    4    9      Be  6.462668  6.462668\n",
      "10  34      6    4   10      Be  6.497630  6.497630\n",
      "11  40      6    5   11       B  6.927732  6.927732\n",
      "12  46      6    6   12       C  7.680144  7.680144\n",
      "13  52      7    6   13       C  7.469849  7.469849\n",
      "14  57      8    6   14       C  7.520319  7.520319\n",
      "15  64      8    7   15       N  7.699460  7.699460\n",
      "16  72      8    8   16       O  7.976206  7.976206\n",
      "17  78      9    8   17       O  7.750728  7.750728\n",
      "18  85     10    8   18       O  7.767097  7.773058\n",
      "19  93     10    9   19       F  7.779018  7.773058\n",
      "20  102    10   10   20      Ne  8.032240  8.032240\n",
      "21  110    11   10   21      Ne  7.971713  7.971713\n",
      "22  118    12   10   22      Ne  8.080465  8.080465\n",
      "23  128    12   11   23      Na  8.111493  8.111493\n",
      "24  137    12   12   24      Mg  8.260709  8.260709\n",
      "25  146    13   12   25      Mg  8.223502  8.223502\n",
      "26  154    14   12   26      Mg  8.333870  8.333870\n",
      "27  164    14   13   27      Al  8.331553  8.331553\n",
      "28  174    14   14   28      Si  8.447744  8.447744\n",
      "29  183    15   14   29      Si  8.448635  8.448635\n",
      "30  192    16   14   30      Si  8.520654  8.520654\n",
      "...       ...  ...  ...     ...       ...       ...\n",
      "238 3089  146   92  238       U  7.570125  7.573113\n",
      "239 3099  146   93  239      Np  7.560567  7.558304\n",
      "240 3109  146   94  240      Pu  7.556042  7.558304\n",
      "241 3118  147   94  241      Pu  7.546439  7.546439\n",
      "242 3127  148   94  242      Pu  7.541327  7.541327\n",
      "243 3136  149   94  243      Pu  7.531008  7.527912\n",
      "244 3144  150   94  244      Pu  7.524815  7.527912\n",
      "245 3154  149   96  245      Cm  7.515767  7.513619\n",
      "246 3162  150   96  246      Cm  7.511471  7.513619\n",
      "247 3170  151   96  247      Cm  7.501931  7.499329\n",
      "248 3177  152   96  248      Cm  7.496728  7.499329\n",
      "249 3186  152   97  249      Bk  7.486040  7.482998\n",
      "250 3194  152   98  250      Cf  7.479956  7.482998\n",
      "251 3201  153   98  251      Cf  7.470500  7.470500\n",
      "252 3209  154   98  252      Cf  7.465347  7.465347\n",
      "253 3216  155   98  253      Cf  7.454829  7.452027\n",
      "254 3224  156   98  254      Cf  7.449225  7.452027\n",
      "255 3232  156   99  255      Es  7.437821  7.434800\n",
      "256 3241  156  100  256      Fm  7.431780  7.434800\n",
      "257 3248  157  100  257      Fm  7.422194  7.422194\n",
      "258 3256  157  101  258      Md  7.409675  7.409675\n",
      "259 3264  157  102  259      No  7.399974  7.399974\n",
      "260 3275  154  106  260      Sg  7.342562  7.342562\n",
      "261 3280  157  104  261      Rf  7.371384  7.371384\n",
      "262 3289  156  106  262      Sg  7.341185  7.341185\n",
      "264 3304  156  108  264      Hs  7.298375  7.298375\n",
      "265 3310  157  108  265      Hs  7.296247  7.297260\n",
      "266 3317  158  108  266      Hs  7.298273  7.297260\n",
      "269 3338  159  110  269      Ds  7.250154  7.250154\n",
      "270 3344  160  110  270      Ds  7.253775  7.253775\n",
      "\n",
      "[267 rows x 6 columns]\n",
      "0.009883615646716182\n"
     ]
    }
   ],
   "source": [
    "\n",
    "#Decision Tree Regression\n",
    "from sklearn.tree import DecisionTreeRegressor\n",
    "regr_1=DecisionTreeRegressor(max_depth=5)\n",
    "regr_2=DecisionTreeRegressor(max_depth=7)\n",
    "regr_3=DecisionTreeRegressor(max_depth=9)\n",
    "regr_1.fit(X.T, Energies)\n",
    "regr_2.fit(X.T, Energies)\n",
    "regr_3.fit(X.T, Energies)\n",
    "\n",
    "\n",
    "y_1 = regr_1.predict(X.T)\n",
    "y_2 = regr_2.predict(X.T)\n",
    "y_3=regr_3.predict(X.T)\n",
    "Masses['Eapprox'] = y_3\n",
    "# Plot the results\n",
    "plt.figure()\n",
    "plt.plot(A, Energies, color=\"blue\", label=\"Data\", linewidth=2)\n",
    "plt.plot(A, y_1, color=\"red\", label=\"max_depth=5\", linewidth=2)\n",
    "plt.plot(A, y_2, color=\"green\", label=\"max_depth=7\", linewidth=2)\n",
    "plt.plot(A, y_3, color=\"m\", label=\"max_depth=9\", linewidth=2)\n",
    "\n",
    "plt.xlabel(\"$A$\")\n",
    "plt.ylabel(\"$E$[MeV]\")\n",
    "plt.title(\"Decision Tree Regression\")\n",
    "plt.legend()\n",
    "save_fig(\"Masses2016Trees\")\n",
    "plt.show()\n",
    "print(Masses)\n",
    "print(np.mean( (Energies-y_1)**2))"
   ]
  },
  {
   "cell_type": "markdown",
   "metadata": {},
   "source": [
    "### More on flexibility with pandas and xarray\n",
    "\n",
    "Let us study the $Q$ values associated with the removal of one or two nucleons from\n",
    "a nucleus. These are conventionally defined in terms of the one-nucleon and two-nucleon\n",
    "separation energies. With the functionality in **pandas**, one to two lines of code will allows us to plot the separation energies.\n",
    "The neutron separation energy is defined as"
   ]
  },
  {
   "cell_type": "markdown",
   "metadata": {},
   "source": [
    "$$\n",
    "S_n= -Q_n= BE(N,Z)-BE(N-1,Z),\n",
    "$$"
   ]
  },
  {
   "cell_type": "markdown",
   "metadata": {},
   "source": [
    "and the proton separation energy reads"
   ]
  },
  {
   "cell_type": "markdown",
   "metadata": {},
   "source": [
    "$$\n",
    "S_p= -Q_p= BE(N,Z)-BE(N,Z-1).\n",
    "$$"
   ]
  },
  {
   "cell_type": "markdown",
   "metadata": {},
   "source": [
    "The two-neutron separation energy is defined as"
   ]
  },
  {
   "cell_type": "markdown",
   "metadata": {},
   "source": [
    "$$\n",
    "S_{2n}= -Q_{2n}= BE(N,Z)-BE(N-2,Z),\n",
    "$$"
   ]
  },
  {
   "cell_type": "markdown",
   "metadata": {},
   "source": [
    "and  the two-proton separation energy is given by"
   ]
  },
  {
   "cell_type": "markdown",
   "metadata": {},
   "source": [
    "$$\n",
    "S_{2p}= -Q_{2p}= BE(N,Z)-BE(N,Z-2).\n",
    "$$"
   ]
  },
  {
   "cell_type": "markdown",
   "metadata": {},
   "source": [
    "Using say the neutron separation energies (alternatively the proton separation energies)"
   ]
  },
  {
   "cell_type": "markdown",
   "metadata": {},
   "source": [
    "$$\n",
    "S_n= -Q_n= BE(N,Z)-BE(N-1,Z),\n",
    "$$"
   ]
  },
  {
   "cell_type": "markdown",
   "metadata": {},
   "source": [
    "we can define the so-called energy gap for neutrons (or protons) as"
   ]
  },
  {
   "cell_type": "markdown",
   "metadata": {},
   "source": [
    "$$\n",
    "\\Delta S_n= BE(N,Z)-BE(N-1,Z)-\\left(BE(N+1,Z)-BE(N,Z)\\right),\n",
    "$$"
   ]
  },
  {
   "cell_type": "markdown",
   "metadata": {},
   "source": [
    "or"
   ]
  },
  {
   "cell_type": "markdown",
   "metadata": {},
   "source": [
    "$$\n",
    "\\Delta S_n= 2BE(N,Z)-BE(N-1,Z)-BE(N+1,Z).\n",
    "$$"
   ]
  },
  {
   "cell_type": "markdown",
   "metadata": {},
   "source": [
    "This quantity can in turn be used to determine which nuclei are magic or not. \n",
    "For protons we would have"
   ]
  },
  {
   "cell_type": "markdown",
   "metadata": {},
   "source": [
    "$$\n",
    "\\Delta S_p= 2BE(N,Z)-BE(N,Z-1)-BE(N,Z+1).\n",
    "$$"
   ]
  },
  {
   "cell_type": "markdown",
   "metadata": {},
   "source": [
    "To calculate say the neutron separation we need to multiply or masses with the nucleon number $A$ (why?).\n",
    "The we pick the oxygen isotopes and simply compute the separation energis in two lines of code."
   ]
  },
  {
   "cell_type": "code",
   "execution_count": 12,
   "metadata": {},
   "outputs": [
    {
     "name": "stdout",
     "output_type": "stream",
     "text": [
      "        A  Z   N Element    Energies\n",
      "A                                   \n",
      "16 72  16  8   8       O  127.619296\n",
      "17 78  17  8   9       O  131.762376\n",
      "18 85  18  8  10       O  139.807746\n"
     ]
    },
    {
     "data": {
      "image/png": "[encoded data removed]",
      "text/plain": [
       "<Figure size 720x432 with 1 Axes>"
      ]
     },
     "metadata": {},
     "output_type": "display_data"
    }
   ],
   "source": [
    "from pylab import plt, mpl\n",
    "plt.style.use('seaborn')\n",
    "mpl.rcParams['font.family'] = 'serif'\n",
    "\n",
    "def MakePlot(x,y, styles, labels, axlabels):\n",
    "    plt.figure(figsize=(10,6))\n",
    "    for i in range(len(x)):\n",
    "        plt.plot(x[i], y[i], styles[i], label = labels[i])\n",
    "        plt.xlabel(axlabels[0])\n",
    "        plt.ylabel(axlabels[1])\n",
    "    plt.legend(loc=0)\n",
    "\n",
    "Energies = Masses['Ebinding']*A\n",
    "df = pd.DataFrame({'A':A,'Z':Z, 'N':N,'Element':Element,'Energies':Energies})\n",
    "Nucleus = df.loc[lambda df: df.Z==8, :]\n",
    "# drop cases with no number\n",
    "Nucleus = Nucleus.dropna()\n",
    "print(Nucleus)\n",
    "Nucleus['NeutronSeparationEnergies'] = Nucleus['Energies'].diff(+1)\n",
    "MakePlot([Nucleus.A], [Nucleus.NeutronSeparationEnergies], ['b'], ['Neutron Separation Energy'], ['$A$','$S_n$'])\n",
    "save_fig('Nucleus')\n",
    "plt.show()"
   ]
  },
  {
   "cell_type": "markdown",
   "metadata": {},
   "source": [
    "### And what about using neural networks?"
   ]
  },
  {
   "cell_type": "code",
   "execution_count": 10,
   "metadata": {},
   "outputs": [
    {
     "name": "stderr",
     "output_type": "stream",
     "text": [
      "/usr/local/lib/python3.7/site-packages/matplotlib/__init__.py:886: MatplotlibDeprecationWarning: \n",
      "examples.directory is deprecated; in the future, examples will be found relative to the 'datapath' directory.\n",
      "  \"found relative to the 'datapath' directory.\".format(key))\n",
      "/usr/local/lib/python3.7/site-packages/sklearn/neural_network/multilayer_perceptron.py:562: ConvergenceWarning: Stochastic Optimizer: Maximum iterations (100) reached and the optimization hasn't converged yet.\n",
      "  % self.max_iter, ConvergenceWarning)\n",
      "/usr/local/lib/python3.7/site-packages/sklearn/neural_network/multilayer_perceptron.py:562: ConvergenceWarning: Stochastic Optimizer: Maximum iterations (100) reached and the optimization hasn't converged yet.\n",
      "  % self.max_iter, ConvergenceWarning)\n",
      "/usr/local/lib/python3.7/site-packages/sklearn/neural_network/multilayer_perceptron.py:562: ConvergenceWarning: Stochastic Optimizer: Maximum iterations (100) reached and the optimization hasn't converged yet.\n",
      "  % self.max_iter, ConvergenceWarning)\n",
      "/usr/local/lib/python3.7/site-packages/sklearn/neural_network/multilayer_perceptron.py:562: ConvergenceWarning: Stochastic Optimizer: Maximum iterations (100) reached and the optimization hasn't converged yet.\n",
      "  % self.max_iter, ConvergenceWarning)\n",
      "/usr/local/lib/python3.7/site-packages/sklearn/neural_network/multilayer_perceptron.py:562: ConvergenceWarning: Stochastic Optimizer: Maximum iterations (100) reached and the optimization hasn't converged yet.\n",
      "  % self.max_iter, ConvergenceWarning)\n",
      "/usr/local/lib/python3.7/site-packages/sklearn/neural_network/multilayer_perceptron.py:562: ConvergenceWarning: Stochastic Optimizer: Maximum iterations (100) reached and the optimization hasn't converged yet.\n",
      "  % self.max_iter, ConvergenceWarning)\n",
      "/usr/local/lib/python3.7/site-packages/sklearn/neural_network/multilayer_perceptron.py:562: ConvergenceWarning: Stochastic Optimizer: Maximum iterations (100) reached and the optimization hasn't converged yet.\n",
      "  % self.max_iter, ConvergenceWarning)\n",
      "/usr/local/lib/python3.7/site-packages/sklearn/neural_network/multilayer_perceptron.py:562: ConvergenceWarning: Stochastic Optimizer: Maximum iterations (100) reached and the optimization hasn't converged yet.\n",
      "  % self.max_iter, ConvergenceWarning)\n",
      "/usr/local/lib/python3.7/site-packages/sklearn/neural_network/multilayer_perceptron.py:562: ConvergenceWarning: Stochastic Optimizer: Maximum iterations (100) reached and the optimization hasn't converged yet.\n",
      "  % self.max_iter, ConvergenceWarning)\n",
      "/usr/local/lib/python3.7/site-packages/sklearn/neural_network/multilayer_perceptron.py:562: ConvergenceWarning: Stochastic Optimizer: Maximum iterations (100) reached and the optimization hasn't converged yet.\n",
      "  % self.max_iter, ConvergenceWarning)\n",
      "/usr/local/lib/python3.7/site-packages/sklearn/neural_network/multilayer_perceptron.py:562: ConvergenceWarning: Stochastic Optimizer: Maximum iterations (100) reached and the optimization hasn't converged yet.\n",
      "  % self.max_iter, ConvergenceWarning)\n",
      "/usr/local/lib/python3.7/site-packages/sklearn/neural_network/multilayer_perceptron.py:562: ConvergenceWarning: Stochastic Optimizer: Maximum iterations (100) reached and the optimization hasn't converged yet.\n",
      "  % self.max_iter, ConvergenceWarning)\n",
      "/usr/local/lib/python3.7/site-packages/sklearn/neural_network/multilayer_perceptron.py:562: ConvergenceWarning: Stochastic Optimizer: Maximum iterations (100) reached and the optimization hasn't converged yet.\n",
      "  % self.max_iter, ConvergenceWarning)\n",
      "/usr/local/lib/python3.7/site-packages/sklearn/neural_network/multilayer_perceptron.py:562: ConvergenceWarning: Stochastic Optimizer: Maximum iterations (100) reached and the optimization hasn't converged yet.\n",
      "  % self.max_iter, ConvergenceWarning)\n",
      "/usr/local/lib/python3.7/site-packages/sklearn/neural_network/multilayer_perceptron.py:562: ConvergenceWarning: Stochastic Optimizer: Maximum iterations (100) reached and the optimization hasn't converged yet.\n",
      "  % self.max_iter, ConvergenceWarning)\n",
      "/usr/local/lib/python3.7/site-packages/sklearn/neural_network/multilayer_perceptron.py:562: ConvergenceWarning: Stochastic Optimizer: Maximum iterations (100) reached and the optimization hasn't converged yet.\n",
      "  % self.max_iter, ConvergenceWarning)\n",
      "/usr/local/lib/python3.7/site-packages/sklearn/neural_network/multilayer_perceptron.py:562: ConvergenceWarning: Stochastic Optimizer: Maximum iterations (100) reached and the optimization hasn't converged yet.\n",
      "  % self.max_iter, ConvergenceWarning)\n",
      "/usr/local/lib/python3.7/site-packages/sklearn/neural_network/multilayer_perceptron.py:562: ConvergenceWarning: Stochastic Optimizer: Maximum iterations (100) reached and the optimization hasn't converged yet.\n",
      "  % self.max_iter, ConvergenceWarning)\n",
      "/usr/local/lib/python3.7/site-packages/sklearn/neural_network/multilayer_perceptron.py:562: ConvergenceWarning: Stochastic Optimizer: Maximum iterations (100) reached and the optimization hasn't converged yet.\n",
      "  % self.max_iter, ConvergenceWarning)\n",
      "/usr/local/lib/python3.7/site-packages/sklearn/neural_network/multilayer_perceptron.py:562: ConvergenceWarning: Stochastic Optimizer: Maximum iterations (100) reached and the optimization hasn't converged yet.\n",
      "  % self.max_iter, ConvergenceWarning)\n",
      "/usr/local/lib/python3.7/site-packages/sklearn/neural_network/multilayer_perceptron.py:562: ConvergenceWarning: Stochastic Optimizer: Maximum iterations (100) reached and the optimization hasn't converged yet.\n",
      "  % self.max_iter, ConvergenceWarning)\n",
      "/usr/local/lib/python3.7/site-packages/sklearn/neural_network/multilayer_perceptron.py:562: ConvergenceWarning: Stochastic Optimizer: Maximum iterations (100) reached and the optimization hasn't converged yet.\n",
      "  % self.max_iter, ConvergenceWarning)\n",
      "/usr/local/lib/python3.7/site-packages/sklearn/neural_network/multilayer_perceptron.py:562: ConvergenceWarning: Stochastic Optimizer: Maximum iterations (100) reached and the optimization hasn't converged yet.\n",
      "  % self.max_iter, ConvergenceWarning)\n",
      "/usr/local/lib/python3.7/site-packages/sklearn/neural_network/multilayer_perceptron.py:562: ConvergenceWarning: Stochastic Optimizer: Maximum iterations (100) reached and the optimization hasn't converged yet.\n",
      "  % self.max_iter, ConvergenceWarning)\n",
      "/usr/local/lib/python3.7/site-packages/sklearn/neural_network/multilayer_perceptron.py:562: ConvergenceWarning: Stochastic Optimizer: Maximum iterations (100) reached and the optimization hasn't converged yet.\n",
      "  % self.max_iter, ConvergenceWarning)\n",
      "/usr/local/lib/python3.7/site-packages/sklearn/neural_network/multilayer_perceptron.py:562: ConvergenceWarning: Stochastic Optimizer: Maximum iterations (100) reached and the optimization hasn't converged yet.\n",
      "  % self.max_iter, ConvergenceWarning)\n",
      "/usr/local/lib/python3.7/site-packages/sklearn/neural_network/multilayer_perceptron.py:562: ConvergenceWarning: Stochastic Optimizer: Maximum iterations (100) reached and the optimization hasn't converged yet.\n",
      "  % self.max_iter, ConvergenceWarning)\n",
      "/usr/local/lib/python3.7/site-packages/sklearn/neural_network/multilayer_perceptron.py:562: ConvergenceWarning: Stochastic Optimizer: Maximum iterations (100) reached and the optimization hasn't converged yet.\n",
      "  % self.max_iter, ConvergenceWarning)\n",
      "/usr/local/lib/python3.7/site-packages/sklearn/neural_network/multilayer_perceptron.py:562: ConvergenceWarning: Stochastic Optimizer: Maximum iterations (100) reached and the optimization hasn't converged yet.\n",
      "  % self.max_iter, ConvergenceWarning)\n",
      "/usr/local/lib/python3.7/site-packages/sklearn/neural_network/multilayer_perceptron.py:562: ConvergenceWarning: Stochastic Optimizer: Maximum iterations (100) reached and the optimization hasn't converged yet.\n",
      "  % self.max_iter, ConvergenceWarning)\n",
      "/usr/local/lib/python3.7/site-packages/sklearn/neural_network/multilayer_perceptron.py:562: ConvergenceWarning: Stochastic Optimizer: Maximum iterations (100) reached and the optimization hasn't converged yet.\n",
      "  % self.max_iter, ConvergenceWarning)\n",
      "/usr/local/lib/python3.7/site-packages/sklearn/neural_network/multilayer_perceptron.py:562: ConvergenceWarning: Stochastic Optimizer: Maximum iterations (100) reached and the optimization hasn't converged yet.\n",
      "  % self.max_iter, ConvergenceWarning)\n",
      "/usr/local/lib/python3.7/site-packages/sklearn/neural_network/multilayer_perceptron.py:562: ConvergenceWarning: Stochastic Optimizer: Maximum iterations (100) reached and the optimization hasn't converged yet.\n",
      "  % self.max_iter, ConvergenceWarning)\n"
     ]
    },
    {
     "name": "stderr",
     "output_type": "stream",
     "text": [
      "/usr/local/lib/python3.7/site-packages/sklearn/neural_network/multilayer_perceptron.py:562: ConvergenceWarning: Stochastic Optimizer: Maximum iterations (100) reached and the optimization hasn't converged yet.\n",
      "  % self.max_iter, ConvergenceWarning)\n",
      "/usr/local/lib/python3.7/site-packages/sklearn/neural_network/multilayer_perceptron.py:562: ConvergenceWarning: Stochastic Optimizer: Maximum iterations (100) reached and the optimization hasn't converged yet.\n",
      "  % self.max_iter, ConvergenceWarning)\n",
      "/usr/local/lib/python3.7/site-packages/sklearn/neural_network/multilayer_perceptron.py:562: ConvergenceWarning: Stochastic Optimizer: Maximum iterations (100) reached and the optimization hasn't converged yet.\n",
      "  % self.max_iter, ConvergenceWarning)\n"
     ]
    },
    {
     "data": {
      "image/png": "[encoded data removed]",
      "text/plain": [
       "<Figure size 720x720 with 2 Axes>"
      ]
     },
     "metadata": {},
     "output_type": "display_data"
    }
   ],
   "source": [
    "\n",
    "X_train = X.T\n",
    "Y_train = Energies\n",
    "n_hidden_neurons = 100\n",
    "epochs = 100\n",
    "from sklearn.neural_network import MLPRegressor\n",
    "from sklearn.metrics import accuracy_score\n",
    "# store models for later use\n",
    "eta_vals = np.logspace(-5, 1, 7)\n",
    "lmbd_vals = np.logspace(-5, 1, 7)\n",
    "# store the models for later use\n",
    "DNN_scikit = np.zeros((len(eta_vals), len(lmbd_vals)), dtype=object)\n",
    "train_accuracy = np.zeros((len(eta_vals), len(lmbd_vals)))\n",
    "import seaborn as sns\n",
    "sns.set()\n",
    "for i, eta in enumerate(eta_vals):\n",
    "    for j, lmbd in enumerate(lmbd_vals):\n",
    "        dnn = MLPRegressor(hidden_layer_sizes=(n_hidden_neurons), activation='logistic',\n",
    "                            alpha=lmbd, learning_rate_init=eta, max_iter=epochs)\n",
    "        dnn.fit(X_train, Y_train)\n",
    "        DNN_scikit[i][j] = dnn\n",
    "        train_accuracy[i][j] = dnn.score(X_train, Y_train)\n",
    "\n",
    "fig, ax = plt.subplots(figsize = (10, 10))\n",
    "sns.heatmap(train_accuracy, annot=True, ax=ax, cmap=\"viridis\")\n",
    "ax.set_title(\"Training Accuracy\")\n",
    "ax.set_ylabel(\"$\\eta$\")\n",
    "ax.set_xlabel(\"$\\lambda$\")\n",
    "plt.show()"
   ]
  },
  {
   "cell_type": "markdown",
   "metadata": {},
   "source": [
    "## A first summary"
   ]
  }
 ],
 "metadata": {
  "kernelspec": {
   "display_name": "Python 3",
   "language": "python",
   "name": "python3"
  },
  "language_info": {
   "codemirror_mode": {
    "name": "ipython",
    "version": 3
   },
   "file_extension": ".py",
   "mimetype": "text/x-python",
   "name": "python",
   "nbconvert_exporter": "python",
   "pygments_lexer": "ipython3",
   "version": "3.7.3"
  }
 },
 "nbformat": 4,
 "nbformat_minor": 2
}

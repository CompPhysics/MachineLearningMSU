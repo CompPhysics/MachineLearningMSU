{
 "cells": [
  {
   "cell_type": "markdown",
   "metadata": {},
   "source": [
    "# Introduction to PCA\n",
    "\n",
    "In this notebook we are going go through the PCA algorithm step by step on a simple data set. We'll also generate the data and visualize the results. Let's get started!"
   ]
  },
  {
   "cell_type": "markdown",
   "metadata": {},
   "source": [
    "## Step 1: Import some modules\n",
    "\n",
    "In the next cell we are going to import the following modules:\n",
    "* `numpy` - for doing math\n",
    "* `matplotlib.pyplot` - for visualization\n",
    "* `seaborn` - for making our visualizations look good"
   ]
  },
  {
   "cell_type": "code",
   "execution_count": null,
   "metadata": {},
   "outputs": [],
   "source": [
    "# This cell imports the modules we will use throughout the notebook\n",
    "\n",
    "import numpy as np\n",
    "import matplotlib.pyplot as plt\n",
    "%matplotlib inline\n",
    "import seaborn as sns\n",
    "sns.set()"
   ]
  },
  {
   "cell_type": "markdown",
   "metadata": {},
   "source": [
    "## Step 2: Generate the data\n",
    "\n",
    "Now we are going to generate some data. The data will be two-dimensional and drawn from a multivariate normal distribution with the following mean and covariance:\n",
    "\n",
    "\\begin{equation*}\n",
    "\\mu = (-1,2) \\qquad \\Sigma = \\left(\n",
    "\\begin{array}{cc}\n",
    "4 & 2 \\\\\n",
    "2 & 2\n",
    "\\end{array}\n",
    "\\right)\n",
    "\\end{equation*}\n",
    "\n",
    "We will generate $N = 1000$ points $X = \\{ x_1, \\ldots, x_N \\}$ from this distribution, and store them in the $1000 \\times 2$ numpy array `X`."
   ]
  },
  {
   "cell_type": "code",
   "execution_count": null,
   "metadata": {},
   "outputs": [],
   "source": [
    "# This cell generates the data\n",
    "\n",
    "N = 1000\n",
    "mean = (-1, 2)\n",
    "cov = [[4, 2], [2, 2]]\n",
    "X = np.random.multivariate_normal(mean, cov, N)"
   ]
  },
  {
   "cell_type": "markdown",
   "metadata": {},
   "source": [
    "## Step 3: Plot the data\n",
    "\n",
    "Now it's your turn. Let's plot the data using `plt.scatter`. Using the `alpha` input parameter is a nice trick here to a get feel for where the points are more densely sampled. You should also make sure the axis lengths are drawn to proportional lengths, so you can visualize the data properly! If you're not sure about something, Google it! There is tons of python documentation online."
   ]
  },
  {
   "cell_type": "code",
   "execution_count": null,
   "metadata": {},
   "outputs": [],
   "source": [
    "# Plot the data in this cell\n"
   ]
  },
  {
   "cell_type": "markdown",
   "metadata": {},
   "source": [
    "## Step 4: PCA\n",
    "\n",
    "Now we are going to implement the PCA algorithm. We will break it down into sub-steps and across multiple cells.\n",
    "\n",
    "### Step 4a: Compute the sample mean and center the data\n",
    "\n",
    "The first step of PCA is to compute the sample mean of the data and use it to center the data. Recall the sample mean is\n",
    "\n",
    "\\begin{equation*}\n",
    "\\mu_N = \\frac{1}{N} \\sum_{i=1}^N x_i\n",
    "\\end{equation*}\n",
    "\n",
    "and the mean-centered data $\\bar{X} = \\{ \\bar{x}_1, \\ldots, \\bar{x}_N \\}$ takes the form\n",
    "\n",
    "\\begin{equation*}\n",
    "\\bar{x}_i = x_i - \\mu_N\n",
    "\\end{equation*}\n",
    "\n",
    "When you are done with these steps, print out $\\mu_N$ to verify it is close to $\\mu$ and plot your mean centered data to verify it is centered at the origin!"
   ]
  },
  {
   "cell_type": "code",
   "execution_count": null,
   "metadata": {},
   "outputs": [],
   "source": [
    "# In this cell compute the sample mean, center the data, and plot the centered data\n"
   ]
  },
  {
   "cell_type": "markdown",
   "metadata": {},
   "source": [
    "### Step 4b: Compute the sample covariance\n",
    "\n",
    "Now we are going to use the mean centered data to compute the sample covariance of the data. Recall it is given by:\n",
    "\n",
    "\\begin{equation*}\n",
    "\\Sigma_N = \\frac{1}{N-1} \\sum_{i=1}^N \\bar{x}_i^T \\bar{x}_i = \\frac{1}{N-1} \\sum_{i=1}^N (x_i - \\mu_N)^T (x_i - \\mu_N)\n",
    "\\end{equation*}\n",
    "\n",
    "where the data points $x_i \\in \\mathbb{R}^p$ (here in this example $p = 2$) are column vectors and $x^T$ is the transpose of $x$. In the next cell, compute the sample covariance matrix. Print it out and compare it to the one used to generate the data!"
   ]
  },
  {
   "cell_type": "code",
   "execution_count": null,
   "metadata": {},
   "outputs": [],
   "source": [
    "# Compute the sample covariance matrix in this cell, and print it out\n",
    "\n"
   ]
  },
  {
   "cell_type": "markdown",
   "metadata": {},
   "source": [
    "### Step 4c: Diagonalize the sample covariance matrix to obtain the principal components\n",
    "\n",
    "Now we are ready to solve for the principal components! To do so we diagonalize the sample covariance matrix $\\Sigma_N$. We can use the function `np.linalg.eig` to do so. It will return the eigenvalues and eigenvectors of $\\Sigma_N$. Once you have these, carry out the following tasks:\n",
    "* Compute the percentage of the total variance captured by the first principal component\n",
    "* Plot the mean centered data and lines along the first and second principal components\n",
    "* Project the mean centered data onto the first and second principal components, and plot the projected data. What do you observe?\n",
    "* Approximate the data as\n",
    "\\begin{equation*}\n",
    "x_i \\approx \\tilde{x}_i := \\mu_N + \\langle x_i, v_0 \\rangle v_0\n",
    "\\end{equation*}\n",
    "where $v_0$ is the first principal component. What do you observe?"
   ]
  },
  {
   "cell_type": "code",
   "execution_count": null,
   "metadata": {},
   "outputs": [],
   "source": [
    "# Diagonalize the sample covariance matrix in this cell, and complete the tasks described in the cell above.\n",
    "# Add additional cells as needed!\n"
   ]
  },
  {
   "cell_type": "markdown",
   "metadata": {},
   "source": [
    "## Step 5: Writing your own PCA function\n",
    "\n",
    "Now in the cell below write your own PCA function. Have the input be the data and have the output be the principal components and their associated eigenvalues, sorted in descending order. Can you think of a way to make it more efficient than the algorithm outlined above?"
   ]
  },
  {
   "cell_type": "code",
   "execution_count": null,
   "metadata": {},
   "outputs": [],
   "source": [
    "# Put your PCA function in this cell\n"
   ]
  },
  {
   "cell_type": "markdown",
   "metadata": {},
   "source": [
    "## Step 6: Test your PCA function on other data\n",
    "\n",
    "Go the the `load_data` notebook and load up some data sets. Visualize the data and try out your PCA function!"
   ]
  },
  {
   "cell_type": "code",
   "execution_count": null,
   "metadata": {},
   "outputs": [],
   "source": []
  }
 ],
 "metadata": {
  "kernelspec": {
   "display_name": "Python 3",
   "language": "python",
   "name": "python3"
  },
  "language_info": {
   "codemirror_mode": {
    "name": "ipython",
    "version": 3
   },
   "file_extension": ".py",
   "mimetype": "text/x-python",
   "name": "python",
   "nbconvert_exporter": "python",
   "pygments_lexer": "ipython3",
   "version": "3.6.5"
  }
 },
 "nbformat": 4,
 "nbformat_minor": 2
}

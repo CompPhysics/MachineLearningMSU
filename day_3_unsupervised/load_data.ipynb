{
 "cells": [
  {
   "cell_type": "markdown",
   "metadata": {},
   "source": [
    "# Load data notebook\n",
    "\n",
    "This notebook contains cells which load or create different data sets. Copy these cells over to your other notebooks when you want to try a method out on a particular data set! For more data, look at these websites:\n",
    "* https://cs.nyu.edu/~roweis/data.html\n",
    "* https://scikit-learn.org/stable/auto_examples/cluster/plot_cluster_comparison.html#sphx-glr-auto-examples-cluster-plot-cluster-comparison-py"
   ]
  },
  {
   "cell_type": "markdown",
   "metadata": {},
   "source": [
    "## Olivetti faces"
   ]
  },
  {
   "cell_type": "code",
   "execution_count": null,
   "metadata": {},
   "outputs": [],
   "source": [
    "# This cell load the Olivetti Faces data set\n",
    "# More information can be found here: https://cs.nyu.edu/~roweis/data.html\n",
    "\n",
    "# Import SciPy so we can load Matlab .mat files\n",
    "import scipy.io as sio\n",
    "\n",
    "# Load the faces data set and extract the faces\n",
    "faces_full = sio.loadmat('olivettiFaces.mat')\n",
    "faces = faces_full['faces']"
   ]
  },
  {
   "cell_type": "markdown",
   "metadata": {},
   "source": [
    "## MNIST handwritten digits"
   ]
  },
  {
   "cell_type": "code",
   "execution_count": null,
   "metadata": {},
   "outputs": [],
   "source": [
    "# This cell loads the MNIST handwritten digits data set\n",
    "# More information can be found here: https://cs.nyu.edu/~roweis/data.html\n",
    "\n",
    "# Import SciPy so we can load Matlab .mat files\n",
    "import scipy.io as sio\n",
    "\n",
    "# Load the MNIST data set\n",
    "# It is partitioned by digit and by training and testing data (the latter for supervised classification)\n",
    "mnist_full = sio.loadmat('mnist_all.mat')"
   ]
  },
  {
   "cell_type": "markdown",
   "metadata": {},
   "source": [
    "## Squares images"
   ]
  },
  {
   "cell_type": "code",
   "execution_count": null,
   "metadata": {},
   "outputs": [],
   "source": [
    "# This cell defines the make_squares function, which creates the images with small squares in them\n",
    "\n",
    "# We'll need numpy for this\n",
    "import numpy as np\n",
    "\n",
    "# This is the function\n",
    "def make_squares(N, n):\n",
    "    '''\n",
    "    squares = MAKE_SQUARES(N, n)\n",
    "    Makes the squares data set.\n",
    "    INPUTS:  N: The images are NxN\n",
    "             n: The small squares in the images are (2n+1)x(2n+1)\n",
    "    OUTPUTS: squares: Numpy array of size N^2 x N x N in which squares[i,:,:] is the ith square image\n",
    "    '''\n",
    "    squares = np.zeros([N**2, N, N])\n",
    "    c = 0\n",
    "    for i in range(N):\n",
    "        for j in range(N):\n",
    "            indi = np.mod(np.arange(i-n, i+n+1), N)\n",
    "            indj = np.mod(np.arange(j-n, j+n+1), N)\n",
    "            for k in range(2*n+1):\n",
    "                squares[c, indi, indj[k]] = 1\n",
    "            c += 1\n",
    "    \n",
    "    return squares"
   ]
  },
  {
   "cell_type": "markdown",
   "metadata": {},
   "source": [
    "## Noisy circles"
   ]
  },
  {
   "cell_type": "code",
   "execution_count": null,
   "metadata": {},
   "outputs": [],
   "source": [
    "# Load the datasets module from Sklearn; also load pyplot to display\n",
    "from sklearn import datasets\n",
    "import matplotlib.pyplot as plt\n",
    "%matplotlib inline\n",
    "\n",
    "# Load the data and display it\n",
    "noisy_circles = datasets.make_circles(n_samples=1024, factor=.5, noise=.05)\n",
    "noisy_circles_data = noisy_circles[0]\n",
    "noisy_circles_labels = noisy_circles[1]\n",
    "plt.scatter(noisy_circles_data[:,0], noisy_circles_data[:,1], [], noisy_circles_labels)\n",
    "plt.axis('equal');"
   ]
  },
  {
   "cell_type": "markdown",
   "metadata": {},
   "source": [
    "## Noisy moons"
   ]
  },
  {
   "cell_type": "code",
   "execution_count": null,
   "metadata": {},
   "outputs": [],
   "source": [
    "# Load the datasets module from Sklearn; also load pyplot to display\n",
    "from sklearn import datasets\n",
    "import matplotlib.pyplot as plt\n",
    "%matplotlib inline\n",
    "\n",
    "# Load the data and display it\n",
    "noisy_moons = datasets.make_moons(n_samples=1024, noise=.05)\n",
    "noisy_moons_data = noisy_moons[0]\n",
    "noisy_moons_labels = noisy_moons[1]\n",
    "plt.scatter(noisy_moons_data[:,0], noisy_moons_data[:,1], [], noisy_moons_labels)\n",
    "plt.axis('equal');"
   ]
  },
  {
   "cell_type": "code",
   "execution_count": null,
   "metadata": {},
   "outputs": [],
   "source": []
  }
 ],
 "metadata": {
  "kernelspec": {
   "display_name": "Python 3",
   "language": "python",
   "name": "python3"
  },
  "language_info": {
   "codemirror_mode": {
    "name": "ipython",
    "version": 3
   },
   "file_extension": ".py",
   "mimetype": "text/x-python",
   "name": "python",
   "nbconvert_exporter": "python",
   "pygments_lexer": "ipython3",
   "version": "3.6.5"
  }
 },
 "nbformat": 4,
 "nbformat_minor": 2
}
